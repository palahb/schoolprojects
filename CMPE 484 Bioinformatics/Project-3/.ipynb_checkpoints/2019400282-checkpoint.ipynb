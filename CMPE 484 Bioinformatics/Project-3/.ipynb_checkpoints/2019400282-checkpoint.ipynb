{
 "cells": [
  {
   "cell_type": "markdown",
   "id": "35eb6b71-166d-4d18-adfa-be739adb9862",
   "metadata": {},
   "source": [
    "# CMPE 484: Bioinformatics and Computational Genomics, Spring 2022\n",
    "## Assignment III -  Genome Assembly\n",
    "### Halil Burak Pala - 2019400282\n",
    "In this assignment, I worked on a genome sequencing problem and used a dataset provided by the [Rosalind](https://rosalind.info/problems/locations/) platform. You can download the dataset from this [link](https://bioinformaticsalgorithms.com/data/extradatasets/assembly/string_reconstruction_from_read_pairs.txt)."
   ]
  },
  {
   "cell_type": "markdown",
   "id": "23532de5-470a-484c-ac2b-6e32bb354b19",
   "metadata": {},
   "source": [
    "### 1a) Loading the Data and Constructing De Bruijn Graph"
   ]
  },
  {
   "cell_type": "code",
   "execution_count": 1,
   "id": "8ef76546-7cb0-41f5-a23d-87df332f91fd",
   "metadata": {},
   "outputs": [],
   "source": [
    "# Loading the whole data:\n",
    "raw_data = \"\".join(open('string_reconstruction_from_read_pairs.txt')).split()\n",
    "\n",
    "# Getting k and d:\n",
    "k, d = int(raw_data[1]),int(raw_data[2])\n",
    "\n",
    "# Getting pairs:\n",
    "pairs = raw_data[3:-2]\n",
    "\n",
    "actual_genome = raw_data[-1]"
   ]
  },
  {
   "cell_type": "code",
   "execution_count": 2,
   "id": "5678ec58-45e5-4867-b24a-718a60617317",
   "metadata": {},
   "outputs": [],
   "source": [
    "# I store the graph as a dictionary:\n",
    "dbgraph = {}\n",
    "\n",
    "# Counting the number of edges between nodes:\n",
    "nof_edges = {}\n",
    "\n",
    "# To keep degree(outdegree-indegree) of the nodes:\n",
    "nodes_degree = {}\n",
    "\n",
    "# Initializing nodes:\n",
    "for pair in pairs:\n",
    "    pair = pair.split('|')\n",
    "    prefix = (pair[0][:-1], pair[1][:-1])\n",
    "    suffix = (pair[0][1:], pair[1][1:])\n",
    "    \n",
    "    nodes_degree[prefix] = 0\n",
    "    nodes_degree[suffix] = 0\n",
    "\n",
    "for pair in pairs:\n",
    "    pair = pair.split('|')\n",
    "    \n",
    "    # Prefixes and suffixes of the paired sequences as a tuple:\n",
    "    # (They will serve as the nodes of our graph)\n",
    "    prefix = (pair[0][:-1], pair[1][:-1])\n",
    "    suffix = (pair[0][1:], pair[1][1:])\n",
    "    \n",
    "    # For every incoming edge increment dthe degree. For every\n",
    "    # outgoing edge, decrement it.\n",
    "    nodes_degree[prefix] += 1\n",
    "    nodes_degree[suffix] -= 1\n",
    "    \n",
    "    # Adding edges to our graph:\n",
    "    if prefix in dbgraph.keys():\n",
    "        dbgraph[prefix].append(suffix)\n",
    "        if (prefix,suffix) in nof_edges.keys():\n",
    "            nof_edges[(prefix,suffix)] += 1\n",
    "        else:\n",
    "            nof_edges[(prefix,suffix)] = 1\n",
    "    else:\n",
    "        dbgraph[prefix] = [suffix]\n",
    "        nof_edges[(prefix,suffix)] = 1\n",
    "\n",
    "# Degree of the starting node for the reconstructed sequence will be greater than 0\n",
    "# because it have some outgoing edges but does not have any incoming edges.\n",
    "startnode = ''\n",
    "for node in nodes_degree:\n",
    "    if nodes_degree[node] > 0:\n",
    "        startnode = node\n",
    "\n",
    "nodes = sorted(list(nodes_degree.keys())) # List of the nodes sorted in alphabetical order"
   ]
  },
  {
   "cell_type": "code",
   "execution_count": 3,
   "id": "e4398aaf-846b-428f-b949-01264bb2a91b",
   "metadata": {},
   "outputs": [],
   "source": [
    "# Creating the upper left size x size part of the adjacency matrix:\n",
    "def adj_matrix(size):\n",
    "    matrix = [[0 for _ in range(size)] for _ in range(size)]\n",
    "    for i in range(size):\n",
    "        for j in range(size):\n",
    "            try:\n",
    "                matrix[i][j] = nof_edges[(nodes[i],nodes[j])]\n",
    "            except:\n",
    "                matrix[i][j] = 0\n",
    "    return matrix"
   ]
  },
  {
   "cell_type": "code",
   "execution_count": 4,
   "id": "bb2f3a0f-b34f-4391-ae18-e21919a12bbd",
   "metadata": {},
   "outputs": [
    {
     "name": "stdout",
     "output_type": "stream",
     "text": [
      "Nodes represented in the matrix in order:\n",
      "('AAAAAAAGCTGGTTAGAATCTGCGAGTAATACGAGCGGGAAAATCTGGA', 'CTTAGGGAGGCCAAGCTATATAAAACCAAGATCATTGACCCCCTACGTG')\n",
      "('AAAAAAGCTGGTTAGAATCTGCGAGTAATACGAGCGGGAAAATCTGGAA', 'TTAGGGAGGCCAAGCTATATAAAACCAAGATCATTGACCCCCTACGTGA')\n",
      "('AAAAAGCTGGTTAGAATCTGCGAGTAATACGAGCGGGAAAATCTGGAAT', 'TAGGGAGGCCAAGCTATATAAAACCAAGATCATTGACCCCCTACGTGAT')\n",
      "('AAAACCAAGATCATTGACCCCCTACGTGATACGTGATTTCAAACTTTAC', 'ACCCTGCTCACTCGATTGGGAATCTAATGCGGTCTGCCATGGGGCGAAG')\n",
      "('AAAACCCTGAGCGGCTTAACCTCATTCGTCCCAGAATCAAACCCATCGT', 'GGAATCTAATGCGGTCTGCCATGGGATTTAAAGTCTACCGTGGGGAGCC')\n",
      "('AAAACTCCCGGACAGAACCGCATATAACCGATGAAGCAAGGGTTCTTCA', 'GGGATCCCTCTGCAGAAAGCGGTGGCGGCGGGTCTAAGCAAGTCCAACG')\n",
      "('AAAAGCTGGTTAGAATCTGCGAGTAATACGAGCGGGAAAATCTGGAATA', 'AGGGAGGCCAAGCTATATAAAACCAAGATCATTGACCCCCTACGTGATA')\n",
      "('AAAAGTCGACTTTCTGTTACAACTGCTCCCTACAAGGGACCCTGCTCAC', 'ATATATACGTCACAGATTAAGTACTCGTCACGAGCTTGAATGGGAAGAT')\n",
      "('AAAATCCCCAGATATGCCGGGGGTGCACGTGAATACGTCGTAAGTTGAG', 'CACCAAGGCACTTCACACAGGCATTACCCCAGCACCACGAATTAGCTTG')\n",
      "('AAAATCTGGAATAACAGAAGCGACACCCTGACCTACAGTCGTTCAGTAC', 'CCCCTACGTGATACGTGATTTCAAACTTTACAATCATTAGGGTCGCCAG')\n",
      "('AAAATTAACTGATTTATCTTCTGATCGATTCCCACACTCCACGAATTGG', 'GGATTGGCTCTTGATGCTAGCGTTTTCATTTTCCATTACAAGACATTAG')\n",
      "('AAAATTCTCTTCGTAAGGAGGGCTTTATAATGTTATGGGCACGACTTCG', 'CCTGACCTACAGTCGTTCAGTACTAGGTTACAAGTGAACCACTCGCGGA')\n",
      "('AAACAAATCGCAGTTTAGCGCTTACCGACAAAGGCGGGAGCTTCGTTCA', 'CGTCAATGTTCCCGGTGAAGGACTGTGTAACGGTCGCCTTCGCGCCCCC')\n",
      "('AAACAAGGTTGTCCTCCAGGTCCTACGTGCTGAACGGCCAACAAGGGAC', 'CTCATTCGTCCCAGAATCAAACCCATCGTGTATCACCGTTGGCCCAGCA')\n",
      "('AAACAATAACTTAGTAAGTGAGTCATGTAGTGTGCTTCCAGGACGAGTC', 'TGAGAGTTAAGTTAACTCACCGTGGCTCAAAAAAAGCTGGTTAGAATCT')\n",
      "('AAACAATCCGATGGGGACCATCTGTGAACTCCCATACGTGACTATTCTG', 'TTATCTTCTGATCGATTCCCACACTCCACGAATTGGGGTGCCATGCTCC')\n",
      "('AAACACTGCCTCCAGCCGGGGGATGCTAATCGTCGCGGTCGGTCCGAGC', 'GCACTGGTCATGTGCCGCTCTGGCACGGCTAGTATCAGGGCCGACTGTG')\n",
      "('AAACCAAGATCATTGACCCCCTACGTGATACGTGATTTCAAACTTTACA', 'CCCTGCTCACTCGATTGGGAATCTAATGCGGTCTGCCATGGGGCGAAGC')\n",
      "('AAACCCATCGTGTATCACCGTTGGCCCAGCAGGGAAGACAAGACAAGGG', 'CGTGGGGAGCCGGACGAGAACAAGACAAGGGACCCTGCTCACTCGATTG')\n",
      "('AAACCCTGAGCGGCTTAACCTCATTCGTCCCAGAATCAAACCCATCGTG', 'GAATCTAATGCGGTCTGCCATGGGATTTAAAGTCTACCGTGGGGAGCCG')\n",
      "Relevant adjacency matrix:\n"
     ]
    },
    {
     "data": {
      "text/plain": [
       "[[0, 1, 0, 0, 0, 0, 0, 0, 0, 0, 0, 0, 0, 0, 0, 0, 0, 0, 0, 0],\n",
       " [0, 0, 1, 0, 0, 0, 0, 0, 0, 0, 0, 0, 0, 0, 0, 0, 0, 0, 0, 0],\n",
       " [0, 0, 0, 0, 0, 0, 1, 0, 0, 0, 0, 0, 0, 0, 0, 0, 0, 0, 0, 0],\n",
       " [0, 0, 0, 0, 0, 0, 0, 0, 0, 0, 0, 0, 0, 0, 0, 0, 0, 1, 0, 0],\n",
       " [0, 0, 0, 0, 0, 0, 0, 0, 0, 0, 0, 0, 0, 0, 0, 0, 0, 0, 0, 1],\n",
       " [0, 0, 0, 0, 0, 0, 0, 0, 0, 0, 0, 0, 0, 0, 0, 0, 0, 0, 0, 0],\n",
       " [0, 0, 0, 0, 0, 0, 0, 0, 0, 0, 0, 0, 0, 0, 0, 0, 0, 0, 0, 0],\n",
       " [0, 0, 0, 0, 0, 0, 0, 0, 0, 0, 0, 0, 0, 0, 0, 0, 0, 0, 0, 0],\n",
       " [0, 0, 0, 0, 0, 0, 0, 0, 0, 0, 0, 0, 0, 0, 0, 0, 0, 0, 0, 0],\n",
       " [0, 0, 0, 0, 0, 0, 0, 0, 0, 0, 0, 0, 0, 0, 0, 0, 0, 0, 0, 0],\n",
       " [0, 0, 0, 0, 0, 0, 0, 0, 0, 0, 0, 0, 0, 0, 0, 0, 0, 0, 0, 0],\n",
       " [0, 0, 0, 0, 0, 0, 0, 0, 0, 0, 0, 0, 0, 0, 0, 0, 0, 0, 0, 0],\n",
       " [0, 0, 0, 0, 0, 0, 0, 0, 0, 0, 0, 0, 0, 0, 0, 0, 0, 0, 0, 0],\n",
       " [0, 0, 0, 0, 0, 0, 0, 0, 0, 0, 0, 0, 0, 0, 0, 0, 0, 0, 0, 0],\n",
       " [0, 0, 0, 0, 0, 0, 0, 0, 0, 0, 0, 0, 0, 0, 0, 0, 0, 0, 0, 0],\n",
       " [0, 0, 0, 0, 0, 0, 0, 0, 0, 0, 0, 0, 0, 0, 0, 0, 0, 0, 0, 0],\n",
       " [0, 0, 0, 0, 0, 0, 0, 0, 0, 0, 0, 0, 0, 0, 0, 0, 0, 0, 0, 0],\n",
       " [0, 0, 0, 0, 0, 0, 0, 0, 0, 0, 0, 0, 0, 0, 0, 0, 0, 0, 0, 0],\n",
       " [0, 0, 0, 0, 0, 0, 0, 0, 0, 0, 0, 0, 0, 0, 0, 0, 0, 0, 0, 0],\n",
       " [0, 0, 0, 0, 0, 0, 0, 0, 0, 0, 0, 0, 0, 0, 0, 0, 0, 0, 0, 0]]"
      ]
     },
     "execution_count": 4,
     "metadata": {},
     "output_type": "execute_result"
    }
   ],
   "source": [
    "print(\"Nodes represented in the matrix in order:\")\n",
    "for i in range(20):\n",
    "    print(nodes[i])\n",
    "print(\"Relevant adjacency matrix:\")\n",
    "adj_matrix(20)"
   ]
  },
  {
   "cell_type": "markdown",
   "id": "2cb25314-bcb9-4007-860b-49a339126954",
   "metadata": {},
   "source": [
    "### 1b) Eulerian Path"
   ]
  },
  {
   "cell_type": "code",
   "execution_count": 5,
   "id": "b6cc5e26-1487-42cd-a6c3-a1f25f82e811",
   "metadata": {},
   "outputs": [
    {
     "data": {
      "text/plain": [
       "[('AACTTTACAATCATTAGGGTCGCCAGTGGAGAATCTATAGAATCTTTTC',\n",
       "  'GGGCGAAGCATACTTACCTTGATCAACGCAGTGATTATTCATCTGAAGA')]"
      ]
     },
     "execution_count": 5,
     "metadata": {},
     "output_type": "execute_result"
    }
   ],
   "source": [
    "dbgraph[('AAACTTTACAATCATTAGGGTCGCCAGTGGAGAATCTATAGAATCTTTT', 'GGGGCGAAGCATACTTACCTTGATCAACGCAGTGATTATTCATCTGAAG')]"
   ]
  },
  {
   "cell_type": "code",
   "execution_count": 6,
   "id": "234cff93-c6d0-4a3c-a2dc-90fba3b7de0f",
   "metadata": {},
   "outputs": [],
   "source": [
    "import copy\n",
    "# Constructing the eulerian path:\n",
    "def eulerian_path(graph_, firstnode):\n",
    "    graph = copy.deepcopy(graph_) # Not to lose actual graph\n",
    "    stack = [] # Auxiliary stack\n",
    "    stack.append(firstnode) # Starting node\n",
    "    path = []\n",
    "    while len(stack) != 0:\n",
    "        node = stack[-1]\n",
    "        try:\n",
    "            next_node = graph[node][0]\n",
    "            stack.append(next_node)\n",
    "            graph[node].remove(next_node)\n",
    "        except:\n",
    "            path.append(stack.pop())\n",
    "    path = path[::-1] # Reverse the list since the head is at the end\n",
    "    return path\n",
    "\n",
    "path = eulerian_path(dbgraph,startnode)\n",
    "\n",
    "# Reconstructing the genome sequence:\n",
    "\n",
    "# Firstly reconstruct the first k+d nucleotide:\n",
    "reconstructed = path[0][0]\n",
    "for pair in path[1:d+2]:\n",
    "    reconstructed += pair[0][-1]\n",
    "\n",
    "# Then reconstruct the rest:\n",
    "reconstructed += path[0][1]\n",
    "for pair in path[1:]:\n",
    "    reconstructed += pair[1][-1]"
   ]
  },
  {
   "cell_type": "code",
   "execution_count": 7,
   "id": "4775bf28-74bb-4eac-830e-80487258d7f1",
   "metadata": {},
   "outputs": [
    {
     "data": {
      "text/plain": [
       "True"
      ]
     },
     "execution_count": 7,
     "metadata": {},
     "output_type": "execute_result"
    }
   ],
   "source": [
    "# Check whether the reconstructed genome is the same as the given output:\n",
    "reconstructed == actual_genome"
   ]
  },
  {
   "cell_type": "markdown",
   "id": "993a80ac-25e7-4f03-bff8-d616ced0bde7",
   "metadata": {},
   "source": [
    "### 1c) First and Last 200 Characters of the Reconstructed Genome:"
   ]
  },
  {
   "cell_type": "code",
   "execution_count": 8,
   "id": "893e3daa-7dca-480d-8a94-796056074ae6",
   "metadata": {},
   "outputs": [
    {
     "name": "stdout",
     "output_type": "stream",
     "text": [
      "First 200 characters:\n",
      "GAAAGGTACAAATACTGGCGACCTCGCTGTTCGACACTTCATCACTGCTCCGGGGCGCTCAGGAGGGACGGTTCCCTGTACCATTGGAAGTCAATAGTCTAAGGTACAAAGAGAAGACCCGACCCGACAGAGGGGGTTCTGCGCCGGGTTTCGAGCTTGTAACCCCCCAGAGAATTAGATCCACCGTCTGTGTGGACAAA\n"
     ]
    }
   ],
   "source": [
    "print(\"First 200 characters:\")\n",
    "print(reconstructed[:200])"
   ]
  },
  {
   "cell_type": "code",
   "execution_count": 9,
   "id": "dbcc396a-f55d-4b84-8a96-dfbeb0a8ddee",
   "metadata": {},
   "outputs": [
    {
     "name": "stdout",
     "output_type": "stream",
     "text": [
      "Last 200 characters:\n",
      "GGGCAAATTATCAGCGTACAATTCCCAGATATATAGGCGGCGAGAAAAGCTTCAAAAGACTTAATTTACTAGCCTCCTACAAACTCTAGATGAGGATTGGCTCTTGATGCTAGCGTTTTCATTTTCCATTACAAGACATTAGGCTGATAATTGCAGAGATTGGCGGCGTAGACTGACAGTCGCGATCAATCTGCGTGTTA\n"
     ]
    }
   ],
   "source": [
    "print(\"Last 200 characters:\")\n",
    "print(reconstructed[-200:])"
   ]
  },
  {
   "cell_type": "markdown",
   "id": "8a800944-30e1-4284-a695-8a78091a7560",
   "metadata": {},
   "source": [
    "### 1d) What If We Had 2N Independent Reads?\n",
    "As we saw in the lectures, in such a case we still may be able to solve such a problem. In such a case, we would follow the same algorithm we followed in this paired case except we would not create pairs in that case, however we would probably have a more complex De Bruijn graph. Also, there can be multiple vaild Eulerian paths for the reconstruction of that graph and that would mean that we are in an inconclusive situation."
   ]
  },
  {
   "cell_type": "markdown",
   "id": "2e0ae95e-79f5-4772-bf6b-4c504507853e",
   "metadata": {},
   "source": [
    "### References\n",
    "1. Lecture notes\n",
    "2. [Rosalind: Reconstruct a String from its Paired Composition](https://rosalind.info/problems/ba3j/)\n",
    "3. [Butskov's _Bioinformatics-Algorithms_ GitHub Repo](https://github.com/Butskov/Bioinformatics-Algorithms)"
   ]
  }
 ],
 "metadata": {
  "kernelspec": {
   "display_name": "Python 3 (ipykernel)",
   "language": "python",
   "name": "python3"
  },
  "language_info": {
   "codemirror_mode": {
    "name": "ipython",
    "version": 3
   },
   "file_extension": ".py",
   "mimetype": "text/x-python",
   "name": "python",
   "nbconvert_exporter": "python",
   "pygments_lexer": "ipython3",
   "version": "3.9.5"
  }
 },
 "nbformat": 4,
 "nbformat_minor": 5
}
