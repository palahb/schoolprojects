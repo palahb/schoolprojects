{
 "cells": [
  {
   "cell_type": "markdown",
   "id": "236adef4-7723-495b-9a54-bcf232e9f52d",
   "metadata": {},
   "source": [
    "# CMPE 484: Bioinformatics and Computational Genomics, Spring 2022\n",
    "## Assignment I -  Pairwise Sequence Alignment\n",
    "### Halil Burak Pala - 2019400282\n",
    "\n",
    "In this project, I implemented Global and Local Alignments with Linear and Affine gap penalties."
   ]
  },
  {
   "cell_type": "markdown",
   "id": "72ff5d32-fb8f-4c43-97f3-1b89c148dd13",
   "metadata": {},
   "source": [
    "To get BLOSUM62 scoring matrix, I used a very small python module, _blosum_ . More information can be found [here](https://pypi.org/project/blosum/)."
   ]
  },
  {
   "cell_type": "code",
   "execution_count": 1,
   "id": "d38da6e5-f668-4895-916f-a3b631387ee6",
   "metadata": {},
   "outputs": [],
   "source": [
    "import blosum as bl\n",
    "blosum62 = bl.BLOSUM(62) # BLOSUM62 scoring matrix"
   ]
  },
  {
   "cell_type": "markdown",
   "id": "0abd47e8-8c06-4a69-aebf-c7914d45af71",
   "metadata": {},
   "source": [
    "### Needleman-Wunch Algorithm (Global Sequence Alignment)\n",
    "\n",
    "#### NW with Linear Gap Penalty\n",
    "Firstly, I created a function for Needleman-Wunch algorithm with _linear gap penalty_:"
   ]
  },
  {
   "cell_type": "code",
   "execution_count": 2,
   "id": "09ae06e7-9007-4a25-aacf-354eea059287",
   "metadata": {},
   "outputs": [],
   "source": [
    "def nw_linear(seq1, seq2, gap_score):\n",
    "    # Our tracing matrix:\n",
    "    table = [[0 for j in range(len(seq2)+1)] for i in range(len(seq1)+1)]\n",
    "    \n",
    "    # Our bactrack matrix:\n",
    "    # Backtrack matrix will keep track of from where we reached to a specific\n",
    "    # entry in the tracing matrix. I will use some integer codes for this purpose.\n",
    "    backtrack = [[0 for j in range(len(seq2)+1)] for i in range(len(seq1)+1)]\n",
    "\n",
    "    # Fill the first row with gap penalties:\n",
    "    for i in range(1,len(seq1)+1):\n",
    "        table[i][0] = i * gap_score\n",
    "\n",
    "    # Fill the first column also with gap penalties:\n",
    "    for j in range(1,len(seq2)+1):\n",
    "        table[0][j] = j * gap_score\n",
    "\n",
    "    # Fill the rest of the table:\n",
    "    for i in range(1, len(seq1)+1): \n",
    "        for j in range(1, len(seq2)+1):\n",
    "            # For every table entry, choose the maximum of delete, insert and match scores.\n",
    "            scores = [table[i-1][j] + gap_score, table[i][j-1] + gap_score, table[i-1][j-1] + blosum62[seq1[i-1]+seq2[j-1]]]\n",
    "            table[i][j] = max(scores)\n",
    "            \n",
    "            # If backtrack[i][j] is:\n",
    "            # 0 -> reached from top\n",
    "            # 1 -> reached from left\n",
    "            # 2 -> reached from diagonal\n",
    "            backtrack[i][j] = scores.index(table[i][j])\n",
    "\n",
    "    # Our alignment score is at the right bottom corner of the table:\n",
    "    alignmentScore = table[len(seq1)][len(seq2)]\n",
    "    \n",
    "    # This is a lambda function for inserting indels:\n",
    "    insertIndel = lambda seq, i: seq[:i] + '-' + seq[i:]\n",
    "\n",
    "    # Now, bactrack and get the alignments:      \n",
    "    alignment1 = seq1\n",
    "    alignment2 = seq2\n",
    "    alignStr = \"\" # Indicates matches, mismatches and indels\n",
    "\n",
    "    # We start from the right bottom corner and identify from which table entry it\n",
    "    # came from.\n",
    "    while i*j != 0:\n",
    "        # If the entry is equal to match score + diagonal entry:\n",
    "        if backtrack[i][j] == 0:\n",
    "            i -= 1\n",
    "            alignment2 = insertIndel(alignment2, j)\n",
    "            alignStr += \"-\"\n",
    "        elif backtrack[i][j] == 1:\n",
    "            j -= 1\n",
    "            alignment1 = insertIndel(alignment1, i)\n",
    "            alignStr += \"-\"\n",
    "        else:\n",
    "            i -= 1\n",
    "            j -= 1\n",
    "            alignStr += \"|\" if alignment1[i] == alignment2[j] else \".\"\n",
    "            \n",
    "    # Fill the rest of the alignments with indels:\n",
    "    for _ in range(i):\n",
    "        alignment2 = insertIndel(alignment2, 0)\n",
    "        alignStr += \"-\"\n",
    "    for _ in range(j):\n",
    "        alignment1 = insertIndel(alignment1, 0)\n",
    "        alignStr += \"-\"\n",
    "    \n",
    "    alignStr = alignStr[::-1]\n",
    "    \n",
    "    return \"Score: \" + str(alignmentScore), alignment1, alignStr, alignment2"
   ]
  },
  {
   "cell_type": "markdown",
   "id": "8c86ccf9-7579-46cc-92ff-256e3751708e",
   "metadata": {},
   "source": [
    "#### NW with Affine Gap Penalty\n",
    "Secondly, I created the Needleman-Wunch Algorithm with _affine gap penalty_:"
   ]
  },
  {
   "cell_type": "code",
   "execution_count": 3,
   "id": "7303ec25-12fc-420d-aa13-f92b10a6f0f4",
   "metadata": {},
   "outputs": [],
   "source": [
    "def nw_affine(seq1, seq2, open_gap_score, extend_gap_score):\n",
    "    # In affine gap penalty case, we have three tables: lower, main and upper tables.\n",
    "    # upper table is for deletions, lower table is for insertions, main table is for\n",
    "    # matches.\n",
    "    \n",
    "    # Initialization of tables:\n",
    "    \n",
    "    # Here, I initialized upper table. Except the poisition [0,0], first row of the \n",
    "    # upper table is filled with -infinity, first row is initialized with gap penalties.\n",
    "    upperTable = [[0 for j in range(len(seq2)+1)] for i in range(len(seq1)+1)]\n",
    "    for i in range(0,len(seq2)+1):\n",
    "        upperTable[0][i] = -float(\"inf\")\n",
    "    for i in range(1,len(seq1)+1):\n",
    "        upperTable[i][0] = open_gap_score + (i-1) * extend_gap_score\n",
    "\n",
    "    # Here, I initialized main table. Except the poisition [0,0], first row and first\n",
    "    # column of the table is initialized with gap penalties.\n",
    "    mainTable = [[0 for j in range(len(seq2)+1)] for i in range(len(seq1)+1)]\n",
    "    for i in range(1,len(seq2)+1):\n",
    "        mainTable[0][i] = open_gap_score + (i-1) * extend_gap_score\n",
    "    for i in range(1,len(seq1)+1):\n",
    "        mainTable[i][0] = open_gap_score + (i-1) * extend_gap_score\n",
    "\n",
    "    # Here, I initialized lower table. Except the poisition [0,0], first column of the \n",
    "    # lower table is filled with -infinity, first column is initialized with gap penalties.\n",
    "    lowerTable = [[0 for j in range(len(seq2)+1)] for i in range(len(seq1)+1)]\n",
    "    for i in range(0,len(seq1)+1):\n",
    "        lowerTable[i][0] = -float(\"inf\")\n",
    "    for i in range(1,len(seq2)+1):\n",
    "        lowerTable[0][i] = open_gap_score + (i-1) * extend_gap_score\n",
    "\n",
    "    # Here, I created bactracking matrices. Since, we have three tables, we have also\n",
    "    # three backtracking tables for every one of them. \n",
    "    lowerBacktrack = [[0 for j in range(len(seq2)+1)] for i in range(len(seq1)+1)]\n",
    "    mainBacktrack = [[0 for j in range(len(seq2)+1)] for i in range(len(seq1)+1)]\n",
    "    upperBacktrack = [[0 for j in range(len(seq2)+1)] for i in range(len(seq1)+1)]\n",
    "\n",
    "    # Filling the tables:\n",
    "    for i in range(1, len(seq1)+1):\n",
    "        for j in range(1, len(seq2)+1):\n",
    "            # Here is for checking extending a deletion or creating an deletion:\n",
    "            upperScores = [upperTable[i-1][j] + extend_gap_score, mainTable[i-1][j] + open_gap_score]\n",
    "            upperTable[i][j] = max(upperScores)\n",
    "            upperBacktrack[i][j] = upperScores.index(upperTable[i][j])  # Here, I keep from where I reached that entry. To store it\n",
    "                                                                        # I give some numbers to tables. The same procedure applies\n",
    "                                                                        # also for other cases:\n",
    "\n",
    "            # Here is for checking extending an insertion or creating an insertion:\n",
    "            lowerScores = [lowerTable[i][j-1] + extend_gap_score, mainTable[i][j-1] + open_gap_score]\n",
    "            lowerTable[i][j] = max(lowerScores)\n",
    "            lowerBacktrack[i][j] = lowerScores.index(lowerTable[i][j])\n",
    "\n",
    "            # Here is for checking a match or any deletion or insertion:\n",
    "            middleScores = [upperTable[i][j], mainTable[i-1][j-1] + blosum62[seq1[i-1]+seq2[j-1]], lowerTable[i][j]]\n",
    "            mainTable[i][j] = max(middleScores)\n",
    "            mainBacktrack[i][j] = middleScores.index(mainTable[i][j])\n",
    "\n",
    "    # Bactrack and get the alignments:\n",
    "    \n",
    "    # Backtracking in affine gap penalty case is somehow tricky. We need to check every backtrack table and go back and forth\n",
    "    # between these tables to get the exact alignments. \n",
    "    \n",
    "    # Initialization of variables:\n",
    "    i = len(seq1)\n",
    "    j = len(seq2)\n",
    "    alignment1 = seq1\n",
    "    alignment2 = seq2\n",
    "\n",
    "    # We will firstly choose the maximum of the bottom right corner entries of backtrack tables.\n",
    "    # Then start checking these tables. We use a backtracking code: backtrackMatrixNo to indicate \n",
    "    # changing backtrack tables. According to this backtrack code, we will determine which table\n",
    "    # we will look next for determining the correct path.\n",
    "    matrixScores = [upperTable[i][j], mainTable[i][j], lowerTable[i][j]]\n",
    "    alignmentScore = max(matrixScores)\n",
    "    backtrackMatrixNo = matrixScores.index(alignmentScore)\n",
    "\n",
    "    # This is a lambda function for inserting indels:\n",
    "    insertIndel = lambda seq, i: seq[:i] + '-' + seq[i:]\n",
    "    \n",
    "    alignStr = \"\"\n",
    "\n",
    "    while i*j != 0: \n",
    "        if backtrackMatrixNo == 0:  # Look at upper backtrack table:\n",
    "            if upperBacktrack[i][j] == 1:# If this entry indicates that next entry is a deletion ...\n",
    "                backtrackMatrixNo = 1 # ...then change the backtrack code accordingly.\n",
    "            i -= 1 # Move up...\n",
    "            alignment2 = insertIndel(alignment2, j) # ..and insert an indel to seq2.\n",
    "            alignStr += \"-\"\n",
    "\n",
    "        elif backtrackMatrixNo == 1:  # Look at main backtrack table:\n",
    "            if mainBacktrack[i][j] == 0: # If this entry indicates that next entry is an insertion ...\n",
    "                backtrackMatrixNo = 0 # ...then change the backtrack code accordingly.\n",
    "            elif mainBacktrack[i][j] == 2: # If this entry indicates that next entry is a deletion...\n",
    "                backtrackMatrixNo = 2 # ...then change the backtrack code accordingly.\n",
    "            else: # If next entry indicates a match, move diagonally:\n",
    "                i -= 1\n",
    "                j -= 1\n",
    "                alignStr += \"|\" if alignment1[i] == alignment2[j] else \".\"\n",
    "\n",
    "        else: # Look at lower backtrack table:\n",
    "            if lowerBacktrack[i][j] == 1:# If this entry indicates that next entry is a match...\n",
    "                backtrackMatrixNo = 1 # ...then change the backtrack code accordingly.\n",
    "            j -= 1 # Move left...\n",
    "            alignment1 = insertIndel(alignment1, i) # ..and insert an indel to seq1.\n",
    "            alignStr += \"-\"\n",
    "\n",
    "    # Insert indels for the rest:\n",
    "    for _ in range(i):\n",
    "        alignment2 = insertIndel(alignment2, 0)\n",
    "        alignStr += \"-\"\n",
    "    for _ in range(j):\n",
    "        alignment1 = insertIndel(alignment1, 0)\n",
    "        alignStr += \"-\"\n",
    "        \n",
    "    alignStr = alignStr[::-1]\n",
    "        \n",
    "    return \"Score: \" + str(alignmentScore), alignment1, alignStr, alignment2"
   ]
  },
  {
   "cell_type": "markdown",
   "id": "04c47fd7-2f9b-42d5-af6b-a87a833daa01",
   "metadata": {},
   "source": [
    "Here is our __Needleman-Wunsch Algorithm__:"
   ]
  },
  {
   "cell_type": "code",
   "execution_count": 4,
   "id": "c495668e-5a5b-4a8d-b5a1-4511aea1680d",
   "metadata": {},
   "outputs": [],
   "source": [
    "def needleman_wunsch_algorithm(seq1, seq2, penalty_params):\n",
    "    n = len(seq1) # nofrows  \n",
    "    m = len(seq2) # nofcolumns\n",
    "    \n",
    "    if penalty_params['penalty_type'] == 'linear':\n",
    "        # Assumed indel score given as gap_opening_penalty\n",
    "        return nw_linear(seq1, seq2, penalty_params['gap_opening_penalty'])\n",
    "    \n",
    "    else: # AFFINE GAP PENALTY \n",
    "        return nw_affine(seq1, seq2, penalty_params['gap_opening_penalty'], penalty_params['gap_extension_penalty'])\n",
    "    "
   ]
  },
  {
   "cell_type": "markdown",
   "id": "4251aa21-e009-4a6f-9156-382b8b8c3083",
   "metadata": {},
   "source": [
    "### Smith-Waterman Algorithm (Local Sequence Alignment)\n",
    "#### SW with Linear Gap Penalty\n",
    "Here, I created a function for Smith-Waterman Algorithm with _linear gap penalty_. It is almost the same with Needleman Wunsch, but thist time we set every negative entry in tracing matrix to 0."
   ]
  },
  {
   "cell_type": "code",
   "execution_count": 5,
   "id": "b9f32690-02cf-4008-ae91-9edc40e3419d",
   "metadata": {},
   "outputs": [],
   "source": [
    " def sw_linear(seq1, seq2, gap_score):\n",
    "    \n",
    "    # Our tracing matrix:\n",
    "    table = [[0 for j in range(len(seq2)+1)] for i in range(len(seq1)+1)]\n",
    "\n",
    "    # Our bactrack matrix:\n",
    "    # Backtrack matrix will keep track of from where we reached to a specific\n",
    "    # entry in the tracing matrix. I will use some integer codes for this purpose.\n",
    "    backtrack = [[0 for j in range(len(seq2)+1)] for i in range(len(seq1)+1)]\n",
    "\n",
    "    # We should keep track of maximum score and its position\n",
    "    maxScore = -float(\"inf\")\n",
    "    maxScorePosition = (0,0)\n",
    "\n",
    "    # Filing the score and backtrack matrices:\n",
    "    for i in range(1, len(seq1)+1):\n",
    "        for j in range(1, len(seq2)+1):\n",
    "            scores = [table[i-1][j] + gap_score, table[i][j-1] + gap_score, table[i-1][j-1] + blosum62[seq1[i-1]+seq2[j-1]], 0]\n",
    "            table[i][j] = max(scores)\n",
    "\n",
    "            # If backtrack[i][j] is:\n",
    "            # 0 -> reached from top\n",
    "            # 1 -> reached from left\n",
    "            # 2 -> reached from diagonal\n",
    "            # 3 -> end of the sequence\n",
    "            backtrack[i][j] = scores.index(table[i][j])\n",
    "            # Update maximum if necessary:\n",
    "            if table[i][j] > maxScore:\n",
    "                maxScore = table[i][j]\n",
    "                maxScorePosition = (i,j)\n",
    "\n",
    "    (i,j) = maxScorePosition\n",
    "\n",
    "    alignment1, alignment2 = seq1, seq2\n",
    "\n",
    "    # This is a lambda function for inserting indels:\n",
    "    insertIndel = lambda seq, i: seq[:i] + '-' + seq[i:]\n",
    "\n",
    "    alignStr = \"\" # Indicates matches, mismatches and indels\n",
    "\n",
    "    # We backtrack until we reach to a 0 or to the edges of the table\n",
    "    while backtrack[i][j] != 3 and i*j != 0:\n",
    "        if backtrack[i][j] == 0: # Reached from top:\n",
    "            i -= 1\n",
    "            alignment2 = insertIndel(alignment2, j)\n",
    "            alignStr += \"-\"\n",
    "        elif backtrack[i][j] == 1: # Reached from left:\n",
    "            j -= 1\n",
    "            alignment1 = insertIndel(alignment1, i)\n",
    "            alignStr += \"-\"\n",
    "        elif backtrack[i][j] == 2: # Reached from diagonal:\n",
    "            i -= 1\n",
    "            j -= 1\n",
    "            alignStr += \"|\" if alignment1[i] == alignment2[j] else \".\"\n",
    "\n",
    "    # Fill the rest with spaces:\n",
    "    if min(i,j) == i:\n",
    "        alignment1 = (j-i) * \" \" + alignment1\n",
    "    else:    \n",
    "        alignment2 = (i-j) * \" \" + alignment2\n",
    "\n",
    "    alignStr += max(i,j) * \" \"\n",
    "    alignStr = alignStr[::-1]\n",
    "    \n",
    "    return \"Score: \" + str(maxScore), alignment1, alignStr, alignment2"
   ]
  },
  {
   "cell_type": "markdown",
   "id": "988cafa4-5174-4e50-9d53-2171e74587b8",
   "metadata": {},
   "source": [
    "#### SW with Affine Gap Penalty\n",
    "Here, I created the Smith-Waterman Algorithm with _affine gap penalty_. Actually, it is almost the same algorithm with Needleman-Wunsch, except this time we consider every negative entry in the main tracking table as 0."
   ]
  },
  {
   "cell_type": "code",
   "execution_count": 6,
   "id": "991d1b38-1ba9-4728-b210-83d865638255",
   "metadata": {},
   "outputs": [],
   "source": [
    "def sw_affine(seq1, seq2, open_gap_score, extend_gap_score):\n",
    "    # In affine gap penalty case, we have three tables: lower, main and upper tables.\n",
    "    # upper table is for deletions, lower table is for insertions, main table is for\n",
    "    # matches.\n",
    "    \n",
    "    # Initialization of tables:\n",
    "    \n",
    "    # Here, I initialized upper table. Except the poisition [0,0], first row of the \n",
    "    # upper table is filled with -infinity, first row is initialized with gap penalties.\n",
    "    upperTable = [[0 for j in range(len(seq2)+1)] for i in range(len(seq1)+1)]\n",
    "    for i in range(0,len(seq2)+1):\n",
    "        upperTable[0][i] = -float(\"inf\")\n",
    "    for i in range(1,len(seq1)+1):\n",
    "        upperTable[i][0] = open_gap_score + (i-1) * extend_gap_score\n",
    "\n",
    "    # Here, I initialized main table. Except the poisition [0,0], first row and first\n",
    "    # column of the table is initialized with 0 (since this is local alignment).\n",
    "    mainTable = [[0 for j in range(len(seq2)+1)] for i in range(len(seq1)+1)]\n",
    "    for i in range(1,len(seq2)+1):\n",
    "        mainTable[0][i] = 0\n",
    "    for i in range(1,len(seq1)+1):\n",
    "        mainTable[i][0] = 0\n",
    "\n",
    "    # Here, I initialized lower table. Except the poisition [0,0], first column of the \n",
    "    # lower table is filled with -infinity, first column is initialized with gap penalties.\n",
    "    lowerTable = [[0 for j in range(len(seq2)+1)] for i in range(len(seq1)+1)]\n",
    "    for i in range(0,len(seq1)+1):\n",
    "        lowerTable[i][0] = -float(\"inf\")\n",
    "    for i in range(1,len(seq2)+1):\n",
    "        lowerTable[0][i] = open_gap_score + (i-1) * extend_gap_score\n",
    "\n",
    "    # Here, I created bactracking matrices. Since, we have three tables, we have also\n",
    "    # three backtracking tables for every one of them. \n",
    "    lowerBacktrack = [[0 for j in range(len(seq2)+1)] for i in range(len(seq1)+1)]\n",
    "    mainBacktrack = [[0 for j in range(len(seq2)+1)] for i in range(len(seq1)+1)]\n",
    "    upperBacktrack = [[0 for j in range(len(seq2)+1)] for i in range(len(seq1)+1)]\n",
    "\n",
    "    # We should keep track of max score and its coordinates:\n",
    "    maxScore = -float(\"inf\")\n",
    "    maxScorePosition = (0,0)\n",
    "    \n",
    "    alignStr = \"\"\n",
    "    # Filling the tables:\n",
    "    for i in range(1, len(seq1)+1):\n",
    "        for j in range(1, len(seq2)+1):\n",
    "            # Here is for checking extending a deletion or creating an deletion:\n",
    "            upperScores = [upperTable[i-1][j] + extend_gap_score, mainTable[i-1][j] + open_gap_score]\n",
    "            upperTable[i][j] = max(upperScores)\n",
    "            upperBacktrack[i][j] = upperScores.index(upperTable[i][j])  # Here, I keep from where I reached that entry. To store it\n",
    "                                                                        # I give some numbers to tables. The same procedure applies\n",
    "                                                                        # also for other cases:\n",
    "\n",
    "            # Here is for checking extending an insertion or creating an insertion:\n",
    "            lowerScores = [lowerTable[i][j-1] + extend_gap_score, mainTable[i][j-1] + open_gap_score]\n",
    "            lowerTable[i][j] = max(lowerScores)\n",
    "            lowerBacktrack[i][j] = lowerScores.index(lowerTable[i][j])\n",
    "\n",
    "            # Here, this time we check also for 0:\n",
    "            middleScores = [upperTable[i][j], mainTable[i-1][j-1] + blosum62[seq1[i-1]+seq2[j-1]], lowerTable[i][j], 0] \n",
    "            mainTable[i][j] = max(middleScores)\n",
    "            mainBacktrack[i][j] = middleScores.index(mainTable[i][j])\n",
    "\n",
    "            if mainTable[i][j] > maxScore:\n",
    "                maxScore = mainTable[i][j]\n",
    "                maxScorePosition = (i,j)\n",
    "\n",
    "    # Bactrack and get the alignments:\n",
    "    \n",
    "    # Backtracking in affine gap penalty case is somehow tricky. We need to check every backtrack table and go back and forth\n",
    "    # between these tables to get the exact alignments. \n",
    "    \n",
    "    # Initialization of variables:\n",
    "    i, j = maxScorePosition\n",
    "    alignment1 = seq1\n",
    "    alignment2 = seq2\n",
    "\n",
    "    # This time we start inspecting tables by the main one:\n",
    "    backtrackMatrixNo = 1\n",
    "\n",
    "    # This is a lambda function for inserting indels:\n",
    "    insertIndel = lambda seq, i: seq[:i] + '-' + seq[i:]\n",
    "    insertSpace = lambda seq, i: seq[:i] + ' ' + seq[i:]\n",
    "    \n",
    "    alignStr = \"\"\n",
    "    while mainBacktrack[i][j] != 3 and i*j != 0: \n",
    "        if backtrackMatrixNo == 0:  # Look at upper backtrack table:\n",
    "            if upperBacktrack[i][j] == 1:# If this entry indicates that next entry is a deletion ...\n",
    "                backtrackMatrixNo = 1 # ...then change the backtrack code accordingly.\n",
    "            i -= 1 # Move up...\n",
    "            alignment2 = insertIndel(alignment2, j) # ..and insert an indel to seq2.\n",
    "            alignStr += \"-\"\n",
    "\n",
    "        elif backtrackMatrixNo == 1:  # Look at main backtrack table:\n",
    "            if mainBacktrack[i][j] == 0: # If this entry indicates that next entry is an insertion ...\n",
    "                backtrackMatrixNo = 0 # ...then change the backtrack code accordingly.\n",
    "            elif mainBacktrack[i][j] == 2: # If this entry indicates that next entry is a deletion...\n",
    "                backtrackMatrixNo = 2 # ...then change the backtrack code accordingly.\n",
    "            else: # If next entry indicates a match, move diagonally:\n",
    "                i -= 1\n",
    "                j -= 1\n",
    "                alignStr += \"|\" if alignment1[i] == alignment2[j] else \".\"\n",
    "\n",
    "        else: # Look at lower backtrack table:\n",
    "            if lowerBacktrack[i][j] == 1:# If this entry indicates that next entry is a match...\n",
    "                backtrackMatrixNo = 1 # ...then change the backtrack code accordingly.\n",
    "            j -= 1 # Move left...\n",
    "            alignment1 = insertIndel(alignment1, i) # ..and insert an indel to seq1.\n",
    "            alignStr += \"-\"\n",
    "    \n",
    "    # Insert spaces for the rest:\n",
    "    if min(i,j) == i:\n",
    "        alignment1 = (j-i) * \" \" + alignment1\n",
    "    else:    \n",
    "        alignment2 = (i-j) * \" \" + alignment2\n",
    "    \n",
    "    alignStr += max(i,j) * \" \"\n",
    "    \n",
    "    alignStr = alignStr[::-1]\n",
    "    \n",
    "    return \"Score: \" + str(maxScore), alignment1, alignStr, alignment2\n",
    "    "
   ]
  },
  {
   "cell_type": "markdown",
   "id": "3e735ec3-0a19-4983-90f6-e04bec3531db",
   "metadata": {},
   "source": [
    "And here is the __Smith-Waterman algorithm__:"
   ]
  },
  {
   "cell_type": "code",
   "execution_count": 7,
   "id": "c56f9f4d-2306-4104-9249-15c3e00523fe",
   "metadata": {},
   "outputs": [],
   "source": [
    "def smith_waterman_algorithm(seq1, seq2, penalty_params):\n",
    "    \n",
    "    if penalty_params['penalty_type'] == 'linear':\n",
    "        # Assumed indel score given as gap_opening_penalty\n",
    "        return sw_linear(seq1, seq2, penalty_params['gap_opening_penalty'])\n",
    "\n",
    "    else: # AFFINE GAP PENALTY \n",
    "        return sw_affine(seq1,seq2,penalty_params['gap_opening_penalty'],penalty_params['gap_extension_penalty'])"
   ]
  },
  {
   "cell_type": "markdown",
   "id": "0d274d47-3b40-4c90-a9ac-6f1583d24c09",
   "metadata": {},
   "source": [
    "### Generic Sequence Alignment Function"
   ]
  },
  {
   "cell_type": "markdown",
   "id": "0e923412-c906-442f-9a5d-c7339829ea7d",
   "metadata": {},
   "source": [
    "Here is our generic function."
   ]
  },
  {
   "cell_type": "code",
   "execution_count": 8,
   "id": "63cceb2a-270f-468b-97d2-dbab5aa40aa8",
   "metadata": {},
   "outputs": [],
   "source": [
    "def align_sequences(seq1, seq2, algorithm, penalty_params):\n",
    "    if algorithm == 'global':\n",
    "        print('\\n'.join(needleman_wunsch_algorithm(seq1, seq2, penalty_params)))\n",
    "    elif algorithm == 'local': \n",
    "        print('\\n'.join(smith_waterman_algorithm(seq1, seq2, penalty_params)))\n",
    "    else:\n",
    "        raise NotImplementedError"
   ]
  },
  {
   "cell_type": "markdown",
   "id": "ff0e558d-c5f7-45af-835c-fbb5969b464a",
   "metadata": {},
   "source": [
    "### Testing"
   ]
  },
  {
   "cell_type": "code",
   "execution_count": 9,
   "id": "498d3a4d-c279-4534-942e-8ebb80592242",
   "metadata": {},
   "outputs": [],
   "source": [
    "# To generate random sequences:\n",
    "import random\n",
    "random.seed(2022)\n",
    "\n",
    "aminoacids = ['A', 'R', 'N', 'D', 'C', 'Q', 'E', 'G', 'H', 'I', 'L', 'K', 'M', 'F', 'P', 'S', 'T', 'W', 'Y', 'V']\n",
    "\n",
    "def generate_sequence(length=50):    \n",
    "    return ''.join([random.choice(aminoacids) for i in range(length)])\n",
    "\n",
    "def mutate_sequence(seq, n_mutations=35):\n",
    "    seq = list(seq)\n",
    "    pos = {random.randint(1, len(seq)): random.choice(['substitute', 'delete']) for i in range(n_mutations)}   \n",
    "    mutated_sequence = ''\n",
    "    for ix, aminoacid in enumerate(seq):\n",
    "        if ix in pos:\n",
    "            if pos[ix] == 'substitute':\n",
    "                mutated_sequence += random.choice(aminoacids)\n",
    "        else:\n",
    "            mutated_sequence += aminoacid             \n",
    "    return mutated_sequence\n",
    "\n",
    "def create_random_sequences():\n",
    "    sample_sequence = generate_sequence()\n",
    "    sequence1 = mutate_sequence(sample_sequence)\n",
    "    sequence2 = mutate_sequence(sample_sequence)\n",
    "    return sequence1, sequence2"
   ]
  },
  {
   "cell_type": "code",
   "execution_count": 10,
   "id": "ab5c52bd-2a3c-47b0-a456-84d1ab080ebf",
   "metadata": {},
   "outputs": [],
   "source": [
    "# BioPython's alignment function for checking our results:\n",
    "from Bio.Align import substitution_matrices\n",
    "from Bio import Align \n",
    "def align_sequences_biopython(seq1, seq2, algorithm, penalty_params):\n",
    "    aligner = Align.PairwiseAligner()\n",
    "    aligner.substitution_matrix = substitution_matrices.load(\"BLOSUM62\")\n",
    "    if penalty_params['penalty_type'] == 'linear':\n",
    "        aligner.open_gap_score = penalty_params['gap_opening_penalty'] \n",
    "        aligner.extend_gap_score = penalty_params['gap_opening_penalty'] \n",
    "    else:\n",
    "        aligner.open_gap_score = penalty_params['gap_opening_penalty'] # -11\n",
    "        aligner.extend_gap_score = penalty_params['gap_extension_penalty'] # -1\n",
    "    aligner.mode = algorithm\n",
    "    for alignment in aligner.align(seq1, seq2):\n",
    "        print('Score:', alignment.score)\n",
    "        print(alignment)"
   ]
  },
  {
   "cell_type": "markdown",
   "id": "390659c0-6855-4857-be1d-030a76ff8f91",
   "metadata": {},
   "source": [
    "Now, I tested my functions with 3 given samples and 4 new random samples that I created."
   ]
  },
  {
   "cell_type": "markdown",
   "id": "276ed6ae-42ae-4c75-a71b-60abfbf17c01",
   "metadata": {},
   "source": [
    "#### Sample 1"
   ]
  },
  {
   "cell_type": "code",
   "execution_count": 11,
   "id": "4adb999b-6e22-48c6-bf32-b9b00873bff7",
   "metadata": {},
   "outputs": [],
   "source": [
    "sample1_sequence1 = \"PLEASANTLY\"\n",
    "sample1_sequence2 = \"MEANLY\""
   ]
  },
  {
   "cell_type": "markdown",
   "id": "3e94bf7f-9c8c-47b5-b7b7-5c139b112b17",
   "metadata": {},
   "source": [
    "##### Global - Linear Gap Penalty"
   ]
  },
  {
   "cell_type": "markdown",
   "id": "e520d7bb-415f-4bf6-a88b-dfebad021bc2",
   "metadata": {},
   "source": [
    "Here is what my function gives:"
   ]
  },
  {
   "cell_type": "code",
   "execution_count": 12,
   "id": "f1f3ddaf-e00f-40c7-957b-ffb904649d4c",
   "metadata": {},
   "outputs": [
    {
     "name": "stdout",
     "output_type": "stream",
     "text": [
      "Score: -16.0\n",
      "PLEASANTLY\n",
      "-.||--|-||\n",
      "-MEA--N-LY\n"
     ]
    }
   ],
   "source": [
    "align_sequences(sample1_sequence1, sample1_sequence2, 'global', {'penalty_type': 'linear', 'gap_opening_penalty': -11, 'gap_extension_penalty': -1})"
   ]
  },
  {
   "cell_type": "markdown",
   "id": "0380499f-aed1-4836-b02e-7e29b0dba504",
   "metadata": {},
   "source": [
    "Here is what BioPython gives:"
   ]
  },
  {
   "cell_type": "code",
   "execution_count": 13,
   "id": "eda83d32-6ccc-4e90-94b3-8f456e31fe80",
   "metadata": {},
   "outputs": [
    {
     "name": "stdout",
     "output_type": "stream",
     "text": [
      "Score: -16.0\n",
      "PLEASANTLY\n",
      "-.||--|-||\n",
      "-MEA--N-LY\n",
      "\n",
      "Score: -16.0\n",
      "PLEASANTLY\n",
      "-.|--||-||\n",
      "-ME--AN-LY\n",
      "\n"
     ]
    }
   ],
   "source": [
    "align_sequences_biopython(sample1_sequence1, sample1_sequence2, 'global', {'penalty_type': 'linear', 'gap_opening_penalty': -11, 'gap_extension_penalty': -1})"
   ]
  },
  {
   "cell_type": "markdown",
   "id": "e32a3146-478f-4b95-9738-31f6cc573e86",
   "metadata": {},
   "source": [
    "As it can be seen, the first result is same as mine."
   ]
  },
  {
   "cell_type": "markdown",
   "id": "a95e6a12-1053-4b32-8c97-1b3afe0110ca",
   "metadata": {
    "tags": []
   },
   "source": [
    "##### Global - Affine Gap Penalty"
   ]
  },
  {
   "cell_type": "markdown",
   "id": "3c0c7295-9e33-49a1-bec3-54dabd32136e",
   "metadata": {
    "tags": []
   },
   "source": [
    "Here is what my function gives:"
   ]
  },
  {
   "cell_type": "code",
   "execution_count": 14,
   "id": "edf8d2de-624c-434c-9e82-ce8fc6918915",
   "metadata": {},
   "outputs": [
    {
     "name": "stdout",
     "output_type": "stream",
     "text": [
      "Score: -1.0\n",
      "PLEASANTLY\n",
      "-.||.---||\n",
      "-MEAN---LY\n"
     ]
    }
   ],
   "source": [
    "align_sequences(sample1_sequence1, sample1_sequence2, 'global', {'penalty_type': 'affine', 'gap_opening_penalty': -11, 'gap_extension_penalty': -1})"
   ]
  },
  {
   "cell_type": "markdown",
   "id": "195ef2e7-2528-44de-88a5-e8ede491c0ba",
   "metadata": {},
   "source": [
    "Here is what BioPython gives:"
   ]
  },
  {
   "cell_type": "code",
   "execution_count": 15,
   "id": "d062270d-fb84-49c5-843b-059bc77a5468",
   "metadata": {},
   "outputs": [
    {
     "name": "stdout",
     "output_type": "stream",
     "text": [
      "Score: -1.0\n",
      "PLEASANTLY\n",
      "-.||.---||\n",
      "-MEAN---LY\n",
      "\n"
     ]
    }
   ],
   "source": [
    "align_sequences_biopython(sample1_sequence1, sample1_sequence2, 'global', {'penalty_type': 'affine', 'gap_opening_penalty': -11, 'gap_extension_penalty': -1})"
   ]
  },
  {
   "cell_type": "markdown",
   "id": "0b0772a0-1d2a-4d04-9690-6e09b42e4200",
   "metadata": {},
   "source": [
    "As it can be seen, they are the same."
   ]
  },
  {
   "cell_type": "markdown",
   "id": "cfd6d422-74c4-4635-8fa0-1f478ad7d218",
   "metadata": {},
   "source": [
    "##### Local - Linear Gap Penalty"
   ]
  },
  {
   "cell_type": "markdown",
   "id": "8598c81f-ad11-4b2f-8e6b-0a4a504aef11",
   "metadata": {},
   "source": [
    "Here is what my function gives:"
   ]
  },
  {
   "cell_type": "code",
   "execution_count": 16,
   "id": "10e1af7f-f278-4ba2-a6d6-b92e285576b3",
   "metadata": {},
   "outputs": [
    {
     "name": "stdout",
     "output_type": "stream",
     "text": [
      "Score: 12.0\n",
      "PLEASANTLY\n",
      " .||.\n",
      " MEANLY\n"
     ]
    }
   ],
   "source": [
    "align_sequences(sample1_sequence1, sample1_sequence2, 'local', {'penalty_type': 'linear', 'gap_opening_penalty': -11, 'gap_extension_penalty': -1})"
   ]
  },
  {
   "cell_type": "markdown",
   "id": "06b01d70-f7f0-4def-9c2a-a16fed9c3c72",
   "metadata": {},
   "source": [
    "Here is what BioPython gives:"
   ]
  },
  {
   "cell_type": "code",
   "execution_count": 17,
   "id": "1a1aeb35-3a3f-4c97-b0bf-3351904125bc",
   "metadata": {},
   "outputs": [
    {
     "name": "stdout",
     "output_type": "stream",
     "text": [
      "Score: 12.0\n",
      "PLEASANTLY\n",
      " .||.\n",
      " MEANLY\n",
      "\n"
     ]
    }
   ],
   "source": [
    "align_sequences_biopython(sample1_sequence1, sample1_sequence2, 'local', {'penalty_type': 'linear', 'gap_opening_penalty': -11, 'gap_extension_penalty': -1})"
   ]
  },
  {
   "cell_type": "markdown",
   "id": "a0f77835-75b6-488b-a5c3-85781f130258",
   "metadata": {},
   "source": [
    "As it can be seen, they are the same."
   ]
  },
  {
   "cell_type": "markdown",
   "id": "29519e6b-f01c-4f48-b440-000bcc2258c0",
   "metadata": {},
   "source": [
    "##### Local - Affine Gap Penalty"
   ]
  },
  {
   "cell_type": "markdown",
   "id": "7456bec0-1211-4d1f-9e19-6ff3a6c23de5",
   "metadata": {},
   "source": [
    "Here is what my function gives"
   ]
  },
  {
   "cell_type": "code",
   "execution_count": 18,
   "id": "5f40dae5-5bf4-4ead-afe4-9a2489a9a6ce",
   "metadata": {},
   "outputs": [
    {
     "name": "stdout",
     "output_type": "stream",
     "text": [
      "Score: 12.0\n",
      "PLEASANTLY\n",
      " .||.\n",
      " MEANLY\n"
     ]
    }
   ],
   "source": [
    "align_sequences(sample1_sequence1, sample1_sequence2, 'local', {'penalty_type': 'affine', 'gap_opening_penalty': -11, 'gap_extension_penalty': -1})"
   ]
  },
  {
   "cell_type": "markdown",
   "id": "92b0ef3c-ce91-458b-b7c2-62174830b62d",
   "metadata": {},
   "source": [
    "Here is what BioPython gives:"
   ]
  },
  {
   "cell_type": "code",
   "execution_count": 19,
   "id": "9156785e-d8d4-46da-a203-252dd9565851",
   "metadata": {},
   "outputs": [
    {
     "name": "stdout",
     "output_type": "stream",
     "text": [
      "Score: 12.0\n",
      "PLEASANTLY\n",
      " .||.\n",
      " MEANLY\n",
      "\n"
     ]
    }
   ],
   "source": [
    "align_sequences_biopython(sample1_sequence1, sample1_sequence2, 'local', {'penalty_type': 'affine', 'gap_opening_penalty': -11, 'gap_extension_penalty': -1})"
   ]
  },
  {
   "cell_type": "markdown",
   "id": "96d3bec1-ac4d-455e-bb83-7cbb5d53dbfe",
   "metadata": {},
   "source": [
    "As it can be seen, they are the same."
   ]
  },
  {
   "cell_type": "markdown",
   "id": "97d34a88-317d-464b-b863-e20ed6f992c7",
   "metadata": {},
   "source": [
    "#### Sample 2"
   ]
  },
  {
   "cell_type": "code",
   "execution_count": 20,
   "id": "d431e031-ca54-4ec5-83d3-f5ee782f2d90",
   "metadata": {},
   "outputs": [],
   "source": [
    "sample2_sequence1 = 'PRTEINS'\n",
    "sample2_sequence2 = 'PRTWPSEIN'"
   ]
  },
  {
   "cell_type": "markdown",
   "id": "ad3284d7-e591-48de-8a5f-ff37ce826b17",
   "metadata": {},
   "source": [
    "##### Global - Linear Gap Penalty"
   ]
  },
  {
   "cell_type": "markdown",
   "id": "db5dc65e-56b6-41df-86f0-15f35670ae1e",
   "metadata": {},
   "source": [
    "Here is what my function gives:"
   ]
  },
  {
   "cell_type": "code",
   "execution_count": 21,
   "id": "2946e888-c6bb-49b7-a54c-d4219b1d25c3",
   "metadata": {},
   "outputs": [
    {
     "name": "stdout",
     "output_type": "stream",
     "text": [
      "Score: -7.0\n",
      "PRT-EIN-S\n",
      "|||-...-.\n",
      "PRTWPSEIN\n"
     ]
    }
   ],
   "source": [
    "align_sequences(sample2_sequence1, sample2_sequence2, 'global', {'penalty_type': 'linear', 'gap_opening_penalty': -11, 'gap_extension_penalty': -1})"
   ]
  },
  {
   "cell_type": "markdown",
   "id": "9119adce-facf-478e-9d80-3aeb39064b7e",
   "metadata": {},
   "source": [
    "Here is what BioPython gives:"
   ]
  },
  {
   "cell_type": "code",
   "execution_count": 22,
   "id": "95b7707b-d312-463c-8ba5-b26b3f05842d",
   "metadata": {},
   "outputs": [
    {
     "name": "stdout",
     "output_type": "stream",
     "text": [
      "Score: -7.0\n",
      "PRT-EIN-S\n",
      "|||-...-.\n",
      "PRTWPSEIN\n",
      "\n"
     ]
    }
   ],
   "source": [
    "align_sequences_biopython(sample2_sequence1, sample2_sequence2, 'global', {'penalty_type': 'linear', 'gap_opening_penalty': -11, 'gap_extension_penalty': -1})"
   ]
  },
  {
   "cell_type": "markdown",
   "id": "c701911d-e0d4-44e5-81fe-612513c241a6",
   "metadata": {},
   "source": [
    "As it can be seen, they are the same."
   ]
  },
  {
   "cell_type": "markdown",
   "id": "363bd56a-cfb5-496f-96a4-403b704b1ef8",
   "metadata": {
    "tags": []
   },
   "source": [
    "##### Global - Affine Gap Penalty"
   ]
  },
  {
   "cell_type": "markdown",
   "id": "e1d159f9-bab6-4523-b4d5-4beedb282766",
   "metadata": {
    "tags": []
   },
   "source": [
    "Here is what my function gives:"
   ]
  },
  {
   "cell_type": "code",
   "execution_count": 23,
   "id": "ddd5eed7-42d9-4dc3-9bd2-6ef18fd98429",
   "metadata": {},
   "outputs": [
    {
     "name": "stdout",
     "output_type": "stream",
     "text": [
      "Score: 8.0\n",
      "PRT---EINS\n",
      "|||---|||-\n",
      "PRTWPSEIN-\n"
     ]
    }
   ],
   "source": [
    "align_sequences(sample2_sequence1, sample2_sequence2, 'global', {'penalty_type': 'affine', 'gap_opening_penalty': -11, 'gap_extension_penalty': -1})"
   ]
  },
  {
   "cell_type": "markdown",
   "id": "6e733db9-175f-444b-b0c6-4ed0ffa5ed72",
   "metadata": {},
   "source": [
    "Here is what BioPython gives:"
   ]
  },
  {
   "cell_type": "code",
   "execution_count": 24,
   "id": "dc702747-c8f1-4b26-816a-f22696261aa9",
   "metadata": {},
   "outputs": [
    {
     "name": "stdout",
     "output_type": "stream",
     "text": [
      "Score: 8.0\n",
      "PRT---EINS\n",
      "|||---|||-\n",
      "PRTWPSEIN-\n",
      "\n"
     ]
    }
   ],
   "source": [
    "align_sequences_biopython(sample2_sequence1, sample2_sequence2, 'global', {'penalty_type': 'affine', 'gap_opening_penalty': -11, 'gap_extension_penalty': -1})"
   ]
  },
  {
   "cell_type": "markdown",
   "id": "6e8b0294-d7eb-4a85-a179-18d891d294bf",
   "metadata": {},
   "source": [
    "As it can be seen, they are the same."
   ]
  },
  {
   "cell_type": "markdown",
   "id": "d5eba3a2-1fca-4af7-9d76-4102747a6447",
   "metadata": {},
   "source": [
    "##### Local - Linear Gap Penalty"
   ]
  },
  {
   "cell_type": "markdown",
   "id": "7a671d19-c1b7-4244-a7f7-770ef08222bc",
   "metadata": {},
   "source": [
    "Here is what my function gives:"
   ]
  },
  {
   "cell_type": "code",
   "execution_count": 25,
   "id": "893e8ec2-8232-4091-bbef-e188738d36f6",
   "metadata": {},
   "outputs": [
    {
     "name": "stdout",
     "output_type": "stream",
     "text": [
      "Score: 17.0\n",
      "PRTEINS\n",
      "|||\n",
      "PRTWPSEIN\n"
     ]
    }
   ],
   "source": [
    "align_sequences(sample2_sequence1, sample2_sequence2, 'local', {'penalty_type': 'linear', 'gap_opening_penalty': -11, 'gap_extension_penalty': -1})"
   ]
  },
  {
   "cell_type": "markdown",
   "id": "b9626b26-afee-47ed-8826-69656630fe37",
   "metadata": {},
   "source": [
    "Here is what BioPython gives:"
   ]
  },
  {
   "cell_type": "code",
   "execution_count": 26,
   "id": "08877df5-ff71-4a0f-9587-bee2afa96e0c",
   "metadata": {},
   "outputs": [
    {
     "name": "stdout",
     "output_type": "stream",
     "text": [
      "Score: 17.0\n",
      "PRTEINS\n",
      "|||\n",
      "PRTWPSEIN\n",
      "\n"
     ]
    }
   ],
   "source": [
    "align_sequences_biopython(sample2_sequence1, sample2_sequence2, 'local', {'penalty_type': 'linear', 'gap_opening_penalty': -11, 'gap_extension_penalty': -1})"
   ]
  },
  {
   "cell_type": "markdown",
   "id": "a63d87df-70f4-4909-96fb-3f3300f4784e",
   "metadata": {},
   "source": [
    "As it can be seen, they are the same."
   ]
  },
  {
   "cell_type": "markdown",
   "id": "8016ca1f-1e01-4d42-8ab3-af972fd1a0a0",
   "metadata": {},
   "source": [
    "##### Local - Affine Gap Penalty"
   ]
  },
  {
   "cell_type": "markdown",
   "id": "fc433d25-08e7-4258-86c4-5264757f943c",
   "metadata": {},
   "source": [
    "Here is what my function gives"
   ]
  },
  {
   "cell_type": "code",
   "execution_count": 27,
   "id": "8d229c79-3fc8-4e37-a2e0-5a29e8a649a8",
   "metadata": {},
   "outputs": [
    {
     "name": "stdout",
     "output_type": "stream",
     "text": [
      "Score: 19.0\n",
      "PRT---EINS\n",
      "|||---|||\n",
      "PRTWPSEIN\n"
     ]
    }
   ],
   "source": [
    "align_sequences(sample2_sequence1, sample2_sequence2, 'local', {'penalty_type': 'affine', 'gap_opening_penalty': -11, 'gap_extension_penalty': -1})"
   ]
  },
  {
   "cell_type": "markdown",
   "id": "7e2310fb-adb4-4440-a655-940016fb6fd3",
   "metadata": {},
   "source": [
    "Here is what BioPython gives:"
   ]
  },
  {
   "cell_type": "code",
   "execution_count": 28,
   "id": "ce2a239b-93fe-4047-85b1-e82ed7aa7948",
   "metadata": {},
   "outputs": [
    {
     "name": "stdout",
     "output_type": "stream",
     "text": [
      "Score: 19.0\n",
      "PRT---EINS\n",
      "|||---|||\n",
      "PRTWPSEIN\n",
      "\n"
     ]
    }
   ],
   "source": [
    "align_sequences_biopython(sample2_sequence1, sample2_sequence2, 'local', {'penalty_type': 'affine', 'gap_opening_penalty': -11, 'gap_extension_penalty': -1})"
   ]
  },
  {
   "cell_type": "markdown",
   "id": "815e84f4-77db-453e-a592-72f5d9871594",
   "metadata": {},
   "source": [
    "As it can be seen, they are the same."
   ]
  },
  {
   "cell_type": "markdown",
   "id": "45dd75e7-6803-4659-9eb5-219b2bcd4f53",
   "metadata": {},
   "source": [
    "#### Sample 3"
   ]
  },
  {
   "cell_type": "code",
   "execution_count": 29,
   "id": "ae33de94-d098-41a6-a822-73bcce8f5795",
   "metadata": {},
   "outputs": [],
   "source": [
    "sample3_sequence1 = 'YHFDVPDCWAHRYWVENPQAIAQMEQICFNWFPSMMMKQPHVFKVDHHMSCRWLPIRGKKCSSCCTRMRVRTVWEW'\n",
    "sample3_sequence2 = 'YHEDVAHEDAIAQMVNTFGFVWQICLNQFPSMMMKIYWIAVLSAHVADRKTWSKHMSCRWLPIISATCARMRVRTVWE'"
   ]
  },
  {
   "cell_type": "markdown",
   "id": "5659d421-5758-4087-ac52-abf215cd49a6",
   "metadata": {},
   "source": [
    "##### Global - Linear Gap Penalty"
   ]
  },
  {
   "cell_type": "markdown",
   "id": "9636e68e-af2d-4720-94e5-e02a027912e8",
   "metadata": {},
   "source": [
    "Here is what my function gives:"
   ]
  },
  {
   "cell_type": "code",
   "execution_count": 30,
   "id": "24377eb7-f42e-4905-a255-468f73e48e8a",
   "metadata": {},
   "outputs": [
    {
     "name": "stdout",
     "output_type": "stream",
     "text": [
      "Score: 38.0\n",
      "YHFDVPDCWAHRYWVENPQAIAQMEQICFNWFPSMMMKQPHVFKVDHHMSCR--W---LPIRGKKC-SSCCTRMRVRTVWEW\n",
      "||.||....|....|-|.....-.-|||.|.|||||||.........|...|--|---...|....-|..|.|||||||||-\n",
      "YHEDVAHEDAIAQMV-NTFGFV-W-QICLNQFPSMMMKIYWIAVLSAHVADRKTWSKHMSCRWLPIISATCARMRVRTVWE-\n"
     ]
    }
   ],
   "source": [
    "align_sequences(sample3_sequence1, sample3_sequence2, 'global', {'penalty_type': 'linear', 'gap_opening_penalty': -11, 'gap_extension_penalty': -1})"
   ]
  },
  {
   "cell_type": "markdown",
   "id": "f3923df1-aee1-4e2a-943d-443ef65c6fc1",
   "metadata": {},
   "source": [
    "Here is what BioPython gives:"
   ]
  },
  {
   "cell_type": "code",
   "execution_count": 31,
   "id": "da48f4f1-52ca-41a5-8b32-ae344e2f40a1",
   "metadata": {},
   "outputs": [
    {
     "name": "stdout",
     "output_type": "stream",
     "text": [
      "Score: 38.0\n",
      "YHFDVPDCWAHRYWVENPQAIAQMEQICFNWFPSMMMKQPHVFKVDHHMSCR--W---LPIRGKKC-SSCCTRMRVRTVWEW\n",
      "||.||....|....|-|.....-.-|||.|.|||||||.........|...|--|---...|....-|..|.|||||||||-\n",
      "YHEDVAHEDAIAQMV-NTFGFV-W-QICLNQFPSMMMKIYWIAVLSAHVADRKTWSKHMSCRWLPIISATCARMRVRTVWE-\n",
      "\n",
      "Score: 38.0\n",
      "YHFDVPDCWAHRYWVENPQAIAQMEQICFNWFPSMMMKQPHVFKVDHHMSCR--W---LPIRGKKC-SSCCTRMRVRTVWEW\n",
      "||.||....|....|-|--......|||.|.|||||||.........|...|--|---...|....-|..|.|||||||||-\n",
      "YHEDVAHEDAIAQMV-N--TFGFVWQICLNQFPSMMMKIYWIAVLSAHVADRKTWSKHMSCRWLPIISATCARMRVRTVWE-\n",
      "\n",
      "Score: 38.0\n",
      "YHFDVPDCWAHRYWVENPQAIAQMEQICFNWFPSMMMKQPHVFKVDHHMSCR--W---LPIRGKK-CSSCCTRMRVRTVWEW\n",
      "||.||....|....|-|.....-.-|||.|.|||||||.........|...|--|---...|...-.|..|.|||||||||-\n",
      "YHEDVAHEDAIAQMV-NTFGFV-W-QICLNQFPSMMMKIYWIAVLSAHVADRKTWSKHMSCRWLPIISATCARMRVRTVWE-\n",
      "\n",
      "Score: 38.0\n",
      "YHFDVPDCWAHRYWVENPQAIAQMEQICFNWFPSMMMKQPHVFKVDHHMSCR--W---LPIRGKK-CSSCCTRMRVRTVWEW\n",
      "||.||....|....|-|--......|||.|.|||||||.........|...|--|---...|...-.|..|.|||||||||-\n",
      "YHEDVAHEDAIAQMV-N--TFGFVWQICLNQFPSMMMKIYWIAVLSAHVADRKTWSKHMSCRWLPIISATCARMRVRTVWE-\n",
      "\n"
     ]
    }
   ],
   "source": [
    "align_sequences_biopython(sample3_sequence1, sample3_sequence2, 'global', {'penalty_type': 'linear', 'gap_opening_penalty': -11, 'gap_extension_penalty': -1})"
   ]
  },
  {
   "cell_type": "markdown",
   "id": "a97e72d9-9ab6-45ec-bd2a-ac0c2b5e1059",
   "metadata": {},
   "source": [
    "As it can be seen, the first result is same as mine."
   ]
  },
  {
   "cell_type": "markdown",
   "id": "36ff0ec9-8fa2-4d8a-a836-6209afb34ac7",
   "metadata": {
    "tags": []
   },
   "source": [
    "##### Global - Affine Gap Penalty"
   ]
  },
  {
   "cell_type": "markdown",
   "id": "eba046fa-c94d-460e-998c-e86d678ed8c9",
   "metadata": {
    "tags": []
   },
   "source": [
    "Here is what my function gives:"
   ]
  },
  {
   "cell_type": "code",
   "execution_count": 32,
   "id": "98960947-739a-4cd4-9ec5-3c7605c8a6b9",
   "metadata": {},
   "outputs": [
    {
     "name": "stdout",
     "output_type": "stream",
     "text": [
      "Score: 133.0\n",
      "YHFDVPDCWAHRYWVENPQAIAQME-------QICFNWFPSMMMK-------QPHVF---KVDHHMSCRWLPIRGKKCSSCCTRMRVRTVWEW\n",
      "||.||----||.------.|||||.-------|||.|.|||||||-------..||.---....|||||||||----.|..|.|||||||||-\n",
      "YHEDV----AHE------DAIAQMVNTFGFVWQICLNQFPSMMMKIYWIAVLSAHVADRKTWSKHMSCRWLPI----ISATCARMRVRTVWE-\n"
     ]
    }
   ],
   "source": [
    "align_sequences(sample3_sequence1, sample3_sequence2, 'global', {'penalty_type': 'affine', 'gap_opening_penalty': -11, 'gap_extension_penalty': -1})"
   ]
  },
  {
   "cell_type": "markdown",
   "id": "500324a6-e573-4783-8187-b401e6e78067",
   "metadata": {},
   "source": [
    "Here is what BioPython gives:"
   ]
  },
  {
   "cell_type": "code",
   "execution_count": 33,
   "id": "601595a1-c85d-4ee2-9f37-a2f951fd0012",
   "metadata": {},
   "outputs": [
    {
     "name": "stdout",
     "output_type": "stream",
     "text": [
      "Score: 133.0\n",
      "YHFDVPDCWAHRYWVENPQAIAQME-------QICFNWFPSMMMK-------QPHVF---KVDHHMSCRWLPIRGKKCSSCCTRMRVRTVWEW\n",
      "||.||----||.------.|||||.-------|||.|.|||||||-------..||.---....|||||||||----.|..|.|||||||||-\n",
      "YHEDV----AHE------DAIAQMVNTFGFVWQICLNQFPSMMMKIYWIAVLSAHVADRKTWSKHMSCRWLPI----ISATCARMRVRTVWE-\n",
      "\n",
      "Score: 133.0\n",
      "YHFDVPDCWAHRYWVENPQAIAQME-------QICFNWFPSMMMK-------QPHVFK---VDHHMSCRWLPIRGKKCSSCCTRMRVRTVWEW\n",
      "||.||----||.------.|||||.-------|||.|.|||||||-------..||..---...|||||||||----.|..|.|||||||||-\n",
      "YHEDV----AHE------DAIAQMVNTFGFVWQICLNQFPSMMMKIYWIAVLSAHVADRKTWSKHMSCRWLPI----ISATCARMRVRTVWE-\n",
      "\n",
      "Score: 133.0\n",
      "YHFDVPDCWAHRYWVENPQAIAQME-------QICFNWFPSMMMK-------QPHVFKV---DHHMSCRWLPIRGKKCSSCCTRMRVRTVWEW\n",
      "||.||----||.------.|||||.-------|||.|.|||||||-------..||...---..|||||||||----.|..|.|||||||||-\n",
      "YHEDV----AHE------DAIAQMVNTFGFVWQICLNQFPSMMMKIYWIAVLSAHVADRKTWSKHMSCRWLPI----ISATCARMRVRTVWE-\n",
      "\n"
     ]
    }
   ],
   "source": [
    "align_sequences_biopython(sample3_sequence1, sample3_sequence2, 'global', {'penalty_type': 'affine', 'gap_opening_penalty': -11, 'gap_extension_penalty': -1})"
   ]
  },
  {
   "cell_type": "markdown",
   "id": "50305c49-3897-44e3-a585-9fc7423013a8",
   "metadata": {},
   "source": [
    "As it can be seen, the first one is the same with mine."
   ]
  },
  {
   "cell_type": "markdown",
   "id": "385ee56e-196b-4581-996f-3d6e4bfdac7b",
   "metadata": {},
   "source": [
    "##### Local - Linear Gap Penalty"
   ]
  },
  {
   "cell_type": "markdown",
   "id": "e101dbd0-f419-4796-b527-daaa878e6ae9",
   "metadata": {},
   "source": [
    "Here is what my function gives:"
   ]
  },
  {
   "cell_type": "code",
   "execution_count": 34,
   "id": "f9b2517c-9769-416b-a90a-d921f0c0dc10",
   "metadata": {},
   "outputs": [
    {
     "name": "stdout",
     "output_type": "stream",
     "text": [
      "Score: 74.0\n",
      "       YHFDVPDCWAHRYWVENPQAIAQMEQICFNWFPSMMMKQPHVFKVDHHMSCRWLPIRGKKCSSCCTRMRVRTVWEW\n",
      "                                                      |||||||||----.|..|.|||||||||\n",
      "YHEDVAHEDAIAQMVNTFGFVWQICLNQFPSMMMKIYWIAVLSAHVADRKTWSKHMSCRWLPI----ISATCARMRVRTVWE\n"
     ]
    }
   ],
   "source": [
    "align_sequences(sample3_sequence1, sample3_sequence2, 'local', {'penalty_type': 'linear', 'gap_opening_penalty': -11, 'gap_extension_penalty': -1})"
   ]
  },
  {
   "cell_type": "markdown",
   "id": "922b9c8f-065f-48b4-8f7d-2f0ba6c6efa5",
   "metadata": {},
   "source": [
    "Here is what BioPython gives:"
   ]
  },
  {
   "cell_type": "code",
   "execution_count": 35,
   "id": "06469ee8-da01-426c-afe6-d6599abc80f3",
   "metadata": {},
   "outputs": [
    {
     "name": "stdout",
     "output_type": "stream",
     "text": [
      "Score: 74.0\n",
      "       YHFDVPDCWAHRYWVENPQAIAQMEQICFNWFPSMMMKQPHVFKVDHHMSCRWLPIRGKKCSSCCTRMRVRTVWEW\n",
      "                                                      |||||||||----.|..|.|||||||||\n",
      "YHEDVAHEDAIAQMVNTFGFVWQICLNQFPSMMMKIYWIAVLSAHVADRKTWSKHMSCRWLPI----ISATCARMRVRTVWE\n",
      "\n"
     ]
    }
   ],
   "source": [
    "align_sequences_biopython(sample3_sequence1, sample3_sequence2, 'local', {'penalty_type': 'linear', 'gap_opening_penalty': -11, 'gap_extension_penalty': -1})"
   ]
  },
  {
   "cell_type": "markdown",
   "id": "69e2920f-2059-4bc3-8108-26525fd73d25",
   "metadata": {},
   "source": [
    "As it can be seen, they are the same"
   ]
  },
  {
   "cell_type": "markdown",
   "id": "49c917dd-cc06-4944-9c15-b340bf8eb27e",
   "metadata": {},
   "source": [
    "##### Local - Affine Gap Penalty"
   ]
  },
  {
   "cell_type": "markdown",
   "id": "3c055da3-9b04-4d9a-9794-21ab8e54b703",
   "metadata": {},
   "source": [
    "Here is what my function gives"
   ]
  },
  {
   "cell_type": "code",
   "execution_count": 36,
   "id": "b9fe0790-f41b-4f6c-bae0-6e0b378bbcd3",
   "metadata": {},
   "outputs": [
    {
     "name": "stdout",
     "output_type": "stream",
     "text": [
      "Score: 144.0\n",
      "YHFDVPDCWAHRYWVENPQAIAQME-------QICFNWFPSMMMK-------QPHVF---KVDHHMSCRWLPIRGKKCSSCCTRMRVRTVWEW\n",
      "||.||----||.------.|||||.-------|||.|.|||||||-------..||.---....|||||||||----.|..|.|||||||||\n",
      "YHEDV----AHE------DAIAQMVNTFGFVWQICLNQFPSMMMKIYWIAVLSAHVADRKTWSKHMSCRWLPI----ISATCARMRVRTVWE\n"
     ]
    }
   ],
   "source": [
    "align_sequences(sample3_sequence1, sample3_sequence2, 'local', {'penalty_type': 'affine', 'gap_opening_penalty': -11, 'gap_extension_penalty': -1})"
   ]
  },
  {
   "cell_type": "markdown",
   "id": "8531567e-2aaa-46b1-a1ae-c60a2baec5a5",
   "metadata": {},
   "source": [
    "Here is what BioPython gives:"
   ]
  },
  {
   "cell_type": "code",
   "execution_count": 37,
   "id": "146f0d1b-8533-437f-b184-ea42b2795ae5",
   "metadata": {},
   "outputs": [
    {
     "name": "stdout",
     "output_type": "stream",
     "text": [
      "Score: 144.0\n",
      "YHFDVPDCWAHRYWVENPQAIAQME-------QICFNWFPSMMMK-------QPHVF---KVDHHMSCRWLPIRGKKCSSCCTRMRVRTVWEW\n",
      "||.||----||.------.|||||.-------|||.|.|||||||-------..||.---....|||||||||----.|..|.|||||||||\n",
      "YHEDV----AHE------DAIAQMVNTFGFVWQICLNQFPSMMMKIYWIAVLSAHVADRKTWSKHMSCRWLPI----ISATCARMRVRTVWE\n",
      "\n",
      "Score: 144.0\n",
      "YHFDVPDCWAHRYWVENPQAIAQME-------QICFNWFPSMMMK-------QPHVFK---VDHHMSCRWLPIRGKKCSSCCTRMRVRTVWEW\n",
      "||.||----||.------.|||||.-------|||.|.|||||||-------..||..---...|||||||||----.|..|.|||||||||\n",
      "YHEDV----AHE------DAIAQMVNTFGFVWQICLNQFPSMMMKIYWIAVLSAHVADRKTWSKHMSCRWLPI----ISATCARMRVRTVWE\n",
      "\n",
      "Score: 144.0\n",
      "YHFDVPDCWAHRYWVENPQAIAQME-------QICFNWFPSMMMK-------QPHVFKV---DHHMSCRWLPIRGKKCSSCCTRMRVRTVWEW\n",
      "||.||----||.------.|||||.-------|||.|.|||||||-------..||...---..|||||||||----.|..|.|||||||||\n",
      "YHEDV----AHE------DAIAQMVNTFGFVWQICLNQFPSMMMKIYWIAVLSAHVADRKTWSKHMSCRWLPI----ISATCARMRVRTVWE\n",
      "\n"
     ]
    }
   ],
   "source": [
    "align_sequences_biopython(sample3_sequence1, sample3_sequence2, 'local', {'penalty_type': 'affine', 'gap_opening_penalty': -11, 'gap_extension_penalty': -1})"
   ]
  },
  {
   "cell_type": "markdown",
   "id": "1d060ff6-d095-4f90-b698-7f6f193da653",
   "metadata": {},
   "source": [
    "As it can be seen, the first one is the same with mine."
   ]
  },
  {
   "cell_type": "markdown",
   "id": "c437ce9b-592a-4c33-b755-ed77a01aa361",
   "metadata": {},
   "source": [
    "#### Sample 4\n",
    "Now, I am going to generate new samples:"
   ]
  },
  {
   "cell_type": "code",
   "execution_count": 38,
   "id": "e0eb4b65-2ac4-4068-90c0-3fa766cb1d82",
   "metadata": {},
   "outputs": [],
   "source": [
    "sample4_sequence1, sample4_sequence2 = create_random_sequences()"
   ]
  },
  {
   "cell_type": "markdown",
   "id": "9bd92001-d2cf-4b58-83f8-0ac00185eafe",
   "metadata": {},
   "source": [
    "##### Global - Linear Gap Penalty"
   ]
  },
  {
   "cell_type": "markdown",
   "id": "f833c35b-6c39-491a-8a1e-286028a53792",
   "metadata": {},
   "source": [
    "Here is what my function gives:"
   ]
  },
  {
   "cell_type": "code",
   "execution_count": 39,
   "id": "4a276ffa-1c6a-4ca6-a3f1-42b587d675c3",
   "metadata": {},
   "outputs": [
    {
     "name": "stdout",
     "output_type": "stream",
     "text": [
      "Score: 17.0\n",
      "WIPWIYNIFQ-CPTYHEKIMNFPIRSENDAPHCLHACA\n",
      "|..|.|..|.-.|..|........|...|.-|.....|\n",
      "WDMWDYRTFAFIPNRHRMNFHEQQRHFRDW-HPMRCGA\n"
     ]
    }
   ],
   "source": [
    "align_sequences(sample4_sequence1, sample4_sequence2, 'global', {'penalty_type': 'linear', 'gap_opening_penalty': -11, 'gap_extension_penalty': -1})"
   ]
  },
  {
   "cell_type": "markdown",
   "id": "795cbe94-309c-4a73-8831-5e81ebc5d165",
   "metadata": {},
   "source": [
    "Here is what BioPython gives:"
   ]
  },
  {
   "cell_type": "code",
   "execution_count": 40,
   "id": "47a936c6-a448-4fbf-8b3f-af2c7efcda2c",
   "metadata": {},
   "outputs": [
    {
     "name": "stdout",
     "output_type": "stream",
     "text": [
      "Score: 17.0\n",
      "WIPWIYNIFQ-CPTYHEKIMNFPIRSENDAPHCLHACA\n",
      "|..|.|..|.-.|..|........|...|.-|.....|\n",
      "WDMWDYRTFAFIPNRHRMNFHEQQRHFRDW-HPMRCGA\n",
      "\n"
     ]
    }
   ],
   "source": [
    "align_sequences_biopython(sample4_sequence1, sample4_sequence2, 'global', {'penalty_type': 'linear', 'gap_opening_penalty': -11, 'gap_extension_penalty': -1})"
   ]
  },
  {
   "cell_type": "markdown",
   "id": "a5eb0724-973e-42d9-a2df-84112a2e8995",
   "metadata": {},
   "source": [
    "As it can be seen, the first result is the same as mine."
   ]
  },
  {
   "cell_type": "markdown",
   "id": "73c6f6b5-26b9-461d-a8d1-77a8805cf234",
   "metadata": {
    "tags": []
   },
   "source": [
    "##### Global - Affine Gap Penalty"
   ]
  },
  {
   "cell_type": "markdown",
   "id": "2e13ca61-883b-45c7-bf8e-5464472e7578",
   "metadata": {
    "tags": []
   },
   "source": [
    "Here is what my function gives:"
   ]
  },
  {
   "cell_type": "code",
   "execution_count": 41,
   "id": "98f1ccf1-0ce0-47f1-8904-3647cac54ecd",
   "metadata": {},
   "outputs": [
    {
     "name": "stdout",
     "output_type": "stream",
     "text": [
      "Score: 20.0\n",
      "WIPWIYNIFQ-CPTYHEKIMNFPIRSENDAP-HCLHACA\n",
      "|..|.|..|.-.|..|.--|||.........-|.....|\n",
      "WDMWDYRTFAFIPNRHR--MNFHEQQRHFRDWHPMRCGA\n"
     ]
    }
   ],
   "source": [
    "align_sequences(sample4_sequence1, sample4_sequence2, 'global', {'penalty_type': 'affine', 'gap_opening_penalty': -11, 'gap_extension_penalty': -1})"
   ]
  },
  {
   "cell_type": "markdown",
   "id": "3d2c0b7f-2291-4650-9ea7-25558d88e4cb",
   "metadata": {},
   "source": [
    "Here is what BioPython gives:"
   ]
  },
  {
   "cell_type": "code",
   "execution_count": 42,
   "id": "e618697c-67b4-4dfb-9fe6-4a575e08dd67",
   "metadata": {},
   "outputs": [
    {
     "name": "stdout",
     "output_type": "stream",
     "text": [
      "Score: 20.0\n",
      "WIPWIYNIFQ-CPTYHEKIMNFPIRSENDAP-HCLHACA\n",
      "|..|.|..|.-.|..|.--|||.........-|.....|\n",
      "WDMWDYRTFAFIPNRHR--MNFHEQQRHFRDWHPMRCGA\n",
      "\n"
     ]
    }
   ],
   "source": [
    "align_sequences_biopython(sample4_sequence1, sample4_sequence2, 'global', {'penalty_type': 'affine', 'gap_opening_penalty': -11, 'gap_extension_penalty': -1})"
   ]
  },
  {
   "cell_type": "markdown",
   "id": "619b04fc-b28c-4be3-be64-fdca8b27617e",
   "metadata": {},
   "source": [
    "As it can be seen, they are the same."
   ]
  },
  {
   "cell_type": "markdown",
   "id": "727a438f-1779-444b-ac17-75a87e274c8e",
   "metadata": {},
   "source": [
    "##### Local - Linear Gap Penalty"
   ]
  },
  {
   "cell_type": "markdown",
   "id": "0ea3181e-5610-4c46-afd0-904e52c65ab5",
   "metadata": {},
   "source": [
    "Here is what my function gives:"
   ]
  },
  {
   "cell_type": "code",
   "execution_count": 43,
   "id": "8922adca-567b-4bd1-9b4b-760745c5698a",
   "metadata": {},
   "outputs": [
    {
     "name": "stdout",
     "output_type": "stream",
     "text": [
      "Score: 26.0\n",
      "WIPWIYNIFQCPTYHEKIMNFPIRSENDAPHCLHACA\n",
      "|..|.|..|\n",
      "WDMWDYRTFAFIPNRHRMNFHEQQRHFRDWHPMRCGA\n"
     ]
    }
   ],
   "source": [
    "align_sequences(sample4_sequence1, sample4_sequence2, 'local', {'penalty_type': 'linear', 'gap_opening_penalty': -11, 'gap_extension_penalty': -1})"
   ]
  },
  {
   "cell_type": "markdown",
   "id": "b375851d-41b8-44aa-918c-2482b2805dab",
   "metadata": {},
   "source": [
    "Here is what BioPython gives:"
   ]
  },
  {
   "cell_type": "code",
   "execution_count": 44,
   "id": "2a49314b-b066-468b-a3d2-386a6218dd88",
   "metadata": {},
   "outputs": [
    {
     "name": "stdout",
     "output_type": "stream",
     "text": [
      "Score: 26.0\n",
      "WIPWIYNIFQCPTYHEKIMNFPIRSENDAPHCLHACA\n",
      "|..|.|..|\n",
      "WDMWDYRTFAFIPNRHRMNFHEQQRHFRDWHPMRCGA\n",
      "\n"
     ]
    }
   ],
   "source": [
    "align_sequences_biopython(sample4_sequence1, sample4_sequence2, 'local', {'penalty_type': 'linear', 'gap_opening_penalty': -11, 'gap_extension_penalty': -1})"
   ]
  },
  {
   "cell_type": "markdown",
   "id": "5d0a378b-8482-47ba-bfca-1ca8d8a0aedc",
   "metadata": {},
   "source": [
    "As it can be seen, they are the same"
   ]
  },
  {
   "cell_type": "markdown",
   "id": "3e7b0d60-ff4c-4288-998f-51cd46ecec9d",
   "metadata": {},
   "source": [
    "##### Local - Affine Gap Penalty"
   ]
  },
  {
   "cell_type": "markdown",
   "id": "4a3a3ed7-4861-42b5-8db7-33f3182752db",
   "metadata": {},
   "source": [
    "Here is what my function gives"
   ]
  },
  {
   "cell_type": "code",
   "execution_count": 45,
   "id": "f0b1568c-517d-4d9c-8d2e-280081d0cbe6",
   "metadata": {},
   "outputs": [
    {
     "name": "stdout",
     "output_type": "stream",
     "text": [
      "Score: 31.0\n",
      "WIPWIYNIFQ-CPTYHEKIMNFPIRSENDAPHCLHACA\n",
      "|..|.|..|.-.|..|.--|||\n",
      "WDMWDYRTFAFIPNRHR--MNFHEQQRHFRDWHPMRCGA\n"
     ]
    }
   ],
   "source": [
    "align_sequences(sample4_sequence1, sample4_sequence2, 'local', {'penalty_type': 'affine', 'gap_opening_penalty': -11, 'gap_extension_penalty': -1})"
   ]
  },
  {
   "cell_type": "markdown",
   "id": "2db97d6b-d52b-411d-90b2-30c04984eca6",
   "metadata": {},
   "source": [
    "Here is what BioPython gives:"
   ]
  },
  {
   "cell_type": "code",
   "execution_count": 46,
   "id": "2031db92-ec53-43c4-8fa1-bf7b183739e0",
   "metadata": {},
   "outputs": [
    {
     "name": "stdout",
     "output_type": "stream",
     "text": [
      "Score: 31.0\n",
      "WIPWIYNIFQ-CPTYHEKIMNFPIRSENDAPHCLHACA\n",
      "|..|.|..|.-.|..|.--|||\n",
      "WDMWDYRTFAFIPNRHR--MNFHEQQRHFRDWHPMRCGA\n",
      "\n"
     ]
    }
   ],
   "source": [
    "align_sequences_biopython(sample4_sequence1, sample4_sequence2, 'local', {'penalty_type': 'affine', 'gap_opening_penalty': -11, 'gap_extension_penalty': -1})"
   ]
  },
  {
   "cell_type": "markdown",
   "id": "1d16e838-1a1c-4ff6-b8ab-abde5bfcb9d5",
   "metadata": {},
   "source": [
    "As it can be seen, they are the same."
   ]
  },
  {
   "cell_type": "markdown",
   "id": "e8eaffa6-4c70-40fb-a078-30766ee63c0a",
   "metadata": {},
   "source": [
    "#### Sample 5"
   ]
  },
  {
   "cell_type": "code",
   "execution_count": 47,
   "id": "ced1b66c-0768-4241-bf53-11084e477e18",
   "metadata": {},
   "outputs": [],
   "source": [
    "sample5_sequence1, sample5_sequence2 = create_random_sequences()"
   ]
  },
  {
   "cell_type": "markdown",
   "id": "b4b90a54-d64e-41d3-8350-a7b5b4a0c89e",
   "metadata": {},
   "source": [
    "##### Global - Linear Gap Penalty"
   ]
  },
  {
   "cell_type": "markdown",
   "id": "7c849dc0-2187-4663-95aa-91445f09ed40",
   "metadata": {},
   "source": [
    "Here is what my function gives:"
   ]
  },
  {
   "cell_type": "code",
   "execution_count": 48,
   "id": "7601749d-0a92-44ab-85c8-ccf2b9d66028",
   "metadata": {},
   "outputs": [
    {
     "name": "stdout",
     "output_type": "stream",
     "text": [
      "Score: 19.0\n",
      "CNYEILNFRDCRIKF-LVDAYNP-KMRPWLPTICHWKFDWE\n",
      "|..|||.|...||..-..||.||-.......|.......|.\n",
      "CTIEILFFKMHRIPWWFSDALNPCPCKRVNCTSKIARSVWK\n"
     ]
    }
   ],
   "source": [
    "align_sequences(sample5_sequence1, sample5_sequence2, 'global', {'penalty_type': 'linear', 'gap_opening_penalty': -11, 'gap_extension_penalty': -1})"
   ]
  },
  {
   "cell_type": "markdown",
   "id": "b8785a36-157b-4f0e-aed4-7de3818989ed",
   "metadata": {},
   "source": [
    "Here is what BioPython gives:"
   ]
  },
  {
   "cell_type": "code",
   "execution_count": 49,
   "id": "50b7e609-4caa-4c4a-99da-0363d09b14d3",
   "metadata": {},
   "outputs": [
    {
     "name": "stdout",
     "output_type": "stream",
     "text": [
      "Score: 19.0\n",
      "CNYEILNFRDCRIKF-LVDAYNP-KMRPWLPTICHWKFDWE\n",
      "|..|||.|...||..-..||.||-.......|.......|.\n",
      "CTIEILFFKMHRIPWWFSDALNPCPCKRVNCTSKIARSVWK\n",
      "\n",
      "Score: 19.0\n",
      "CNYEILNFRDCRIK-FLVDAYNP-KMRPWLPTICHWKFDWE\n",
      "|..|||.|...||.-...||.||-.......|.......|.\n",
      "CTIEILFFKMHRIPWWFSDALNPCPCKRVNCTSKIARSVWK\n",
      "\n"
     ]
    }
   ],
   "source": [
    "align_sequences_biopython(sample5_sequence1, sample5_sequence2, 'global', {'penalty_type': 'linear', 'gap_opening_penalty': -11, 'gap_extension_penalty': -1})"
   ]
  },
  {
   "cell_type": "markdown",
   "id": "a975ccda-d59f-4c58-99b3-5296cce13250",
   "metadata": {},
   "source": [
    "As it can be seen, the first result is the same as mine."
   ]
  },
  {
   "cell_type": "markdown",
   "id": "1c848e74-b5c4-4393-a802-4fdceb8cdd84",
   "metadata": {
    "tags": []
   },
   "source": [
    "##### Global - Affine Gap Penalty"
   ]
  },
  {
   "cell_type": "markdown",
   "id": "04dd29e7-0db0-455b-ab90-7161934be467",
   "metadata": {
    "tags": []
   },
   "source": [
    "Here is what my function gives:"
   ]
  },
  {
   "cell_type": "code",
   "execution_count": 50,
   "id": "4179f19f-9ff2-404e-a50b-4b9fb7ef41de",
   "metadata": {},
   "outputs": [
    {
     "name": "stdout",
     "output_type": "stream",
     "text": [
      "Score: 27.0\n",
      "CNYEILNFRDCRIK-FLVDAYNPKMRPWLPTICHWKFD---WE\n",
      "|..|||.|...||.-...||.||.--|.....|..|..---|.\n",
      "CTIEILFFKMHRIPWWFSDALNPC--PCKRVNCTSKIARSVWK\n"
     ]
    }
   ],
   "source": [
    "align_sequences(sample5_sequence1, sample5_sequence2, 'global', {'penalty_type': 'affine', 'gap_opening_penalty': -11, 'gap_extension_penalty': -1})"
   ]
  },
  {
   "cell_type": "markdown",
   "id": "24bc21de-2c3d-4a7f-92f8-01656738876c",
   "metadata": {},
   "source": [
    "Here is what BioPython gives:"
   ]
  },
  {
   "cell_type": "code",
   "execution_count": 51,
   "id": "ae88232b-4614-491b-a5d3-a64cea4de663",
   "metadata": {},
   "outputs": [
    {
     "name": "stdout",
     "output_type": "stream",
     "text": [
      "Score: 27.0\n",
      "CNYEILNFRDCRIK-FLVDAYNPKMRPWLPTICHWKFD---WE\n",
      "|..|||.|...||.-...||.||--.|.....|..|..---|.\n",
      "CTIEILFFKMHRIPWWFSDALNP--CPCKRVNCTSKIARSVWK\n",
      "\n",
      "Score: 27.0\n",
      "CNYEILNFRDCRIKF-LVDAYNPKMRPWLPTICHWKFD---WE\n",
      "|..|||.|...||..-..||.||--.|.....|..|..---|.\n",
      "CTIEILFFKMHRIPWWFSDALNP--CPCKRVNCTSKIARSVWK\n",
      "\n",
      "Score: 27.0\n",
      "CNYEILNFRDCRIK-FLVDAYNPKMRPWLPTICHWKFD---WE\n",
      "|..|||.|...||.-...||.||.--|.....|..|..---|.\n",
      "CTIEILFFKMHRIPWWFSDALNPC--PCKRVNCTSKIARSVWK\n",
      "\n",
      "Score: 27.0\n",
      "CNYEILNFRDCRIKF-LVDAYNPKMRPWLPTICHWKFD---WE\n",
      "|..|||.|...||..-..||.||.--|.....|..|..---|.\n",
      "CTIEILFFKMHRIPWWFSDALNPC--PCKRVNCTSKIARSVWK\n",
      "\n"
     ]
    }
   ],
   "source": [
    "align_sequences_biopython(sample5_sequence1, sample5_sequence2, 'global', {'penalty_type': 'affine', 'gap_opening_penalty': -11, 'gap_extension_penalty': -1})"
   ]
  },
  {
   "cell_type": "markdown",
   "id": "2cce5f2e-d39c-427c-9a75-a37f6e3a6f4c",
   "metadata": {},
   "source": [
    "As it can be seen, the first result is the same as mine."
   ]
  },
  {
   "cell_type": "markdown",
   "id": "1f13ca70-4e4c-4e5b-844a-f149595ea427",
   "metadata": {},
   "source": [
    "##### Local - Linear Gap Penalty"
   ]
  },
  {
   "cell_type": "markdown",
   "id": "7c2f8011-c970-4700-aee3-0949e05e6612",
   "metadata": {},
   "source": [
    "Here is what my function gives:"
   ]
  },
  {
   "cell_type": "code",
   "execution_count": 52,
   "id": "13caf66d-ae3d-4687-9e5b-8c86145991ff",
   "metadata": {},
   "outputs": [
    {
     "name": "stdout",
     "output_type": "stream",
     "text": [
      "Score: 38.0\n",
      "CNYEILNFRDCRIKF-LVDAYNPKMRPWLPTICHWKFDWE\n",
      "|..|||.|...||..-..||.||\n",
      "CTIEILFFKMHRIPWWFSDALNPCPCKRVNCTSKIARSVWK\n"
     ]
    }
   ],
   "source": [
    "align_sequences(sample5_sequence1, sample5_sequence2, 'local', {'penalty_type': 'linear', 'gap_opening_penalty': -11, 'gap_extension_penalty': -1})"
   ]
  },
  {
   "cell_type": "markdown",
   "id": "59a8c891-8a9f-40d4-99f2-a71ebd0ecb52",
   "metadata": {},
   "source": [
    "Here is what BioPython gives:"
   ]
  },
  {
   "cell_type": "code",
   "execution_count": 53,
   "id": "1670ff85-da7b-4514-ba24-f2cc199085ec",
   "metadata": {},
   "outputs": [
    {
     "name": "stdout",
     "output_type": "stream",
     "text": [
      "Score: 38.0\n",
      "CNYEILNFRDCRIKF-LVDAYNPKMRPWLPTICHWKFDWE\n",
      "|..|||.|...||..-..||.||\n",
      "CTIEILFFKMHRIPWWFSDALNPCPCKRVNCTSKIARSVWK\n",
      "\n",
      "Score: 38.0\n",
      "CNYEILNFRDCRIK-FLVDAYNPKMRPWLPTICHWKFDWE\n",
      "|..|||.|...||.-...||.||\n",
      "CTIEILFFKMHRIPWWFSDALNPCPCKRVNCTSKIARSVWK\n",
      "\n"
     ]
    }
   ],
   "source": [
    "align_sequences_biopython(sample5_sequence1, sample5_sequence2, 'local', {'penalty_type': 'linear', 'gap_opening_penalty': -11, 'gap_extension_penalty': -1})"
   ]
  },
  {
   "cell_type": "markdown",
   "id": "97bc0c86-e734-42c9-a308-5dafae0ce33b",
   "metadata": {},
   "source": [
    "As it can be seen, the first one is the same as mine."
   ]
  },
  {
   "cell_type": "markdown",
   "id": "ced1d7b8-7c1f-4647-978f-495ee6e52fa1",
   "metadata": {},
   "source": [
    "##### Local - Affine Gap Penalty"
   ]
  },
  {
   "cell_type": "markdown",
   "id": "d2ef12c0-e577-42c5-89e1-139b74c2761b",
   "metadata": {},
   "source": [
    "Here is what my function gives"
   ]
  },
  {
   "cell_type": "code",
   "execution_count": 54,
   "id": "73194628-0704-4737-8cf5-6b2ac10ccc90",
   "metadata": {},
   "outputs": [
    {
     "name": "stdout",
     "output_type": "stream",
     "text": [
      "Score: 38.0\n",
      "CNYEILNFRDCRIK-FLVDAYNPKMRPWLPTICHWKFDWE\n",
      "|..|||.|...||.-...||.||\n",
      "CTIEILFFKMHRIPWWFSDALNPCPCKRVNCTSKIARSVWK\n"
     ]
    }
   ],
   "source": [
    "align_sequences(sample5_sequence1, sample5_sequence2, 'local', {'penalty_type': 'affine', 'gap_opening_penalty': -11, 'gap_extension_penalty': -1})"
   ]
  },
  {
   "cell_type": "markdown",
   "id": "32304310-63a6-412e-b472-14d314ebe1a9",
   "metadata": {},
   "source": [
    "Here is what BioPython gives:"
   ]
  },
  {
   "cell_type": "code",
   "execution_count": 55,
   "id": "6b8310cd-a18d-4dd2-9944-9dd1c6d75d5c",
   "metadata": {},
   "outputs": [
    {
     "name": "stdout",
     "output_type": "stream",
     "text": [
      "Score: 38.0\n",
      "CNYEILNFRDCRIK-FLVDAYNPKMRPWLPTICHWKFDWE\n",
      "|..|||.|...||.-...||.||\n",
      "CTIEILFFKMHRIPWWFSDALNPCPCKRVNCTSKIARSVWK\n",
      "\n",
      "Score: 38.0\n",
      "CNYEILNFRDCRIKF-LVDAYNPKMRPWLPTICHWKFDWE\n",
      "|..|||.|...||..-..||.||\n",
      "CTIEILFFKMHRIPWWFSDALNPCPCKRVNCTSKIARSVWK\n",
      "\n"
     ]
    }
   ],
   "source": [
    "align_sequences_biopython(sample5_sequence1, sample5_sequence2, 'local', {'penalty_type': 'affine', 'gap_opening_penalty': -11, 'gap_extension_penalty': -1})"
   ]
  },
  {
   "cell_type": "markdown",
   "id": "ca7ce346-3d69-4dc2-8074-b5d71b59896b",
   "metadata": {},
   "source": [
    "As it can be seen, the first one is the same as mine."
   ]
  },
  {
   "cell_type": "markdown",
   "id": "0f1e7edf-da6b-4ee9-9794-f9d6440dc345",
   "metadata": {},
   "source": [
    "#### Sample 6"
   ]
  },
  {
   "cell_type": "code",
   "execution_count": 56,
   "id": "9ae46920-6605-4dbd-8867-cc26e764c710",
   "metadata": {},
   "outputs": [],
   "source": [
    "sample6_sequence1, sample6_sequence2 = create_random_sequences()"
   ]
  },
  {
   "cell_type": "markdown",
   "id": "91efa925-aba1-4996-b71c-66d8017b376b",
   "metadata": {},
   "source": [
    "##### Global - Linear Gap Penalty"
   ]
  },
  {
   "cell_type": "markdown",
   "id": "4a27da39-03dd-415b-b580-f30607d2ffa7",
   "metadata": {},
   "source": [
    "Here is what my function gives:"
   ]
  },
  {
   "cell_type": "code",
   "execution_count": 57,
   "id": "e6a40644-3fa9-4949-8c99-97f3f0a25a62",
   "metadata": {},
   "outputs": [
    {
     "name": "stdout",
     "output_type": "stream",
     "text": [
      "Score: -5.0\n",
      "KNHYCSKMVFHIQEGDQDHVAAIPPREYEVLYDWYHQ\n",
      "|........--||...|...|...|.-|||-||-||.\n",
      "KSSEWINPP--IQLHIQEPYAHLVPN-YEV-YD-YHC\n"
     ]
    }
   ],
   "source": [
    "align_sequences(sample6_sequence1, sample6_sequence2, 'global', {'penalty_type': 'linear', 'gap_opening_penalty': -11, 'gap_extension_penalty': -1})"
   ]
  },
  {
   "cell_type": "markdown",
   "id": "9196dd19-6469-46be-910a-eca7bc1848c7",
   "metadata": {},
   "source": [
    "Here is what BioPython gives:"
   ]
  },
  {
   "cell_type": "code",
   "execution_count": 58,
   "id": "3bdb6a3b-160b-47a5-a439-bd547324b12d",
   "metadata": {},
   "outputs": [
    {
     "name": "stdout",
     "output_type": "stream",
     "text": [
      "Score: -5.0\n",
      "KNHYCSKMVFHIQEGDQDHVAAIPPREYEVLYDWYHQ\n",
      "|........--||...|...|...|.-|||-||-||.\n",
      "KSSEWINPP--IQLHIQEPYAHLVPN-YEV-YD-YHC\n",
      "\n",
      "Score: -5.0\n",
      "KNHYCSKMVFHIQEGDQDHVAAIPPREYEVLYDWYHQ\n",
      "|.......--.||...|...|...|.-|||-||-||.\n",
      "KSSEWINP--PIQLHIQEPYAHLVPN-YEV-YD-YHC\n",
      "\n",
      "Score: -5.0\n",
      "KNHYCSKMVFHIQEGDQDHVAAIPPREYEVLYDWYHQ\n",
      "|......-.-.||...|...|...|.-|||-||-||.\n",
      "KSSEWIN-P-PIQLHIQEPYAHLVPN-YEV-YD-YHC\n",
      "\n",
      "Score: -5.0\n",
      "KNHYCSKMVFHIQEGDQDHVAAIPPREYEVLYDWYHQ\n",
      "|........--||...|...|...|-.|||-||-||.\n",
      "KSSEWINPP--IQLHIQEPYAHLVP-NYEV-YD-YHC\n",
      "\n",
      "Score: -5.0\n",
      "KNHYCSKMVFHIQEGDQDHVAAIPPREYEVLYDWYHQ\n",
      "|.......--.||...|...|...|-.|||-||-||.\n",
      "KSSEWINP--PIQLHIQEPYAHLVP-NYEV-YD-YHC\n",
      "\n",
      "Score: -5.0\n",
      "KNHYCSKMVFHIQEGDQDHVAAIPPREYEVLYDWYHQ\n",
      "|......-.-.||...|...|...|-.|||-||-||.\n",
      "KSSEWIN-P-PIQLHIQEPYAHLVP-NYEV-YD-YHC\n",
      "\n"
     ]
    }
   ],
   "source": [
    "align_sequences_biopython(sample6_sequence1, sample6_sequence2, 'global', {'penalty_type': 'linear', 'gap_opening_penalty': -11, 'gap_extension_penalty': -1})"
   ]
  },
  {
   "cell_type": "markdown",
   "id": "13e3d7bf-9c59-4805-a7da-fd1e5d921d4f",
   "metadata": {},
   "source": [
    "As it can be seen, the first result is the same as mine."
   ]
  },
  {
   "cell_type": "markdown",
   "id": "0c17941e-fda3-48a9-8975-a5588aa02ea4",
   "metadata": {
    "tags": []
   },
   "source": [
    "##### Global - Affine Gap Penalty"
   ]
  },
  {
   "cell_type": "markdown",
   "id": "6e8ccafd-f28b-409b-ada7-a3a5fccb255a",
   "metadata": {
    "tags": []
   },
   "source": [
    "Here is what my function gives:"
   ]
  },
  {
   "cell_type": "code",
   "execution_count": 59,
   "id": "ea04e70f-619a-42eb-a977-8f120585a09a",
   "metadata": {},
   "outputs": [
    {
     "name": "stdout",
     "output_type": "stream",
     "text": [
      "Score: 10.0\n",
      "KNH--YCSKMVFHIQEGDQDHVAAIPPREYEVLYDWYHQ\n",
      "|..--.......||||---......|--.|||-||-||.\n",
      "KSSEWINPPIQLHIQE---PYAHLVP--NYEV-YD-YHC\n"
     ]
    }
   ],
   "source": [
    "align_sequences(sample6_sequence1, sample6_sequence2, 'global', {'penalty_type': 'affine', 'gap_opening_penalty': -11, 'gap_extension_penalty': -1})"
   ]
  },
  {
   "cell_type": "markdown",
   "id": "694b809d-9e97-4155-a553-306342e94d31",
   "metadata": {},
   "source": [
    "Here is what BioPython gives:"
   ]
  },
  {
   "cell_type": "code",
   "execution_count": 60,
   "id": "e7acc46f-b5d5-4d77-8d16-e3c11c8d6ec2",
   "metadata": {},
   "outputs": [
    {
     "name": "stdout",
     "output_type": "stream",
     "text": [
      "Score: 10.0\n",
      "KNH--YCSKMVFHIQEGDQDHVAAIPPREYEVLYDWYHQ\n",
      "|..--.......||||---......|--.|||-||-||.\n",
      "KSSEWINPPIQLHIQE---PYAHLVP--NYEV-YD-YHC\n",
      "\n",
      "Score: 10.0\n",
      "KNHYC--SKMVFHIQEGDQDHVAAIPPREYEVLYDWYHQ\n",
      "|....--.....||||---......|--.|||-||-||.\n",
      "KSSEWINPPIQLHIQE---PYAHLVP--NYEV-YD-YHC\n",
      "\n",
      "Score: 10.0\n",
      "KNHYCSK--MVFHIQEGDQDHVAAIPPREYEVLYDWYHQ\n",
      "|......--...||||---......|--.|||-||-||.\n",
      "KSSEWINPPIQLHIQE---PYAHLVP--NYEV-YD-YHC\n",
      "\n",
      "Score: 10.0\n",
      "K-NHYCSKMV-FHIQEGDQDHVAAIPPREYEVLYDWYHQ\n",
      "|-........-.||||---......|--.|||-||-||.\n",
      "KSSEWINPPIQLHIQE---PYAHLVP--NYEV-YD-YHC\n",
      "\n",
      "Score: 10.0\n",
      "KN-HYCSKMV-FHIQEGDQDHVAAIPPREYEVLYDWYHQ\n",
      "|.-.......-.||||---......|--.|||-||-||.\n",
      "KSSEWINPPIQLHIQE---PYAHLVP--NYEV-YD-YHC\n",
      "\n"
     ]
    }
   ],
   "source": [
    "align_sequences_biopython(sample6_sequence1, sample6_sequence2, 'global', {'penalty_type': 'affine', 'gap_opening_penalty': -11, 'gap_extension_penalty': -1})"
   ]
  },
  {
   "cell_type": "markdown",
   "id": "47df2d86-8dd2-4a7e-8bb7-a8887060a5d6",
   "metadata": {},
   "source": [
    "As it can be seen, the first one is the same as mine."
   ]
  },
  {
   "cell_type": "markdown",
   "id": "53432c9c-ca90-4214-9e60-68c59e9828d4",
   "metadata": {},
   "source": [
    "##### Local - Linear Gap Penalty"
   ]
  },
  {
   "cell_type": "markdown",
   "id": "5e468ea2-d572-4cf7-b5ab-b091a36ce569",
   "metadata": {},
   "source": [
    "Here is what my function gives:"
   ]
  },
  {
   "cell_type": "code",
   "execution_count": 61,
   "id": "966b5f81-6bc5-4c4f-ac72-2cbef609f3c6",
   "metadata": {},
   "outputs": [
    {
     "name": "stdout",
     "output_type": "stream",
     "text": [
      "Score: 25.0\n",
      "KNHYCSKMVFHIQEGDQDHVAAIPPREYEVLYDWYHQ\n",
      "           ||...|...|...|.-|||-||..\n",
      "  KSSEWINPPIQLHIQEPYAHLVPN-YEV-YDYHC\n"
     ]
    }
   ],
   "source": [
    "align_sequences(sample6_sequence1, sample6_sequence2, 'local', {'penalty_type': 'linear', 'gap_opening_penalty': -11, 'gap_extension_penalty': -1})"
   ]
  },
  {
   "cell_type": "markdown",
   "id": "4277e83c-57f3-4275-a1cc-8f253021b187",
   "metadata": {},
   "source": [
    "Here is what BioPython gives:"
   ]
  },
  {
   "cell_type": "code",
   "execution_count": 62,
   "id": "9b7067e4-ae5b-42ba-8bdd-d72020cab578",
   "metadata": {},
   "outputs": [
    {
     "name": "stdout",
     "output_type": "stream",
     "text": [
      "Score: 25.0\n",
      "KNHYCSKMVFHIQEGDQDHVAAIPPREYEVLYDWYHQ\n",
      "           ||...|...|...|.-|||-||..\n",
      "  KSSEWINPPIQLHIQEPYAHLVPN-YEV-YDYHC\n",
      "\n",
      "Score: 25.0\n",
      "KNHYCSKMVFHIQEGDQDHVAAIPPREYEVLYDWYHQ\n",
      "           ||...|...|...|-.|||-||..\n",
      "  KSSEWINPPIQLHIQEPYAHLVP-NYEV-YDYHC\n",
      "\n",
      "Score: 25.0\n",
      "KNHYCSKMVFHIQEGDQDHVAAIPPREYEVLYDWYHQ\n",
      "           ||...|...|...|.-|||-||-||\n",
      "  KSSEWINPPIQLHIQEPYAHLVPN-YEV-YD-YHC\n",
      "\n",
      "Score: 25.0\n",
      "KNHYCSKMVFHIQEGDQDHVAAIPPREYEVLYDWYHQ\n",
      "           ||...|...|...|-.|||-||-||\n",
      "  KSSEWINPPIQLHIQEPYAHLVP-NYEV-YD-YHC\n",
      "\n"
     ]
    }
   ],
   "source": [
    "align_sequences_biopython(sample6_sequence1, sample6_sequence2, 'local', {'penalty_type': 'linear', 'gap_opening_penalty': -11, 'gap_extension_penalty': -1})"
   ]
  },
  {
   "cell_type": "markdown",
   "id": "407be9b4-3714-41f7-9461-fdbd845ebeee",
   "metadata": {},
   "source": [
    "As it can be seen, the first one is the same as mine."
   ]
  },
  {
   "cell_type": "markdown",
   "id": "1057cf19-aa56-4a6c-97fa-17f1a27e72d1",
   "metadata": {},
   "source": [
    "##### Local - Affine Gap Penalty"
   ]
  },
  {
   "cell_type": "markdown",
   "id": "e877dc5d-7ee2-4262-b70a-a7bd84825475",
   "metadata": {},
   "source": [
    "Here is what my function gives"
   ]
  },
  {
   "cell_type": "code",
   "execution_count": 63,
   "id": "3073fcab-695e-44aa-b773-be5a7993e2ab",
   "metadata": {},
   "outputs": [
    {
     "name": "stdout",
     "output_type": "stream",
     "text": [
      "Score: 27.0\n",
      "  KNHYCSKMVFHIQEGDQDHVAAIPPREYEVLYDWYHQ\n",
      "           .||||---......|--.|||-||..\n",
      "KSSEWINPPIQLHIQE---PYAHLVP--NYEV-YDYHC\n"
     ]
    }
   ],
   "source": [
    "align_sequences(sample6_sequence1, sample6_sequence2, 'local', {'penalty_type': 'affine', 'gap_opening_penalty': -11, 'gap_extension_penalty': -1})"
   ]
  },
  {
   "cell_type": "markdown",
   "id": "3efc9f06-ae70-430d-ae06-f4cc34ccfe08",
   "metadata": {},
   "source": [
    "Here is what BioPython gives:"
   ]
  },
  {
   "cell_type": "code",
   "execution_count": 64,
   "id": "bde3e6e0-38ac-408a-b569-3fa39c8c64ed",
   "metadata": {},
   "outputs": [
    {
     "name": "stdout",
     "output_type": "stream",
     "text": [
      "Score: 27.0\n",
      "  KNHYCSKMVFHIQEGDQDHVAAIPPREYEVLYDWYHQ\n",
      "            ||||---......|--.|||-||..\n",
      "KSSEWINPPIQLHIQE---PYAHLVP--NYEV-YDYHC\n",
      "\n",
      "Score: 27.0\n",
      "  KNHYCSKMVFHIQEGDQDHVAAIPPREYEVLYDWYHQ\n",
      "            ||||---......|--.|||-||-||\n",
      "KSSEWINPPIQLHIQE---PYAHLVP--NYEV-YD-YHC\n",
      "\n"
     ]
    }
   ],
   "source": [
    "align_sequences_biopython(sample6_sequence1, sample6_sequence2, 'local', {'penalty_type': 'affine', 'gap_opening_penalty': -11, 'gap_extension_penalty': -1})"
   ]
  },
  {
   "cell_type": "markdown",
   "id": "ef5ee34a-ad64-4e10-adea-8bf03655857b",
   "metadata": {},
   "source": [
    "Here, although the scores are the same, I get a small difference in the alignment string."
   ]
  },
  {
   "cell_type": "markdown",
   "id": "733218c7-1706-42db-b417-5921c8523a7a",
   "metadata": {},
   "source": [
    "#### Sample 7"
   ]
  },
  {
   "cell_type": "code",
   "execution_count": 65,
   "id": "4b008adf-025f-4121-90c2-b76f8261ad57",
   "metadata": {},
   "outputs": [],
   "source": [
    "sample7_sequence1, sample7_sequence2 = create_random_sequences()"
   ]
  },
  {
   "cell_type": "markdown",
   "id": "7a51fa2b-3aeb-43fe-8a3b-0f090573c7cf",
   "metadata": {},
   "source": [
    "##### Global - Linear Gap Penalty"
   ]
  },
  {
   "cell_type": "markdown",
   "id": "7f391f66-40ce-440c-891f-44960aabb484",
   "metadata": {},
   "source": [
    "Here is what my function gives:"
   ]
  },
  {
   "cell_type": "code",
   "execution_count": 66,
   "id": "8d2312ef-7223-4d69-9b6b-7cea79364801",
   "metadata": {},
   "outputs": [
    {
     "name": "stdout",
     "output_type": "stream",
     "text": [
      "Score: -2.0\n",
      "YCPQSSNGYVFHMVKWPMLRGSTRPSHNQAIDMICDK--NL\n",
      "|||..-.||..................|....|||.|--..\n",
      "YCPHA-DGYAHVREHCRGQTMLFWVNQNIPCTMICFKCPGM\n"
     ]
    }
   ],
   "source": [
    "align_sequences(sample7_sequence1, sample7_sequence2, 'global', {'penalty_type': 'linear', 'gap_opening_penalty': -11, 'gap_extension_penalty': -1})"
   ]
  },
  {
   "cell_type": "markdown",
   "id": "c4fb665f-5936-4c95-8112-68c424291a50",
   "metadata": {},
   "source": [
    "Here is what BioPython gives:"
   ]
  },
  {
   "cell_type": "code",
   "execution_count": 67,
   "id": "1b92f13f-e54e-4d59-a759-830447a54c4e",
   "metadata": {},
   "outputs": [
    {
     "name": "stdout",
     "output_type": "stream",
     "text": [
      "Score: -2.0\n",
      "YCPQSSNGYVFHMVKWPMLRGSTRPSHNQAIDMICDK--NL\n",
      "|||..-.||..................|....|||.|--..\n",
      "YCPHA-DGYAHVREHCRGQTMLFWVNQNIPCTMICFKCPGM\n",
      "\n",
      "Score: -2.0\n",
      "YCPQSSNGYVFHMVKWPMLRGSTRPSHNQAIDMICDK--NL\n",
      "|||.-..||..................|....|||.|--..\n",
      "YCPH-ADGYAHVREHCRGQTMLFWVNQNIPCTMICFKCPGM\n",
      "\n"
     ]
    }
   ],
   "source": [
    "align_sequences_biopython(sample7_sequence1, sample7_sequence2, 'global', {'penalty_type': 'linear', 'gap_opening_penalty': -11, 'gap_extension_penalty': -1})"
   ]
  },
  {
   "cell_type": "markdown",
   "id": "ffd3ad9b-bc9a-4df8-af7d-b492e0f76b0e",
   "metadata": {},
   "source": [
    "As it can be seen, the first result is the same as mine."
   ]
  },
  {
   "cell_type": "markdown",
   "id": "c6090c40-150b-4a7d-98f8-1f1f166cbcf6",
   "metadata": {
    "tags": []
   },
   "source": [
    "##### Global - Affine Gap Penalty"
   ]
  },
  {
   "cell_type": "markdown",
   "id": "f94df881-411a-4264-afb9-fe3e48a8a49a",
   "metadata": {
    "tags": []
   },
   "source": [
    "Here is what my function gives:"
   ]
  },
  {
   "cell_type": "code",
   "execution_count": 68,
   "id": "484188e3-4784-48ab-bb6d-73d80842f90b",
   "metadata": {},
   "outputs": [
    {
     "name": "stdout",
     "output_type": "stream",
     "text": [
      "Score: 19.0\n",
      "YCPQSSNGYVFHMVKWPMLRGSTR---PSHNQAIDMICDK--NL\n",
      "|||..-.||.-|....--.||.|.---...|....|||.|--..\n",
      "YCPHA-DGYA-HVREH--CRGQTMLFWVNQNIPCTMICFKCPGM\n"
     ]
    }
   ],
   "source": [
    "align_sequences(sample7_sequence1, sample7_sequence2, 'global', {'penalty_type': 'affine', 'gap_opening_penalty': -11, 'gap_extension_penalty': -1})"
   ]
  },
  {
   "cell_type": "markdown",
   "id": "027ac9cb-f07e-4359-a46b-2caca638562e",
   "metadata": {},
   "source": [
    "Here is what BioPython gives:"
   ]
  },
  {
   "cell_type": "code",
   "execution_count": 69,
   "id": "73d704ac-8999-4512-96a9-00b9edfa040e",
   "metadata": {},
   "outputs": [
    {
     "name": "stdout",
     "output_type": "stream",
     "text": [
      "Score: 19.0\n",
      "YCPQSSNGYVFHMVKWPMLRGSTR---PSHNQAIDMICDK--NL\n",
      "|||.-..||.-|...--..||.|.---...|....|||.|--..\n",
      "YCPH-ADGYA-HVRE--HCRGQTMLFWVNQNIPCTMICFKCPGM\n",
      "\n",
      "Score: 19.0\n",
      "YCPQSSNGYVFHMVKWPMLRGSTR---PSHNQAIDMICDK--NL\n",
      "|||..-.||.-|...--..||.|.---...|....|||.|--..\n",
      "YCPHA-DGYA-HVRE--HCRGQTMLFWVNQNIPCTMICFKCPGM\n",
      "\n",
      "Score: 19.0\n",
      "YCPQSSNGYVFHMVKWPMLRGSTR---PSHNQAIDMICDK--NL\n",
      "|||.-..||.-|....--.||.|.---...|....|||.|--..\n",
      "YCPH-ADGYA-HVREH--CRGQTMLFWVNQNIPCTMICFKCPGM\n",
      "\n",
      "Score: 19.0\n",
      "YCPQSSNGYVFHMVKWPMLRGSTR---PSHNQAIDMICDK--NL\n",
      "|||..-.||.-|....--.||.|.---...|....|||.|--..\n",
      "YCPHA-DGYA-HVREH--CRGQTMLFWVNQNIPCTMICFKCPGM\n",
      "\n"
     ]
    }
   ],
   "source": [
    "align_sequences_biopython(sample7_sequence1, sample7_sequence2, 'global', {'penalty_type': 'affine', 'gap_opening_penalty': -11, 'gap_extension_penalty': -1})"
   ]
  },
  {
   "cell_type": "markdown",
   "id": "ce1f814d-b827-4db9-bfdc-bf0117467858",
   "metadata": {},
   "source": [
    "As it can be seen, they are the same."
   ]
  },
  {
   "cell_type": "markdown",
   "id": "82913210-9033-4201-9f7d-b603e78e1d6e",
   "metadata": {},
   "source": [
    "##### Local - Linear Gap Penalty"
   ]
  },
  {
   "cell_type": "markdown",
   "id": "079aa4bd-a67f-4f6b-9292-5deda8174beb",
   "metadata": {},
   "source": [
    "Here is what my function gives:"
   ]
  },
  {
   "cell_type": "code",
   "execution_count": 70,
   "id": "797f2e04-c325-4862-bd2f-62e73b1b7b1f",
   "metadata": {},
   "outputs": [
    {
     "name": "stdout",
     "output_type": "stream",
     "text": [
      "Score: 27.0\n",
      "YCPQSSNGYVFHMVKWPMLRGSTRPSHNQAIDMICDKNL\n",
      "|||..-.||\n",
      "YCPHA-DGYAHVREHCRGQTMLFWVNQNIPCTMICFKCPGM\n"
     ]
    }
   ],
   "source": [
    "align_sequences(sample7_sequence1, sample7_sequence2, 'local', {'penalty_type': 'linear', 'gap_opening_penalty': -11, 'gap_extension_penalty': -1})"
   ]
  },
  {
   "cell_type": "markdown",
   "id": "d80abd1e-38a5-4156-9890-d204dca823bb",
   "metadata": {},
   "source": [
    "Here is what BioPython gives:"
   ]
  },
  {
   "cell_type": "code",
   "execution_count": 71,
   "id": "ab3acd18-91ca-4f9e-b5f9-21dd4eca867f",
   "metadata": {},
   "outputs": [
    {
     "name": "stdout",
     "output_type": "stream",
     "text": [
      "Score: 27.0\n",
      "YCPQSSNGYVFHMVKWPMLRGSTRPSHNQAIDMICDKNL\n",
      "|||..-.||\n",
      "YCPHA-DGYAHVREHCRGQTMLFWVNQNIPCTMICFKCPGM\n",
      "\n",
      "Score: 27.0\n",
      "YCPQSSNGYVFHMVKWPMLRGSTRPSHNQAIDMICDKNL\n",
      "|||.-..||\n",
      "YCPH-ADGYAHVREHCRGQTMLFWVNQNIPCTMICFKCPGM\n",
      "\n"
     ]
    }
   ],
   "source": [
    "align_sequences_biopython(sample7_sequence1, sample7_sequence2, 'local', {'penalty_type': 'linear', 'gap_opening_penalty': -11, 'gap_extension_penalty': -1})"
   ]
  },
  {
   "cell_type": "markdown",
   "id": "2b6df472-4d89-4895-b2d8-db8f1dd499e8",
   "metadata": {},
   "source": [
    "As it can be seen, the first one is the same as mine."
   ]
  },
  {
   "cell_type": "markdown",
   "id": "34924299-ac21-4e93-89b0-28665299d12e",
   "metadata": {},
   "source": [
    "##### Local - Affine Gap Penalty"
   ]
  },
  {
   "cell_type": "markdown",
   "id": "c9edf8e1-46de-44ee-9670-549f647883dc",
   "metadata": {},
   "source": [
    "Here is what my function gives"
   ]
  },
  {
   "cell_type": "code",
   "execution_count": 72,
   "id": "b0d2ab12-28ff-4ae7-9785-f70d7ed018ff",
   "metadata": {},
   "outputs": [
    {
     "name": "stdout",
     "output_type": "stream",
     "text": [
      "Score: 29.0\n",
      "YCPQSSNGYVFHMVKWPMLRGSTR---PSHNQAIDMICDKNL\n",
      "|||..-.||.-|....--.||.|.---...|....|||.|\n",
      "YCPHA-DGYA-HVREH--CRGQTMLFWVNQNIPCTMICFKCPGM\n"
     ]
    }
   ],
   "source": [
    "align_sequences(sample7_sequence1, sample7_sequence2, 'local', {'penalty_type': 'affine', 'gap_opening_penalty': -11, 'gap_extension_penalty': -1})"
   ]
  },
  {
   "cell_type": "markdown",
   "id": "006c7b50-16af-40b3-8021-e421b2be9664",
   "metadata": {},
   "source": [
    "Here is what BioPython gives:"
   ]
  },
  {
   "cell_type": "code",
   "execution_count": 73,
   "id": "481052fa-2a21-457f-bbf0-b00da14049a0",
   "metadata": {},
   "outputs": [
    {
     "name": "stdout",
     "output_type": "stream",
     "text": [
      "Score: 29.0\n",
      "YCPQSSNGYVFHMVKWPMLRGSTR---PSHNQAIDMICDKNL\n",
      "|||.-..||.-|...--..||.|.---...|....|||.|\n",
      "YCPH-ADGYA-HVRE--HCRGQTMLFWVNQNIPCTMICFKCPGM\n",
      "\n",
      "Score: 29.0\n",
      "YCPQSSNGYVFHMVKWPMLRGSTR---PSHNQAIDMICDKNL\n",
      "|||..-.||.-|...--..||.|.---...|....|||.|\n",
      "YCPHA-DGYA-HVRE--HCRGQTMLFWVNQNIPCTMICFKCPGM\n",
      "\n",
      "Score: 29.0\n",
      "YCPQSSNGYVFHMVKWPMLRGSTR---PSHNQAIDMICDKNL\n",
      "|||.-..||.-|....--.||.|.---...|....|||.|\n",
      "YCPH-ADGYA-HVREH--CRGQTMLFWVNQNIPCTMICFKCPGM\n",
      "\n",
      "Score: 29.0\n",
      "YCPQSSNGYVFHMVKWPMLRGSTR---PSHNQAIDMICDKNL\n",
      "|||..-.||.-|....--.||.|.---...|....|||.|\n",
      "YCPHA-DGYA-HVREH--CRGQTMLFWVNQNIPCTMICFKCPGM\n",
      "\n"
     ]
    }
   ],
   "source": [
    "align_sequences_biopython(sample7_sequence1, sample7_sequence2, 'local', {'penalty_type': 'affine', 'gap_opening_penalty': -11, 'gap_extension_penalty': -1})"
   ]
  },
  {
   "cell_type": "markdown",
   "id": "fcb29c30-4a7c-4121-b9d4-3a1ea4368e8d",
   "metadata": {},
   "source": [
    "As it can be seen, the first one is the same as mine."
   ]
  },
  {
   "cell_type": "markdown",
   "id": "883e0058-1c4f-4212-b54a-70432586edc1",
   "metadata": {},
   "source": [
    "### Conclusion\n",
    "I successfully implemented Global alignment algorithm for both linear and affine gap penalties. I also implemented Local Alignment Algorithm with a high success rate, but although the scores I get are always totally correct, I sometimes got a little bit different results for alignment matrices. But as a whole, my algorithms work almost perfectly as I observed."
   ]
  },
  {
   "cell_type": "markdown",
   "id": "1bbb1cbb-a839-498e-b83b-1b244471c9d3",
   "metadata": {},
   "source": [
    "### References\n",
    "1) Lecture Notes\n",
    "2) [Wikipedia: Needleman-Wunsch Algorithm](https://en.wikipedia.org/wiki/Needleman%E2%80%93Wunsch_algorithm)\n",
    "3) [Wikipedia: Smith-Waterman Algorithm](https://en.wikipedia.org/wiki/Smith%E2%80%93Waterman_algorithm)\n",
    "4) [CMU School of Computer Science Bioinfo-Lectures](https://www.cs.cmu.edu/~ckingsf/bioinfo-lectures/align.py)\n",
    "5) [@xuyk's _Rosalind_ GitHub Repo](https://github.com/xuyk/Rosalind)"
   ]
  }
 ],
 "metadata": {
  "kernelspec": {
   "display_name": "Python 3 (ipykernel)",
   "language": "python",
   "name": "python3"
  },
  "language_info": {
   "codemirror_mode": {
    "name": "ipython",
    "version": 3
   },
   "file_extension": ".py",
   "mimetype": "text/x-python",
   "name": "python",
   "nbconvert_exporter": "python",
   "pygments_lexer": "ipython3",
   "version": "3.9.5"
  }
 },
 "nbformat": 4,
 "nbformat_minor": 5
}
