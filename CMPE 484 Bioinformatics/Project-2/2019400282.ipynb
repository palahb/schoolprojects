{
 "cells": [
  {
   "cell_type": "markdown",
   "id": "41a53c59-9093-4098-b607-55c5950575a1",
   "metadata": {},
   "source": [
    "# CMPE 484: Bioinformatics and Computational Genomics, Spring 2022\n",
    "## Assignment II -  Phylogenetic Trees\n",
    "### Halil Burak Pala - 2019400282"
   ]
  },
  {
   "cell_type": "code",
   "execution_count": 1,
   "id": "256a9dab-ea59-4cc1-8d51-a07803619b99",
   "metadata": {},
   "outputs": [],
   "source": [
    "# Imports:\n",
    "import Bio as bio\n",
    "import numpy as np\n",
    "import matplotlib.pyplot as plt\n",
    "from io import StringIO\n",
    "from Bio import Phylo\n",
    "from Bio.Phylo.TreeConstruction import DistanceMatrix\n",
    "from Bio.Phylo.TreeConstruction import DistanceTreeConstructor"
   ]
  },
  {
   "cell_type": "markdown",
   "id": "e00d244f-40e6-4e8b-8afc-67f1ddd8e2d2",
   "metadata": {},
   "source": [
    "## Part 1) Loading and the Visualization of the Data"
   ]
  },
  {
   "cell_type": "markdown",
   "id": "44470a66-22ba-4049-86df-17c3de562541",
   "metadata": {},
   "source": [
    "### 1a) Reading the FASTA file HCOV19-ENGLAND-271120-A.fasta"
   ]
  },
  {
   "cell_type": "code",
   "execution_count": 2,
   "id": "1bef42ae-4ba2-4939-a1b6-8e74a9c3ec78",
   "metadata": {},
   "outputs": [],
   "source": [
    "from Bio import SeqIO\n",
    "\n",
    "with open(\"UK Coronavirus Data/Coronavirus Samples/England (NOV272020)/HCOV19-ENGLAND-271120-A.fasta\") as handle:\n",
    "    records = list(SeqIO.parse(handle, \"fasta\"))"
   ]
  },
  {
   "cell_type": "code",
   "execution_count": 3,
   "id": "ef95f8ba-e047-4d8c-9b5a-7484cd779203",
   "metadata": {},
   "outputs": [],
   "source": [
    "alignments271120 = np.zeros([100,3822], dtype = np.unicode_)"
   ]
  },
  {
   "cell_type": "code",
   "execution_count": 4,
   "id": "443154c7-0299-481f-bb71-5086ecadfc1f",
   "metadata": {},
   "outputs": [],
   "source": [
    "for i in range(100):\n",
    "    for j in range(3822):\n",
    "        alignments271120[i][j] = records[i].seq[j]"
   ]
  },
  {
   "cell_type": "markdown",
   "id": "c0003e7a-0c47-4add-8212-8d0b51f499e6",
   "metadata": {},
   "source": [
    "### 1b) Converting Non Uniform Characters"
   ]
  },
  {
   "cell_type": "code",
   "execution_count": 5,
   "id": "580a7135-95ef-4513-b579-f5444806b3df",
   "metadata": {},
   "outputs": [],
   "source": [
    "for i in range(100):\n",
    "    for j in range(3822):\n",
    "        if alignments271120[i][j] not in {'A','T','G','C','-'}:\n",
    "            alignments271120[i][j] = '-'"
   ]
  },
  {
   "cell_type": "markdown",
   "id": "c65ea194-f8c4-443f-a0d0-df56bc45afb8",
   "metadata": {},
   "source": [
    "### 1c) Visualizing First 25 Samples"
   ]
  },
  {
   "cell_type": "markdown",
   "id": "59a0803a-78c8-45af-85ec-a4cb39df0567",
   "metadata": {},
   "source": [
    "Colors I am going to use are as follows:\n",
    "- A -> Green\n",
    "- T -> Blue\n",
    "- G -> Red\n",
    "- C -> Gray"
   ]
  },
  {
   "cell_type": "code",
   "execution_count": 6,
   "id": "a7b7b569-8377-4b8c-8f22-a89237780fd5",
   "metadata": {},
   "outputs": [],
   "source": [
    "alignments271120rgb = np.zeros([25,250,3], dtype=np.intc)\n",
    "# alignments271120rgb[0]: Red Channel\n",
    "# alignments271120rgb[1]: Green Channel\n",
    "# alignments271120rgb[2]: Blue Channel\n",
    "for i in range(25):\n",
    "    for j in range(250):\n",
    "        if alignments271120[i][j] == 'A': # Green\n",
    "            alignments271120rgb[i][j][0] = 0\n",
    "            alignments271120rgb[i][j][1] = 255\n",
    "            alignments271120rgb[i][j][2] = 0\n",
    "        elif alignments271120[i][j] == 'T': # Blue\n",
    "            alignments271120rgb[i][j][0] = 0\n",
    "            alignments271120rgb[i][j][1] = 0\n",
    "            alignments271120rgb[i][j][2] = 255\n",
    "        elif alignments271120[i][j] == 'G': # Red\n",
    "            alignments271120rgb[i][j][0] = 255\n",
    "            alignments271120rgb[i][j][1] = 0\n",
    "            alignments271120rgb[i][j][2] = 0\n",
    "        elif alignments271120[i][j] == 'C': # Gray\n",
    "            alignments271120rgb[i][j][0] = 105\n",
    "            alignments271120rgb[i][j][1] = 105\n",
    "            alignments271120rgb[i][j][2] = 105\n",
    "        elif alignments271120[i][j] == '-': # White\n",
    "            alignments271120rgb[i][j][0] = 255\n",
    "            alignments271120rgb[i][j][1] = 255\n",
    "            alignments271120rgb[i][j][2] = 255"
   ]
  },
  {
   "cell_type": "code",
   "execution_count": 7,
   "id": "9ba44055-a599-4d01-a50d-3b6417c68231",
   "metadata": {},
   "outputs": [
    {
     "data": {
      "image/png": "[encoded data removed]",
      "text/plain": [
       "<Figure size 1440x360 with 1 Axes>"
      ]
     },
     "metadata": {
      "needs_background": "light"
     },
     "output_type": "display_data"
    }
   ],
   "source": [
    "# Here is the result:\n",
    "fig = plt.figure()\n",
    "fig.set_size_inches(20,5)\n",
    "plt.imshow(alignments271120rgb, interpolation='nearest', aspect='auto')\n",
    "plt.show()"
   ]
  },
  {
   "cell_type": "markdown",
   "id": "2a9f727a-608a-49d6-b056-0db9b105bf62",
   "metadata": {},
   "source": [
    "### 1d) Some Observations Regarding 1c\n",
    "It can be seen that the sequences are somewhat similar except some obvious mutations. For example although most of the sequences have the same number of indels at the beginning of them, 3 of them does not have some these indels. Also, there are some differences in some positions of alignment of nucleotides. For example in the 203rd position some of them have Guanin and the rest have Timin."
   ]
  },
  {
   "cell_type": "markdown",
   "id": "d5ffd134-7b8e-4142-a739-eda15e690ccc",
   "metadata": {},
   "source": [
    "### 1e) Entropy Score of the Alignments\n",
    "To calculate overall entropy, I first calculated column entropies and then summed them up."
   ]
  },
  {
   "cell_type": "code",
   "execution_count": 8,
   "id": "604b2b9e-ec34-4d29-b68d-dc9f95a1cbe7",
   "metadata": {},
   "outputs": [],
   "source": [
    "entropy = 0\n",
    "for column in alignments271120.T:\n",
    "    occurences = {'A':0, 'T':0, 'G':0, 'C':0, '-':0}\n",
    "    for nucleotide in column:\n",
    "        occurences[nucleotide] += 1\n",
    "    # During the calculation, since log(0) is -inf, and -inf * 0 gives nan, I set probabilities to 1\n",
    "    # if probabilities are 0. This is because log(1) gives 0 and 1*0 = 0 which is what we want.\n",
    "    pA = occurences['A']/column.size if occurences['A']/column.size != 0 else 1\n",
    "    pT = occurences['T']/column.size if occurences['T']/column.size != 0 else 1\n",
    "    pG = occurences['G']/column.size if occurences['G']/column.size != 0 else 1\n",
    "    pC = occurences['C']/column.size if occurences['C']/column.size != 0 else 1\n",
    "    pIndel = occurences['-']/column.size if occurences['-']/column.size != 0 else 1\n",
    "    \n",
    "    entropy -= pA * np.log(pA) + pT * np.log(pT) + pG * np.log(pG) + pC * np.log(pC) + pIndel * np.log(pIndel) "
   ]
  },
  {
   "cell_type": "code",
   "execution_count": 9,
   "id": "4d7da7d9-1ef5-4ea9-9960-f14199ed099e",
   "metadata": {},
   "outputs": [
    {
     "data": {
      "text/plain": [
       "82.89042201726272"
      ]
     },
     "execution_count": 9,
     "metadata": {},
     "output_type": "execute_result"
    }
   ],
   "source": [
    "# Here is the entropy score:\n",
    "entropy"
   ]
  },
  {
   "cell_type": "markdown",
   "id": "e5f6125b-95bd-49a9-bd38-460cf4aadf4b",
   "metadata": {},
   "source": [
    "## Part 2) Constructing Phylogenetic Trees"
   ]
  },
  {
   "cell_type": "markdown",
   "id": "8cd48564-ba6b-4da2-84bc-bce056a63f86",
   "metadata": {},
   "source": [
    "### Reading the data:"
   ]
  },
  {
   "cell_type": "code",
   "execution_count": 27,
   "id": "e938b337-1d9a-4c58-96d6-11a394650a62",
   "metadata": {},
   "outputs": [],
   "source": [
    "records031120_all = np.array(list(SeqIO.parse(\"UK Coronavirus Data/Coronavirus Samples/England (NOV032020)/HCOV19-ENGLAND-031120-A.fasta\", \"fasta\")))\n",
    "records271120_all = np.array(list(SeqIO.parse(\"UK Coronavirus Data/Coronavirus Samples/England (NOV272020)/HCOV19-ENGLAND-271120-A.fasta\", \"fasta\")))\n",
    "records081220_all = np.array(list(SeqIO.parse(\"UK Coronavirus Data/Coronavirus Samples/England (DEC082020)/HCOV19-ENGLAND-081220-A.fasta\", \"fasta\")))"
   ]
  },
  {
   "cell_type": "code",
   "execution_count": 11,
   "id": "4d686759-3e40-48e3-a41d-dfcec8b0ddcb",
   "metadata": {},
   "outputs": [],
   "source": [
    "records031120 = records031120_all[0:4,21563:25385]\n",
    "records271120 = records271120_all[0:4,21563:25385]\n",
    "records081220 = records081220_all[0:4,21563:25385]\n",
    "\n",
    "records = np.concatenate((records031120,records271120,records081220))"
   ]
  },
  {
   "cell_type": "code",
   "execution_count": 12,
   "id": "30ed7d35-707b-458d-a614-e1c812982883",
   "metadata": {},
   "outputs": [],
   "source": [
    "for i in range(records.shape[0]):\n",
    "    for j in range(records.shape[1]):\n",
    "        if records[i][j] not in {'A','T','G','C','-'}:\n",
    "            records[i][j] = '-'"
   ]
  },
  {
   "cell_type": "markdown",
   "id": "c1cd86bf-9eae-4a35-b19f-9a5bfce92fa3",
   "metadata": {},
   "source": [
    "### 2a) Pairwise Similarity Matrix"
   ]
  },
  {
   "cell_type": "code",
   "execution_count": 13,
   "id": "d19abeb2-27d5-4349-994d-cb891fb83e95",
   "metadata": {},
   "outputs": [],
   "source": [
    "pwSimMatrix = np.zeros([records.shape[0],records.shape[0]]) # Pairwise similarity Matrix\n",
    "for i in range(records.shape[0]):\n",
    "    for j in range(records.shape[0]):\n",
    "        seq1 = records[i]\n",
    "        seq2 = records[j]\n",
    "        pwSimMatrix[i][j] = np.sum(seq1==seq2)/records.shape[1] # Percent identity score\n"
   ]
  },
  {
   "cell_type": "code",
   "execution_count": 14,
   "id": "8efe2fee-1518-405f-a957-9822b3127c59",
   "metadata": {},
   "outputs": [
    {
     "data": {
      "text/plain": [
       "array([[1.        , 0.86970173, 0.8689168 , 0.90528519, 0.8762428 ,\n",
       "        0.92673993, 0.92647828, 0.92621664, 0.87807431, 0.86368394,\n",
       "        0.88095238, 0.92700157],\n",
       "       [0.86970173, 1.        , 0.99869178, 0.92150706, 0.89115646,\n",
       "        0.94243851, 0.94217687, 0.94243851, 0.88827839, 0.87885924,\n",
       "        0.98874935, 0.94243851],\n",
       "       [0.8689168 , 0.99869178, 1.        , 0.92098378, 0.89037153,\n",
       "        0.94165358, 0.94191523, 0.9411303 , 0.88749346, 0.87912088,\n",
       "        0.98796442, 0.94165358],\n",
       "       [0.90528519, 0.92150706, 0.92098378, 1.        , 0.92673993,\n",
       "        0.97802198, 0.97802198, 0.97749869, 0.92386185, 0.91470434,\n",
       "        0.92857143, 0.97776033],\n",
       "       [0.8762428 , 0.89115646, 0.89037153, 0.92673993, 1.        ,\n",
       "        0.94819466, 0.94793302, 0.94767138, 0.99712193, 0.88487703,\n",
       "        0.89822083, 0.94845631],\n",
       "       [0.92673993, 0.94243851, 0.94165358, 0.97802198, 0.94819466,\n",
       "        1.        , 0.99921507, 0.99895343, 0.94531659, 0.93589744,\n",
       "        0.94950288, 0.99921507],\n",
       "       [0.92647828, 0.94217687, 0.94191523, 0.97802198, 0.94793302,\n",
       "        0.99921507, 1.        , 0.99869178, 0.94505495, 0.93615908,\n",
       "        0.94924123, 0.99895343],\n",
       "       [0.92621664, 0.94243851, 0.9411303 , 0.97749869, 0.94767138,\n",
       "        0.99895343, 0.99869178, 1.        , 0.94583987, 0.93537415,\n",
       "        0.94897959, 0.99869178],\n",
       "       [0.87807431, 0.88827839, 0.88749346, 0.92386185, 0.99712193,\n",
       "        0.94531659, 0.94505495, 0.94583987, 1.        , 0.8822606 ,\n",
       "        0.89534275, 0.94557823],\n",
       "       [0.86368394, 0.87885924, 0.87912088, 0.91470434, 0.88487703,\n",
       "        0.93589744, 0.93615908, 0.93537415, 0.8822606 , 1.        ,\n",
       "        0.8859236 , 0.93589744],\n",
       "       [0.88095238, 0.98874935, 0.98796442, 0.92857143, 0.89822083,\n",
       "        0.94950288, 0.94924123, 0.94897959, 0.89534275, 0.8859236 ,\n",
       "        1.        , 0.94950288],\n",
       "       [0.92700157, 0.94243851, 0.94165358, 0.97776033, 0.94845631,\n",
       "        0.99921507, 0.99895343, 0.99869178, 0.94557823, 0.93589744,\n",
       "        0.94950288, 1.        ]])"
      ]
     },
     "execution_count": 14,
     "metadata": {},
     "output_type": "execute_result"
    }
   ],
   "source": [
    "# Here is the pairwise similarity matrix:\n",
    "pwSimMatrix"
   ]
  },
  {
   "cell_type": "markdown",
   "id": "9b6be4fe-1567-42a0-a56e-4ed50c5945e0",
   "metadata": {},
   "source": [
    "### 2b) Pairwise Distance Matrix\n",
    "We get this matrix by subtracting 1 from the similarity matrix:"
   ]
  },
  {
   "cell_type": "code",
   "execution_count": 15,
   "id": "054bbab0-3c80-4b4d-9d08-02f3b91b0610",
   "metadata": {},
   "outputs": [],
   "source": [
    "pwDistMatrix = 1 - pwSimMatrix"
   ]
  },
  {
   "cell_type": "code",
   "execution_count": 16,
   "id": "af56b670-07a4-4d73-93a9-c6ced29dc28f",
   "metadata": {},
   "outputs": [
    {
     "data": {
      "text/plain": [
       "array([[0.        , 0.13029827, 0.1310832 , 0.09471481, 0.1237572 ,\n",
       "        0.07326007, 0.07352172, 0.07378336, 0.12192569, 0.13631606,\n",
       "        0.11904762, 0.07299843],\n",
       "       [0.13029827, 0.        , 0.00130822, 0.07849294, 0.10884354,\n",
       "        0.05756149, 0.05782313, 0.05756149, 0.11172161, 0.12114076,\n",
       "        0.01125065, 0.05756149],\n",
       "       [0.1310832 , 0.00130822, 0.        , 0.07901622, 0.10962847,\n",
       "        0.05834642, 0.05808477, 0.0588697 , 0.11250654, 0.12087912,\n",
       "        0.01203558, 0.05834642],\n",
       "       [0.09471481, 0.07849294, 0.07901622, 0.        , 0.07326007,\n",
       "        0.02197802, 0.02197802, 0.02250131, 0.07613815, 0.08529566,\n",
       "        0.07142857, 0.02223967],\n",
       "       [0.1237572 , 0.10884354, 0.10962847, 0.07326007, 0.        ,\n",
       "        0.05180534, 0.05206698, 0.05232862, 0.00287807, 0.11512297,\n",
       "        0.10177917, 0.05154369],\n",
       "       [0.07326007, 0.05756149, 0.05834642, 0.02197802, 0.05180534,\n",
       "        0.        , 0.00078493, 0.00104657, 0.05468341, 0.06410256,\n",
       "        0.05049712, 0.00078493],\n",
       "       [0.07352172, 0.05782313, 0.05808477, 0.02197802, 0.05206698,\n",
       "        0.00078493, 0.        , 0.00130822, 0.05494505, 0.06384092,\n",
       "        0.05075877, 0.00104657],\n",
       "       [0.07378336, 0.05756149, 0.0588697 , 0.02250131, 0.05232862,\n",
       "        0.00104657, 0.00130822, 0.        , 0.05416013, 0.06462585,\n",
       "        0.05102041, 0.00130822],\n",
       "       [0.12192569, 0.11172161, 0.11250654, 0.07613815, 0.00287807,\n",
       "        0.05468341, 0.05494505, 0.05416013, 0.        , 0.1177394 ,\n",
       "        0.10465725, 0.05442177],\n",
       "       [0.13631606, 0.12114076, 0.12087912, 0.08529566, 0.11512297,\n",
       "        0.06410256, 0.06384092, 0.06462585, 0.1177394 , 0.        ,\n",
       "        0.1140764 , 0.06410256],\n",
       "       [0.11904762, 0.01125065, 0.01203558, 0.07142857, 0.10177917,\n",
       "        0.05049712, 0.05075877, 0.05102041, 0.10465725, 0.1140764 ,\n",
       "        0.        , 0.05049712],\n",
       "       [0.07299843, 0.05756149, 0.05834642, 0.02223967, 0.05154369,\n",
       "        0.00078493, 0.00104657, 0.00130822, 0.05442177, 0.06410256,\n",
       "        0.05049712, 0.        ]])"
      ]
     },
     "execution_count": 16,
     "metadata": {},
     "output_type": "execute_result"
    }
   ],
   "source": [
    "# Here is the pairwise distance matrix:\n",
    "pwDistMatrix"
   ]
  },
  {
   "cell_type": "markdown",
   "id": "11a1ea7e-f0dd-405f-a4b6-f1e338d076c3",
   "metadata": {},
   "source": [
    "### 2c) Neighbor Joining Algorithm"
   ]
  },
  {
   "cell_type": "code",
   "execution_count": 17,
   "id": "f8d5e352-723a-4f60-8f92-a2a7bc41f383",
   "metadata": {},
   "outputs": [],
   "source": [
    "def nj(distance_matrix):\n",
    "\n",
    "    # Labels of the sequences. ddmm-n where dd:date, mm:month, n:patient number. Later\n",
    "    # I used this labels array to construct a newick string.\n",
    "    labels = ['0311-1','0311-2','0311-3','0311-4','2711-1','2711-2','2711-3','2711-4','0812-1','0812-2','0812-3','0812-4']\n",
    "    matrix = []\n",
    "\n",
    "    # Creating a lower triangular matrix to construct a DistanceMatrix object:\n",
    "    for i in range(1,1+len(distance_matrix)):\n",
    "        matrix.append(distance_matrix[i-1][:i])\n",
    "\n",
    "    # Phylo's DistanceMatrix object:\n",
    "    dm = DistanceMatrix(labels,matrix)\n",
    "\n",
    "    # List to keep average distances of nodes from other nodes:\n",
    "    u = [0 for i in range(len(dm))]\n",
    "    \n",
    "    min_i = 0\n",
    "    min_j = 0\n",
    "\n",
    "    # Iterate until 2 nodes are left:\n",
    "    while len(dm) > 2:\n",
    "\n",
    "        n = len(dm)\n",
    "\n",
    "        # Average distances of nodes from other nodes:\n",
    "        for i in range(0, n):\n",
    "            u[i] = 0\n",
    "            for j in range(0, n):\n",
    "                u[i] += dm[i, j]\n",
    "            u[i] = u[i] / (n - 2)\n",
    "\n",
    "        # Choose pair (i,j) with smallest dm[i,j] – u[i]– u[j]:\n",
    "        min_dist = float(\"inf\")\n",
    "        min_i = 0 ; min_j = 0\n",
    "        for i in range(1, n):\n",
    "            for j in range(0, i):\n",
    "                temp = dm[i, j] - u[i] - u[j]\n",
    "                if min_dist > temp:\n",
    "                    min_dist = temp\n",
    "                    min_i = i ; min_j = j\n",
    "\n",
    "        # Distances of nodes constructing new node to this new node:\n",
    "        min_i_length = (dm[min_i, min_j] + u[min_i] - u[min_j]) / 2\n",
    "        min_j_length = dm[min_i, min_j] - min_i_length\n",
    "\n",
    "        # Constructing newick string:\n",
    "        labels[min_j] = f\"({labels[min_i]}:{min_i_length},{labels[min_j]}:{min_j_length})\"\n",
    "\n",
    "        # Updating distance matrix:\n",
    "        for k in range(0, n):\n",
    "            if k != min_i and k != min_j:\n",
    "                dm[min_j, k] = (dm[min_i, k] + dm[min_j, k] - dm[min_i, min_j]) / 2.0\n",
    "\n",
    "        del dm[min_i]\n",
    "\n",
    "    # Last step to construct newick string:\n",
    "    newick_string = f\"{labels[0]}:0,{labels[1]}:{dm[1,0]}\"\n",
    "    return newick_string # Returns the newick string"
   ]
  },
  {
   "cell_type": "code",
   "execution_count": 18,
   "id": "8c1f2940-33f1-4e88-a5af-4d5927861752",
   "metadata": {},
   "outputs": [],
   "source": [
    "newick_string = nj(np.ndarray.tolist(pwDistMatrix))"
   ]
  },
  {
   "cell_type": "markdown",
   "id": "f143a5f0-334d-4af2-92f8-22218f4eae6c",
   "metadata": {},
   "source": [
    "Here is the resulting Newick string:"
   ]
  },
  {
   "cell_type": "code",
   "execution_count": 19,
   "id": "f36ac618-f051-4fa8-9b25-868aebc3e86f",
   "metadata": {},
   "outputs": [
    {
     "name": "stdout",
     "output_type": "stream",
     "text": [
      "(2711-2:0.00028617216117217577,(((0812-2:0.06352367870225013,2711-3:0.0003172422815280046):0.00012673338566194028,0311-4:0.021589645473574056):7.563121402408019e-05,(0812-4:0.0003985969387755089,((0812-3:0.0019050889586603934,(0311-3:0.0009738938310367221,0311-2:0.00033432176289318466):0.009083922030350612):0.047608145822431516,((0812-1:0.0025771847200418696,2711-1:0.00030088958660390297):0.050095312850414866,0311-1:0.07130709426627795):0.0010574742717599922):0.0002555108581894167):9.198390894819917e-05):5.51903453688855e-05):0,2711-4:0.0007604003139717718\n"
     ]
    }
   ],
   "source": [
    "print(newick_string)"
   ]
  },
  {
   "cell_type": "markdown",
   "id": "ae8648a0-1224-4be8-8882-ec0ca94276a8",
   "metadata": {},
   "source": [
    "### 2d) Visualize The Tree"
   ]
  },
  {
   "cell_type": "markdown",
   "id": "670086f3-0adf-4743-a533-518de7d3d0df",
   "metadata": {},
   "source": [
    "To visualize my tree, I used Phylo.read and Phylo.draw methods:"
   ]
  },
  {
   "cell_type": "code",
   "execution_count": 20,
   "id": "66f95b3c-9bb0-4e64-ae7b-601009d0ae4a",
   "metadata": {},
   "outputs": [
    {
     "data": {
      "image/png": "[encoded data removed]",
      "text/plain": [
       "<Figure size 432x288 with 1 Axes>"
      ]
     },
     "metadata": {
      "needs_background": "light"
     },
     "output_type": "display_data"
    }
   ],
   "source": [
    "handle = StringIO(newick_string)\n",
    "mytree = Phylo.read(handle, \"newick\")\n",
    "Phylo.draw(mytree)"
   ]
  },
  {
   "cell_type": "code",
   "execution_count": 44,
   "id": "f3c06352-c635-46b7-ad5f-7e4b288d30ce",
   "metadata": {},
   "outputs": [
    {
     "name": "stdout",
     "output_type": "stream",
     "text": [
      " , 2711-2\n",
      " |\n",
      " |___________________________________________________________ 0812-2\n",
      " |\n",
      " | 2711-3\n",
      " |\n",
      " |___________________ 0311-4\n",
      " |\n",
      " , 0812-4\n",
      " |\n",
      " |                                             _ 0812-3\n",
      " |____________________________________________|\n",
      "_|                                            |        , 0311-3\n",
      " |                                            |________|\n",
      " |                                                     | 0311-2\n",
      " |\n",
      " |                                                __ 0812-1\n",
      " | ______________________________________________|\n",
      " ||                                              | 2711-1\n",
      " ||\n",
      " ||___________________________________________________________________ 0311-1\n",
      " |\n",
      " | 2711-4\n",
      "\n"
     ]
    }
   ],
   "source": [
    "Phylo.draw_ascii(mytree)"
   ]
  },
  {
   "cell_type": "code",
   "execution_count": 21,
   "id": "ad477d39-98f7-4fd5-9216-849e6eefb000",
   "metadata": {},
   "outputs": [
    {
     "name": "stdout",
     "output_type": "stream",
     "text": [
      "Tree(rooted=False, weight=1.0)\n",
      "    Clade()\n",
      "        Clade(branch_length=0.0)\n",
      "            Clade(branch_length=0.00028617216117217577, name='2711-2')\n",
      "            Clade(branch_length=5.51903453688855e-05)\n",
      "                Clade(branch_length=7.563121402408019e-05)\n",
      "                    Clade(branch_length=0.00012673338566194028)\n",
      "                        Clade(branch_length=0.06352367870225013, name='0812-2')\n",
      "                        Clade(branch_length=0.0003172422815280046, name='2711-3')\n",
      "                    Clade(branch_length=0.021589645473574056, name='0311-4')\n",
      "                Clade(branch_length=9.198390894819917e-05)\n",
      "                    Clade(branch_length=0.0003985969387755089, name='0812-4')\n",
      "                    Clade(branch_length=0.0002555108581894167)\n",
      "                        Clade(branch_length=0.047608145822431516)\n",
      "                            Clade(branch_length=0.0019050889586603934, name='0812-3')\n",
      "                            Clade(branch_length=0.009083922030350612)\n",
      "                                Clade(branch_length=0.0009738938310367221, name='0311-3')\n",
      "                                Clade(branch_length=0.00033432176289318466, name='0311-2')\n",
      "                        Clade(branch_length=0.0010574742717599922)\n",
      "                            Clade(branch_length=0.050095312850414866)\n",
      "                                Clade(branch_length=0.0025771847200418696, name='0812-1')\n",
      "                                Clade(branch_length=0.00030088958660390297, name='2711-1')\n",
      "                            Clade(branch_length=0.07130709426627795, name='0311-1')\n",
      "        Clade(branch_length=0.0007604003139717718, name='2711-4')\n"
     ]
    }
   ],
   "source": [
    "print(mytree)"
   ]
  },
  {
   "cell_type": "markdown",
   "id": "48349ef9-0a2c-4902-9757-27b84c93bd7f",
   "metadata": {},
   "source": [
    "### 2e) Visualize The Actual Tree"
   ]
  },
  {
   "cell_type": "code",
   "execution_count": 22,
   "id": "e73fd5c1-d496-470b-a516-2d9c181e21fe",
   "metadata": {},
   "outputs": [],
   "source": [
    "names = ['0311-1','0311-2','0311-3','0311-4','2711-1','2711-2','2711-3','2711-4','0812-1','0812-2','0812-3','0812-4']\n",
    "matrix = []\n",
    "for i in range(1,13):\n",
    "    matrix.append(np.ndarray.tolist(pwDistMatrix[i-1][:i]))\n",
    "    \n",
    "dm = DistanceMatrix(names,matrix)"
   ]
  },
  {
   "cell_type": "code",
   "execution_count": 23,
   "id": "efeefd29-2902-4c45-a706-6b52d1bcac60",
   "metadata": {},
   "outputs": [],
   "source": [
    "constructor = DistanceTreeConstructor()\n",
    "biotree = constructor.nj(dm)"
   ]
  },
  {
   "cell_type": "markdown",
   "id": "d6d8f5e8-59d8-4498-9a37-37ec3fb397d7",
   "metadata": {},
   "source": [
    "Here is the actual tree:"
   ]
  },
  {
   "cell_type": "code",
   "execution_count": 24,
   "id": "ffe4ba0a-29a9-49ef-879b-f096ce767209",
   "metadata": {},
   "outputs": [
    {
     "data": {
      "image/png": "[encoded data removed]",
      "text/plain": [
       "<Figure size 432x288 with 1 Axes>"
      ]
     },
     "metadata": {
      "needs_background": "light"
     },
     "output_type": "display_data"
    }
   ],
   "source": [
    "Phylo.draw(biotree)"
   ]
  },
  {
   "cell_type": "code",
   "execution_count": 45,
   "id": "7f752fbb-8ce3-4246-b123-fd9a6eb992e8",
   "metadata": {},
   "outputs": [
    {
     "name": "stdout",
     "output_type": "stream",
     "text": [
      " , 0812-4\n",
      " |\n",
      " |                                                __ 0812-1\n",
      " | ______________________________________________|\n",
      " ,|                                              | 2711-1\n",
      " ||\n",
      " ||___________________________________________________________________ 0311-1\n",
      " |\n",
      " |                                             _ 0812-3\n",
      " |____________________________________________|\n",
      " |                                            |        , 0311-3\n",
      " |                                            |________|\n",
      " |                                                     | 0311-2\n",
      " |\n",
      " |___________________________________________________________ 0812-2\n",
      "_|\n",
      " | 2711-3\n",
      " |\n",
      " |___________________ 0311-4\n",
      " |\n",
      " | 2711-2\n",
      " |\n",
      " | 2711-4\n",
      "\n"
     ]
    }
   ],
   "source": [
    "Phylo.draw_ascii(biotree)"
   ]
  },
  {
   "cell_type": "code",
   "execution_count": 25,
   "id": "865c7968-9155-44b3-95fb-825adb19f5b4",
   "metadata": {},
   "outputs": [
    {
     "name": "stdout",
     "output_type": "stream",
     "text": [
      "Tree(rooted=False)\n",
      "    Clade(branch_length=0, name='Inner10')\n",
      "        Clade(branch_length=5.51903453688855e-05, name='Inner9')\n",
      "            Clade(branch_length=9.198390894819917e-05, name='Inner7')\n",
      "                Clade(branch_length=0.0003985969387755089, name='0812-4')\n",
      "                Clade(branch_length=0.0002555108581894167, name='Inner5')\n",
      "                    Clade(branch_length=0.0010574742717599922, name='Inner4')\n",
      "                        Clade(branch_length=0.050095312850414866, name='Inner1')\n",
      "                            Clade(branch_length=0.0025771847200418696, name='0812-1')\n",
      "                            Clade(branch_length=0.00030088958660390297, name='2711-1')\n",
      "                        Clade(branch_length=0.07130709426627795, name='0311-1')\n",
      "                    Clade(branch_length=0.047608145822431516, name='Inner3')\n",
      "                        Clade(branch_length=0.0019050889586603934, name='0812-3')\n",
      "                        Clade(branch_length=0.009083922030350612, name='Inner2')\n",
      "                            Clade(branch_length=0.0009738938310367221, name='0311-3')\n",
      "                            Clade(branch_length=0.00033432176289318466, name='0311-2')\n",
      "            Clade(branch_length=7.563121402408019e-05, name='Inner8')\n",
      "                Clade(branch_length=0.00012673338566194028, name='Inner6')\n",
      "                    Clade(branch_length=0.06352367870225013, name='0812-2')\n",
      "                    Clade(branch_length=0.0003172422815280046, name='2711-3')\n",
      "                Clade(branch_length=0.021589645473574056, name='0311-4')\n",
      "        Clade(branch_length=0.00028617216117217577, name='2711-2')\n",
      "        Clade(branch_length=0.0007604003139717718, name='2711-4')\n"
     ]
    }
   ],
   "source": [
    "print(biotree)"
   ]
  },
  {
   "cell_type": "markdown",
   "id": "041c6c9c-8570-4c7c-814e-5321c0346d54",
   "metadata": {},
   "source": [
    "There is a minor difference between my tree and the actual tree: In the deepest level, my tree has 2 nodes while the actual tree has 3 nodes. Since I construct the Newick string in the run and do binary concatenations, my tree turned out to be a binary tree. I tried to solve this issue but couldn't figure out a solution."
   ]
  },
  {
   "cell_type": "markdown",
   "id": "a72d49c1-b219-468c-98ab-d632c4d309c2",
   "metadata": {},
   "source": [
    "### 2f) Phylogenetic Tree of All Patients"
   ]
  },
  {
   "cell_type": "code",
   "execution_count": 28,
   "id": "57203ef7-60e2-4926-af99-6694b9eae1fa",
   "metadata": {},
   "outputs": [],
   "source": [
    "records031120 = records031120_all[:,21563:25385]\n",
    "records271120 = records271120_all[:,21563:25385]\n",
    "records081220 = records081220_all[:,21563:25385]\n",
    "\n",
    "records_300 = np.concatenate((records031120,records271120,records081220))"
   ]
  },
  {
   "cell_type": "code",
   "execution_count": 29,
   "id": "73638421-1c82-4b18-91cf-c4fe6229a59a",
   "metadata": {},
   "outputs": [
    {
     "data": {
      "text/plain": [
       "(298, 3822)"
      ]
     },
     "execution_count": 29,
     "metadata": {},
     "output_type": "execute_result"
    }
   ],
   "source": [
    "records_300.shape"
   ]
  },
  {
   "cell_type": "code",
   "execution_count": 33,
   "id": "0ee7c83c-4fb5-481e-9e64-74676fef102c",
   "metadata": {},
   "outputs": [],
   "source": [
    "for i in range(records_300.shape[0]):\n",
    "    for j in range(records_300.shape[1]):\n",
    "        if records_300[i][j] not in {'A','T','G','C','-'}:\n",
    "            records_300[i][j] = '-'"
   ]
  },
  {
   "cell_type": "code",
   "execution_count": 34,
   "id": "8fe374f0-f93d-4201-8378-2f02ca6178a4",
   "metadata": {},
   "outputs": [],
   "source": [
    "pwSimMatrix_300 = np.zeros([records_300.shape[0],records_300.shape[0]]) # Pairwise similarity Matrix\n",
    "for i in range(records_300.shape[0]):\n",
    "    for j in range(records_300.shape[0]):\n",
    "        seq1 = records_300[i]\n",
    "        seq2 = records_300[j]\n",
    "        pwSimMatrix_300[i][j] = np.sum(seq1==seq2)/records_300.shape[1] # Percent identity score"
   ]
  },
  {
   "cell_type": "code",
   "execution_count": 36,
   "id": "7b054dea-211c-429c-b139-fe2dacf6088e",
   "metadata": {},
   "outputs": [],
   "source": [
    "pwDistMatrix_300 = 1 - pwSimMatrix_300"
   ]
  },
  {
   "cell_type": "code",
   "execution_count": 37,
   "id": "1f4aab30-97cc-49b1-a5ac-7a7bc8952c28",
   "metadata": {},
   "outputs": [],
   "source": [
    "names_300 = [f'0311-{i}' for i in range(1,101)] + [f'2711-{i}' for i in range(1,101)] + [f'0812-{i}' for i in range(1,99)]"
   ]
  },
  {
   "cell_type": "code",
   "execution_count": 40,
   "id": "a4d426a9-7430-4570-aa95-9f7ba8afe298",
   "metadata": {},
   "outputs": [],
   "source": [
    "matrix_300 = []\n",
    "for i in range(1,299):\n",
    "    matrix_300.append(np.ndarray.tolist(pwDistMatrix_300[i-1][:i]))\n",
    "    \n",
    "dm_300 = DistanceMatrix(names_300,matrix_300)"
   ]
  },
  {
   "cell_type": "code",
   "execution_count": 41,
   "id": "7a1d2d92-9080-49c5-ba03-6040947dbb58",
   "metadata": {},
   "outputs": [],
   "source": [
    "constructor_300 = DistanceTreeConstructor()\n",
    "biotree_300 = constructor_300.nj(dm_300)"
   ]
  },
  {
   "cell_type": "code",
   "execution_count": 43,
   "id": "57d2e3a0-c756-4562-892f-755555328b7f",
   "metadata": {},
   "outputs": [
    {
     "name": "stdout",
     "output_type": "stream",
     "text": [
      " , 2711-86\n",
      " |\n",
      " , 2711-38\n",
      " |\n",
      " , 0311-82\n",
      " |\n",
      " , 0812-73\n",
      " |\n",
      " , 2711-8\n",
      " |\n",
      " , 0812-74\n",
      " |\n",
      " , 0812-96\n",
      " |\n",
      " , 0311-98\n",
      " |\n",
      " , 2711-29\n",
      " |\n",
      " , 0812-50\n",
      " |\n",
      " | 0311-80\n",
      " |\n",
      " , 2711-61\n",
      " |\n",
      " , 0812-10\n",
      " |\n",
      " | 0812-9\n",
      " |\n",
      " , 0812-51\n",
      " |\n",
      " , 0812-98\n",
      " |\n",
      " , 0812-69\n",
      " |\n",
      " , 2711-62\n",
      " |\n",
      " , 2711-59\n",
      " |\n",
      " , 2711-11\n",
      " |\n",
      " , 2711-10\n",
      " |\n",
      " , 2711-9\n",
      " |\n",
      " , 0311-89\n",
      " |\n",
      " , 0311-66\n",
      " |\n",
      " , 0311-65\n",
      " |\n",
      " , 0311-64\n",
      " |\n",
      " , 0311-63\n",
      " |\n",
      " , 0311-62\n",
      " |\n",
      " , 0311-61\n",
      " |\n",
      " , 0311-60\n",
      " |\n",
      " , 0311-59\n",
      " |\n",
      " , 0311-58\n",
      " |\n",
      " , 0311-57\n",
      " |\n",
      " , 0311-87\n",
      " |\n",
      " , 0311-41\n",
      " |\n",
      " , 0311-40\n",
      " |\n",
      " , 0311-39\n",
      " |\n",
      " | 0311-17\n",
      " |\n",
      " , 2711-90\n",
      " |\n",
      " , 2711-89\n",
      " |\n",
      " | 2711-88\n",
      " |\n",
      " , 0311-94\n",
      " |\n",
      " | 0311-53\n",
      " |\n",
      " , 0311-51\n",
      " |\n",
      " , 0812-46\n",
      " |\n",
      " , 0311-93\n",
      " |\n",
      " , 0812-45\n",
      " |\n",
      " , 0311-52\n",
      " |\n",
      " | 0311-20\n",
      " |\n",
      " , 0812-47\n",
      " |\n",
      " |, 2711-57\n",
      " ||\n",
      " |, 0812-49\n",
      " ||\n",
      " |, 0812-48\n",
      " ,|\n",
      " |, 0311-56\n",
      " ||\n",
      " || 0311-55\n",
      " ||\n",
      " || 0311-54\n",
      " |\n",
      " |  , 0812-82\n",
      " |  |\n",
      " |  |      , 0812-43\n",
      " |__|      |\n",
      " |  |      | 2711-40\n",
      " |  |      |\n",
      " |  |______|   _ 0812-91\n",
      " |         | ,|\n",
      " |         | ||___ 0812-84\n",
      " |         | |\n",
      " |         |_|    , 2711-41\n",
      " |           |   ,|\n",
      " |           |   || 2711-7\n",
      " |           |___|\n",
      " |               |    , 0812-11\n",
      " |               |    |\n",
      " |               |____| , 0812-90\n",
      " |                    | |\n",
      " |                    |_| , 2711-1\n",
      " |                      | |\n",
      " |                      |_|, 2711-26\n",
      " |                        ||\n",
      " |                        |, 0812-1\n",
      " |                         |\n",
      " |                         | 2711-18\n",
      " |                         |\n",
      " |                         | 0311-34\n",
      " |\n",
      " |, 2711-15\n",
      " ||\n",
      " ||, 0812-28\n",
      " |,|\n",
      " ||, 0812-80\n",
      " |||\n",
      " ||| 0812-23\n",
      " ||\n",
      " ||, 2711-47\n",
      " |,|\n",
      " ||, 2711-48\n",
      " |||\n",
      " ||| 2711-5\n",
      " ||\n",
      " ||, 0812-35\n",
      " |,|\n",
      " ||| 0812-34\n",
      " ||\n",
      " |, 0812-15\n",
      " ||\n",
      " |, 2711-45\n",
      " ||\n",
      " |, 2711-49\n",
      " ||\n",
      " |, 0812-32\n",
      " ||\n",
      " ||, 0812-22\n",
      " |,|\n",
      " ||, 0812-21\n",
      " |||\n",
      " ||| 2711-43\n",
      " ||\n",
      " |, 0812-25\n",
      " ||\n",
      " |, 0812-95\n",
      " ||\n",
      " |, 0812-94\n",
      " ||\n",
      " |, 0812-93\n",
      " ||\n",
      " |, 0812-92\n",
      " ||\n",
      " |, 0812-89\n",
      " ||\n",
      " |, 0812-87\n",
      " ||\n",
      " |, 0812-86\n",
      " ||\n",
      " |, 0812-83\n",
      " ||\n",
      " |, 0812-79\n",
      " ||\n",
      " |, 0812-42\n",
      " ||\n",
      " |, 0812-41\n",
      " ||\n",
      " |, 0812-40\n",
      " ||\n",
      " |, 0812-39\n",
      " ||\n",
      " |, 0812-38\n",
      " ||\n",
      " |, 0812-37\n",
      " ||\n",
      " |, 0812-36\n",
      " ||\n",
      " |, 0812-33\n",
      " ||\n",
      " |, 0812-31\n",
      " ||\n",
      " |, 0812-30\n",
      " ||\n",
      " |, 0812-29\n",
      " ||\n",
      " |, 0812-27\n",
      " ||\n",
      " |, 0812-26\n",
      " ||\n",
      " |, 0812-24\n",
      " ||\n",
      " |, 0812-20\n",
      " ||\n",
      " |, 0812-19\n",
      " ||\n",
      " |, 0812-18\n",
      " ||\n",
      " |, 0812-17\n",
      " ||\n",
      " |, 0812-16\n",
      " ||\n",
      " |, 0812-14\n",
      " ||\n",
      " |, 0812-6\n",
      " ||\n",
      " |, 0812-5\n",
      " ||\n",
      " |, 2711-55\n",
      " ||\n",
      " |, 2711-54\n",
      " ||\n",
      " |, 2711-53\n",
      " ||\n",
      " |, 2711-52\n",
      " ||\n",
      " |, 2711-51\n",
      " ||\n",
      " |, 2711-44\n",
      " ||\n",
      " |, 0812-12\n",
      " ||\n",
      " |, 2711-50\n",
      " ||\n",
      " || 2711-46\n",
      " ||\n",
      " || 0311-88\n",
      " ||\n",
      " ||     , 0812-13\n",
      " ||_____|\n",
      " |      |____________________________ 0311-1\n",
      " |\n",
      " , 2711-83\n",
      " |\n",
      " , 0311-97\n",
      " |\n",
      " , 0311-79\n",
      " |\n",
      " , 0311-78\n",
      " |\n",
      " , 0311-77\n",
      " |\n",
      " , 0311-76\n",
      " |\n",
      " , 0311-75\n",
      " |\n",
      " | 0311-74\n",
      " |\n",
      " , 0311-86\n",
      " |\n",
      " , 0311-70\n",
      " |\n",
      " | 0311-69\n",
      " |\n",
      " , 0812-77\n",
      " |\n",
      " , 0812-76\n",
      " |\n",
      " , 0812-75\n",
      " |\n",
      " | 0812-7\n",
      " |\n",
      " | 2711-91\n",
      " |\n",
      " , 0812-67\n",
      " |\n",
      " , 0812-66\n",
      " |\n",
      " , 2711-92\n",
      " |\n",
      " , 0311-26\n",
      " |\n",
      " , 2711-85\n",
      " |\n",
      " , 0812-97\n",
      " |\n",
      " | 0311-99\n",
      " |\n",
      " , 0812-68\n",
      " |\n",
      " | 2711-94\n",
      " |\n",
      " , 0812-4\n",
      " |\n",
      " , 2711-95\n",
      " |\n",
      " , 2711-93\n",
      " |\n",
      " , 0311-100\n",
      " |\n",
      " , 0311-84\n",
      " |\n",
      " , 0311-83\n",
      " |\n",
      " | 0311-25\n",
      " |\n",
      " | 0311-16\n",
      " |\n",
      " |_ 0812-44\n",
      " |\n",
      " |                            , 2711-98\n",
      " |                            |\n",
      " |____________________________| , 0812-2\n",
      " |                            | |\n",
      " |                            | | 2711-97\n",
      " |                            |_|\n",
      " |                              |    , 2711-100\n",
      " |                              |    |\n",
      " |                              |____| 2711-99\n",
      " |                                   |\n",
      " |                                   | 2711-96\n",
      " |\n",
      " |                   , 2711-35\n",
      " |___________________|\n",
      " |                   |_ 2711-36\n",
      " |                   |\n",
      " |                   |_____ 2711-34\n",
      " |\n",
      " , 2711-82\n",
      " |\n",
      " | 2711-81\n",
      " |\n",
      " , 2711-6\n",
      " |\n",
      " | 0311-95\n",
      " |\n",
      " | 0311-67\n",
      " |\n",
      " | 0311-9\n",
      " |\n",
      " , 0812-65\n",
      " |\n",
      " | 2711-60\n",
      " |\n",
      " | 0311-92\n",
      " |\n",
      " , 2711-27\n",
      " |\n",
      " | 2711-25\n",
      " |\n",
      " | 2711-4\n",
      " |\n",
      " , 0311-30\n",
      " |\n",
      " , 2711-67\n",
      " |\n",
      " , 2711-68\n",
      " |\n",
      " | 0311-29\n",
      " |\n",
      " , 0311-91\n",
      " |\n",
      " , 2711-78\n",
      " |\n",
      " , 2711-77\n",
      " |\n",
      " | 2711-76\n",
      " |\n",
      " | 2711-72\n",
      " |\n",
      " , 0311-90\n",
      " |\n",
      " , 2711-74\n",
      " |\n",
      " | 0311-21\n",
      " |\n",
      " | 0311-19\n",
      " |\n",
      " , 0812-88\n",
      " |\n",
      " , 2711-24\n",
      " |\n",
      " , 0311-33\n",
      " |\n",
      " , 0311-32\n",
      " |\n",
      " , 0311-31\n",
      " |\n",
      " | 0311-7\n",
      " |\n",
      " , 0311-8\n",
      " |\n",
      " , 0812-52\n",
      " |\n",
      " , 2711-13\n",
      " |\n",
      " | 2711-12\n",
      " |\n",
      " , 0311-47\n",
      " |\n",
      " , 2711-58\n",
      " |\n",
      " , 2711-2\n",
      " |\n",
      " , 0311-38\n",
      " |\n",
      " | 0311-22\n",
      " |\n",
      " | 0311-6\n",
      " |\n",
      " , 0311-28\n",
      " |\n",
      " , 2711-37\n",
      " |\n",
      " , 2711-65\n",
      " |\n",
      " | 2711-64\n",
      " |\n",
      " , 0812-57\n",
      " |\n",
      " , 2711-17\n",
      " |\n",
      " , 2711-16\n",
      " |\n",
      " , 2711-66\n",
      " |\n",
      " | 0311-43\n",
      " |\n",
      " | 0311-5\n",
      " |\n",
      " , 0812-53\n",
      " |\n",
      " , 2711-69\n",
      " |\n",
      " | 0311-27\n",
      " |\n",
      " |  _____________________________ 2711-32\n",
      " |_|\n",
      " | | 2711-31\n",
      " |\n",
      " , 2711-63\n",
      " |\n",
      " | 2711-28\n",
      " |\n",
      " , 0311-50\n",
      " |\n",
      " | 0311-49\n",
      " |\n",
      " , 0812-54\n",
      " |\n",
      " | 2711-23\n",
      " |\n",
      " | 0311-48\n",
      " |\n",
      " |          _____ 0812-78\n",
      " |_________|\n",
      " |         | 0311-4\n",
      " |\n",
      " , 0812-58\n",
      " |\n",
      " , 2711-70\n",
      " |\n",
      " , 2711-22\n",
      " |\n",
      " , 2711-20\n",
      " |\n",
      " | 2711-19\n",
      " |\n",
      " , 0812-60\n",
      " |\n",
      " | 2711-73\n",
      " |\n",
      " , 2711-75\n",
      " |\n",
      " | 2711-71\n",
      " |\n",
      " | 2711-3\n",
      " |\n",
      " |_ 2711-14\n",
      " |\n",
      " | 0311-44\n",
      " |\n",
      " , 0812-81\n",
      " |\n",
      " , 0812-62\n",
      " |\n",
      " | 0311-18\n",
      " |\n",
      " , 0812-59\n",
      " |\n",
      " | 0812-55\n",
      " |\n",
      " , 0311-85\n",
      " |\n",
      " , 0812-56\n",
      " |\n",
      " , 0812-64\n",
      " |\n",
      " , 0812-63\n",
      " |\n",
      " | 0812-61\n",
      " |\n",
      " | 0311-46\n",
      " |\n",
      " | 0311-45\n",
      " |\n",
      " | , 0311-24\n",
      " | |\n",
      " | |    , 0812-8\n",
      " |_| ___|\n",
      " | ||   |_______ 2711-42\n",
      " | ||   |\n",
      " | ||   | 0311-11\n",
      " |  |\n",
      " |  |        _ 0311-12\n",
      " |  |       |\n",
      " |  |_______|    __ 2711-21\n",
      " |          |   |\n",
      " |          |___|     ____ 0311-36\n",
      " |              |    |\n",
      " |              |____| , 0311-13\n",
      " |                   | |\n",
      " |                   |_| _ 0812-3\n",
      " |                     ||\n",
      " |                     || _ 0812-85\n",
      " |                      ||\n",
      " |                      ||, 0311-14\n",
      " |                       ||\n",
      " |                       ||  , 2711-39\n",
      " |                        |  |\n",
      " |                        |__|_________________________________ 2711-33\n",
      " |                           |\n",
      " |                           | 2711-30\n",
      " |                           |\n",
      " |                           , 0311-10\n",
      " |                           |\n",
      " |                           , 0311-3\n",
      " |                           |\n",
      " |                           , 0311-15\n",
      " |                           |\n",
      "_|                           | 0311-2\n",
      " |\n",
      " , 2711-80\n",
      " |\n",
      " , 2711-79\n",
      " |\n",
      " , 2711-56\n",
      " |\n",
      " , 0311-35\n",
      " |\n",
      " | 0311-23\n",
      " |\n",
      " | 0311-37\n",
      " |\n",
      " , 0311-96\n",
      " |\n",
      " | 0311-42\n",
      " |\n",
      " | 0311-68\n",
      " |\n",
      " | 0311-71\n",
      " |\n",
      " | 0311-72\n",
      " |\n",
      " , 2711-87\n",
      " |\n",
      " | 0311-81\n",
      " |\n",
      " | 0311-73\n",
      " |\n",
      " | 2711-84\n",
      " |\n",
      " | 0812-70\n",
      " |\n",
      " | 0812-71\n",
      " |\n",
      " | 0812-72\n",
      "\n"
     ]
    }
   ],
   "source": [
    "Phylo.draw_ascii(biotree_300) # Since there is too much sequences to be shown in an image, I drew ascii representation."
   ]
  },
  {
   "cell_type": "code",
   "execution_count": null,
   "id": "16df8745-97e6-45d8-a38e-04e16f608345",
   "metadata": {},
   "outputs": [],
   "source": []
  }
 ],
 "metadata": {
  "kernelspec": {
   "display_name": "Python 3 (ipykernel)",
   "language": "python",
   "name": "python3"
  },
  "language_info": {
   "codemirror_mode": {
    "name": "ipython",
    "version": 3
   },
   "file_extension": ".py",
   "mimetype": "text/x-python",
   "name": "python",
   "nbconvert_exporter": "python",
   "pygments_lexer": "ipython3",
   "version": "3.9.5"
  }
 },
 "nbformat": 4,
 "nbformat_minor": 5
}
