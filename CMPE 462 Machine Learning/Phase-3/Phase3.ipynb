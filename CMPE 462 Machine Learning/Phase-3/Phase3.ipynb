{
 "cells": [
  {
   "cell_type": "markdown",
   "id": "abedb242-2fb9-4e70-9e2d-7cfcad6f6ad9",
   "metadata": {},
   "source": [
    "# SPRING 2022 CMPE 462 PROJECT PHASE 3\n",
    "#### Mehmet Selahaddin ŞENTOP - Halil Burak PALA\n",
    "_Please run with Python 3.9.5 ._"
   ]
  },
  {
   "cell_type": "markdown",
   "id": "1c6d8dc7-c659-4281-a80b-da9d915c6824",
   "metadata": {},
   "source": [
    "## Question 1: _Support Vector Machine_\n",
    "\n",
    "### Part 1.a)\n",
    "The $Q$ matrix that we see in the lectures was:\n",
    "$$\n",
    "Q = \\begin{bmatrix}\n",
    "0 & \\textbf{0}_d^T \\\\\n",
    "\\textbf{0}_d & \\textbf{I}_d\n",
    "\\end{bmatrix}\n",
    "$$\n",
    "where $d$ is the dimensionality of the weight vector.\n",
    "\n",
    "To prove positive semi-definiteness, we can use eigenvalues. If all of the eigenvalues of this $Q$ matrix are nonnegative, then we can say that this matrix is _positive semi-definite_.\n",
    "\n",
    "To find its eigenvalues, first find the matrix $Q-\\lambda \\textbf{I}$:\n",
    "\n",
    "$$\n",
    "Q-\\lambda \\textbf{I} = \n",
    "\\begin{bmatrix}\n",
    "0 & \\textbf{0}_d^T \\\\\n",
    "\\textbf{0}_d & \\textbf{I}_d\n",
    "\\end{bmatrix}\n",
    "- \n",
    "\\begin{bmatrix}\n",
    "\\lambda & \\textbf{0}_d^T \\\\\n",
    "\\textbf{0}_d & \\lambda \\textbf{I}_d\n",
    "\\end{bmatrix}\n",
    "=\n",
    "\\begin{bmatrix}\n",
    "-\\lambda & \\textbf{0}_d^T \\\\\n",
    "\\textbf{0}_d & (1-\\lambda) \\textbf{I}_d\n",
    "\\end{bmatrix}\n",
    "$$\n",
    "\n",
    "Here is the determinant of $Q-\\lambda \\textbf{I}$:\n",
    "$$\n",
    "det(Q-\\lambda \\textbf{I}) = \n",
    "\\begin{vmatrix}\n",
    "-\\lambda & \\textbf{0}_d^T \\\\\n",
    "\\textbf{0}_d & (1-\\lambda) \\textbf{I}_d\n",
    "\\end{vmatrix}\n",
    "= (-\\lambda)(1-\\lambda)^d\n",
    "$$\n",
    "\n",
    "Values making this expression 0 are the eigenvalues:\n",
    "$$\n",
    "(-\\lambda)(1-\\lambda)^d = 0 \\implies \\lambda = 0 \\lor \\lambda = 1\n",
    "$$\n",
    "\n",
    "As we can see, all of the eigenvalues of this $Q$ matrix are nonnegative. So, it is __positive semi-definite__."
   ]
  },
  {
   "cell_type": "markdown",
   "id": "15245349-ccbb-4528-8ac4-941dd88d8203",
   "metadata": {},
   "source": [
    "### Part 1.b)\n",
    "Here is the primal QP formulation of SVM:\n",
    "$$\n",
    "\\text{min } \\frac{1}{2}\\textbf{w}^T\\textbf{w} \\\\\n",
    "\\text{s.t. } y_n(\\textbf{w}^T x_n + b) \\geq 1, n = 1,2,3\n",
    "$$\n",
    "where $\\textbf{w}$ is the weight vector $\\begin{bmatrix}\n",
    "w_1 \\\\\n",
    "w_2 \n",
    "\\end{bmatrix}$, $b$ is the bias, $x_n$s are input points, $y_n$s are the labels for respectice $x_n$s.\n",
    "\n",
    "So, for our case the problem becomes:\n",
    "$$\n",
    "\\text{min } \\frac{1}{2}(w_1^2 + w_2^2) \\\\\n",
    "\\text{s.t. } -1 \\cdot (w_1 \\cdot 0 + w_2 \\cdot 0 + b) \\geq 1 \\text{ (1) }\\\\\n",
    "-1 \\cdot (w_1 \\cdot 0 + w_2 \\cdot (-1) + b) \\geq 1 \\text{ (2) }\\\\\n",
    "1 \\cdot (w_1 \\cdot (-2) + w_2 \\cdot 0 + b) \\geq 1 \\text{ (3) }\\\\\n",
    "$$\n",
    "\n",
    "Simplify:\n",
    "$$\n",
    "\\text{min } \\frac{1}{2}(w_1^2 + w_2^2) \\\\\n",
    "\\text{s.t. } -b \\geq 1 \\\\\n",
    "w_2 -b \\geq 1 \\\\\n",
    "-2 w_1 + b \\geq 1 \\\\\n",
    "$$\n",
    "\n",
    "So, we can write our Lagrangian:\n",
    "$$\n",
    "L = \\frac{1}{2}(w_1^2+w_2^2)+\\alpha_1(1+b)+\\alpha_2(1-w_2+b)+\\alpha_3(1+2w_1-b)\n",
    "$$\n",
    "\n",
    "Taking partial dervatives and equating to 0:\n",
    "$$\n",
    "\\frac{\\partial L}{\\partial w_1} = w_1 + 2\\alpha_3 = 0 \\\\\n",
    "\\frac{\\partial L}{\\partial w_2} = w_2 - \\alpha_2 = 0 \\\\\n",
    "\\frac{\\partial L}{\\partial b} = \\alpha_1 + \\alpha_2 - \\alpha_3 = 0 \\\\\n",
    "$$\n",
    "\n",
    "These equations give:\n",
    "$$\n",
    "w_1 = -2\\alpha_3 \\\\\n",
    "w_2 = \\alpha_2 \\\\\n",
    "\\alpha_1 = \\alpha_3 - \\alpha_2 \\\\\n",
    "$$\n",
    "\n",
    "Rewriting the Lagrangian:\n",
    "$$\n",
    "L = \\frac{1}{2}(4\\alpha_3^2+\\alpha_2^2)+(\\alpha_3-\\alpha_2)(1+b)+\\alpha_2(1-\\alpha_2+b)+\\alpha_3(1-4\\alpha_3-b)\n",
    "$$\n",
    "\n",
    "After simplifying this expression, we get:\n",
    "$$\n",
    "L = -2\\alpha_3^2 - \\frac{\\alpha_2^2}{2} + 2\\alpha_3\n",
    "$$\n",
    "\n",
    "Taking partial derivatives and equating them to 0:\n",
    "$$\n",
    "\\frac{\\partial L}{\\alpha_2} = -\\alpha_2 = 0\\\\\n",
    "\\frac{\\partial L}{\\alpha_3} = -4\\alpha_3 + 2 = 0\n",
    "$$\n",
    "\n",
    "So, by using these information, we can infer that:\n",
    "$$\n",
    "\\alpha_1 = \\alpha_3 - \\alpha2 = \\frac{1}{2} \\\\\n",
    "\\alpha_2 = 0 \\\\\n",
    "\\alpha_3 = \\frac{1}{2} \\\\\n",
    "w_1 = -2\\alpha_3 = -1 \\\\\n",
    "w_2 = \\alpha_2 = 0\n",
    "$$\n",
    "\n",
    "To find $b$, we reconsider our constraints of the primal QP formulation:\n",
    "$$\n",
    "-b \\geq 1 \\implies b \\leq -1 \\text{ (1) } \\\\\n",
    "0 - b \\geq 1 \\implies b \\leq -1 \\text{ (2) } \\\\\n",
    "2 + b \\geq 1 \\implies b \\geq -1 \\text{ (3) } \n",
    "$$\n",
    "\n",
    "$(1)$, $(2)$ and $(3)$ together gives that $b = -1$. So,\n",
    "$$\n",
    "\\textbf{w}=\\begin{bmatrix}\n",
    "w_1 \\\\\n",
    "w_2 \n",
    "\\end{bmatrix} =\n",
    "\\begin{bmatrix}\n",
    "-1 \\\\\n",
    "0 \n",
    "\\end{bmatrix} \\\\\n",
    "b = -1\n",
    "$$\n",
    "\n",
    "Here is the plot of our decision boundary:"
   ]
  },
  {
   "cell_type": "code",
   "execution_count": 1,
   "id": "7eff8ea7-d5ca-416b-97dd-5529e9993047",
   "metadata": {},
   "outputs": [
    {
     "data": {
      "image/png": "[encoded data removed]",
      "text/plain": [
       "<Figure size 432x288 with 1 Axes>"
      ]
     },
     "metadata": {
      "needs_background": "light"
     },
     "output_type": "display_data"
    }
   ],
   "source": [
    "import numpy as np\n",
    "from matplotlib import pyplot as plt\n",
    "\n",
    "fig, ax = plt.subplots()\n",
    "ax.scatter([0], [0], linewidths = 2, c=\"red\", marker =\"D\", edgecolor =\"blue\", s = 105)\n",
    "\n",
    "ax.scatter([0], [-1], linewidths = 2, c=\"red\", marker =\"D\", s = 75)\n",
    "\n",
    "ax.scatter([-2], [0], linewidths = 2, c=\"green\", marker =\"o\", edgecolor =\"blue\", s = 105)\n",
    "\n",
    "ax.axvline(x=0, c=\"black\", label=\"x=0\")\n",
    "ax.axvline(x=-1, c=\"blue\", label=\"x=-1\")\n",
    "ax.axhline(y=0, c=\"black\", label=\"y=0\")\n",
    "\n",
    "ax.axvspan(-2, 0, alpha=0.2, color='blue')\n",
    "plt.show()"
   ]
  },
  {
   "cell_type": "markdown",
   "id": "1a38248d-e269-4f6d-afed-66ac1f7ea94e",
   "metadata": {},
   "source": [
    "Blue line represents the decision boundary. Blue area represents the margin. Green dots represent positive class points, red diamonds represent negative class points, points with blue edge represent the support vectors. \n",
    "\n",
    "Equation of our decision boundary is $x_1 = -1$.\n",
    "\n",
    "Our support vectors are $\\begin{bmatrix} -2 \\\\ 0 \\end{bmatrix}$ and $\\begin{bmatrix} 0 \\\\ 0 \\end{bmatrix}$."
   ]
  },
  {
   "cell_type": "markdown",
   "id": "c364c84d-5208-47f7-b846-2d7c4404cde3",
   "metadata": {},
   "source": [
    "### Part 1.c)\n",
    "#### Defining a Generic SVM Problem By CVXOPT\n",
    "CVXOPT library is able to solve quadratic programming problems which are in form:\n",
    "$$\n",
    "\\text{min } \\frac{1}{2}\\textbf{x}^T \\textbf{P} \\textbf{x} + \\textbf{q}^T \\textbf{x} \\\\\n",
    "\\text{s. t. } \\textbf{G}\\textbf{x} \\leq \\textbf{h} \\\\\n",
    "\\textbf{A}\\textbf{x} = \\textbf{b}\n",
    "$$\n",
    "For more info, check [this link](https://cvxopt.org/userguide/coneprog.html#quadratic-programming).\n",
    "\n",
    "As we know from our lectures, dual form of the QP formulation of SVM is:\n",
    "$$\n",
    "\\text{max }_{\\alpha \\in \\mathbf{R}^N} \\sum_{n=1}^{N} \\alpha_n - \\frac{1}{2} \\sum_{n=1}^{N} \\sum_{m=1}^{N}y_n y_m \\alpha_n \\alpha_m \\textbf{x}_n^T \\textbf{x}_m \\\\\n",
    "\\text{s. t. }  \\sum_{n=1}^{N} y_n \\alpha_n = 0 \\\\\n",
    "\\alpha_n \\geq 0, n=1,...,N\n",
    "$$\n",
    "\n",
    "To implement SVM using cvxopt, we should convert this SVM problem to an appropriate form which obeys cvxopt's format.\n",
    "\n",
    "Let $\\textbf{H}$ be a matrix such that $\\textbf{H}_{n,m} = y_n y_m \\textbf{x}_n^T \\textbf{x}_m $. Then the SVM optimization problem becomes:\n",
    "$$\n",
    "\\text{max }_{\\alpha \\in \\mathbf{R}^N} \\sum_{n=1}^{N} \\alpha_n - \\frac{1}{2} \\alpha^T \\textbf{H} \\alpha \\\\\n",
    "\\text{s. t. }  \\sum_{n=1}^{N} y_n \\alpha_n = 0 \\\\\n",
    "\\alpha_n \\geq 0, n=1,...,N\n",
    "$$\n",
    "\n",
    "To turn this problem into a minimization, multiply by -1:\n",
    "$$\n",
    "\\text{min }_{\\alpha \\in \\mathbf{R}^N} \\frac{1}{2} \\alpha^T \\textbf{H} \\alpha - \\textbf{1}^T \\alpha \\\\\n",
    "\\text{s. t. }  y^T \\alpha = 0 \\\\\n",
    "-\\alpha \\leq 0\n",
    "$$\n",
    "\n",
    "So, the matrices in the cvxopt documentation for our case are:\n",
    "- $\\textbf{P} = \\textbf{H}_{N \\times N}$\n",
    "- $\\textbf{q} = -\\vec{\\textbf{1}}_{N \\times 1}$ (- 1 vector)\n",
    "- $\\textbf{G} = -\\textbf{I}_N $ (- NxN identity matrix) \n",
    "- $\\textbf{h} = -\\vec{\\textbf{0}}_{N \\times 1}$ (zero matrix)\n",
    "- $\\textbf{A} = \\textbf{y}_{N \\times 1}$ (label vector)\n",
    "- $\\textbf{b} = 0$ (scalar 0)\n",
    "\n",
    "#### Solving (b) by CVXOPT\n",
    "So in our case, since $N=3$, $\\textbf{q}=\\begin{bmatrix} -1\\\\ -1 \\\\ -1 \\end{bmatrix}$, $\\textbf{G} = \\begin{bmatrix} -1 & 0 & 0 \\\\ 0 & -1 & 0 \\\\ 0 & 0 & -1 \\end{bmatrix}$, and $\\textbf{h} = \\begin{bmatrix} 0\\\\ 0 \\\\ 0 \\end{bmatrix}$.\n",
    "To compute $\\textbf{H}$ matrix, consider a new matrix $\\textbf{X}'$ where each input sample $x$ is multiplied by the corresponding output label $y$:\n",
    "$$\n",
    "\\textbf{X}'= \\begin{bmatrix}\n",
    "x_{1,1}\\cdot y_1 & x_{1,2}\\cdot y_1\\\\\n",
    "x_{2,1}\\cdot y_2 & x_{2,2}\\cdot y_2 \\\\\n",
    "x_{3,1}\\cdot y_3 & x_{3,2}\\cdot y_3\n",
    "\\end{bmatrix}\n",
    "$$\n",
    "\n",
    "where $x_{i,j}$ represents $x_i$'s $j$th entry, e.g. $x_{3,1}$ denotes $-2$ in our case.\n",
    "\n",
    "So, we can get $\\textbf{H}$ by mutliplying $\\textbf{X}'$ by its transpose:\n",
    "$$\n",
    "\\textbf{H} = \\textbf{X}'\\cdot \\textbf{X}'^T\n",
    "$$\n",
    "\n",
    "Here is the solution by using cvxopt:"
   ]
  },
  {
   "cell_type": "code",
   "execution_count": 2,
   "id": "cf28d16d-05ef-4043-95e5-fb8d510c55aa",
   "metadata": {},
   "outputs": [],
   "source": [
    "from cvxopt import matrix as cvxopt_matrix\n",
    "from cvxopt import solvers as cvxopt_solvers\n",
    "\n",
    "def svm_cvxopt(X,y):\n",
    "    # Initializing values: (Note the 1. to force to float type)\n",
    "    m,n = X.shape\n",
    "    X_dash = y * X\n",
    "    H = np.dot(X_dash,X_dash.T) * 1.0\n",
    "\n",
    "    # Converting into cvxopt format:\n",
    "    P = cvxopt_matrix(H)\n",
    "    q = cvxopt_matrix(-np.ones((m, 1)))\n",
    "    G = cvxopt_matrix(-np.eye(m))\n",
    "    h = cvxopt_matrix(np.zeros(m))\n",
    "    A = cvxopt_matrix(y.reshape(1, -1))\n",
    "    b = cvxopt_matrix(np.zeros(1))\n",
    "\n",
    "    # Setting solver parameters \n",
    "    cvxopt_solvers.options['show_progress'] = False\n",
    "    cvxopt_solvers.options['abstol'] = 1e-20\n",
    "    cvxopt_solvers.options['reltol'] = 1e-20\n",
    "    cvxopt_solvers.options['feastol'] = 1e-20\n",
    "\n",
    "    # Run solver\n",
    "    sol = cvxopt_solvers.qp(P, q, G, h, A, b)\n",
    "    alphas = np.array(sol['x'])\n",
    "    #w parameter in vectorized form\n",
    "    w = ((y * alphas).T @ X).reshape(-1,1)\n",
    "\n",
    "    #Selecting the set of indices S corresponding to non zero parameters\n",
    "    S = (alphas > 1e-5).flatten()\n",
    "\n",
    "    #Computing b\n",
    "    b = y[S] - np.dot(X[S], w)\n",
    "\n",
    "    return alphas.T, w.flatten(), b[0]"
   ]
  },
  {
   "cell_type": "code",
   "execution_count": 3,
   "id": "91c40e31-231a-4d61-a110-806d500642bc",
   "metadata": {},
   "outputs": [
    {
     "name": "stdout",
     "output_type": "stream",
     "text": [
      "Alphas =  [[5.00000000e-01 1.29461755e-17 5.00000000e-01]]\n",
      "w =  [-1.00000000e+00  1.29461755e-17]\n",
      "b =  [-1.]\n"
     ]
    }
   ],
   "source": [
    "X = np.array([[0,0],[0,-1],[-2,0]])\n",
    "y = np.array([[-1],[-1],[1]]) * 1.\n",
    "\n",
    "alphas, w, b = svm_cvxopt(X,y)\n",
    "\n",
    "#Display results\n",
    "print('Alphas = ',alphas)\n",
    "print('w = ', w)\n",
    "print('b = ', b)"
   ]
  },
  {
   "cell_type": "markdown",
   "id": "5e802dc8-744f-42cc-b7b0-49941474456a",
   "metadata": {},
   "source": [
    "As we can see, this values are consistent with our manual solution. ($\\alpha_2$ and $w_2$ are not exactly 0 but very close to 0 due to floating point operations.)"
   ]
  },
  {
   "cell_type": "markdown",
   "id": "9ae7da1b-e91d-4ae4-904d-63ba5cdf4792",
   "metadata": {},
   "source": [
    "### Part 1.d)"
   ]
  },
  {
   "cell_type": "markdown",
   "id": "62260c5b-dea1-4b7b-902b-5b444b9802cb",
   "metadata": {},
   "source": [
    "Here, training and test data is created from the 3d shapes images dataset. (These code snippets are from Phase 1. For more detailed information about the extraction of the data from the images, please refer to Phase 1.)\n",
    "\n",
    "Creating the training data:"
   ]
  },
  {
   "cell_type": "code",
   "execution_count": 4,
   "id": "b5e03974-3ffe-481c-a0d9-53499ac557ed",
   "metadata": {},
   "outputs": [],
   "source": [
    "from PIL import Image\n",
    "import os, re\n",
    "from sklearn import preprocessing\n",
    "\n",
    "orientations_train = np.load('orientations_train.npy') # Labels of the training set images\n",
    "\n",
    "# Empty numpy array to store the flattened gray scale training set images:\n",
    "flattened_grayscale_train = np.zeros(shape=(10000, 4096))   \n",
    "\n",
    "# Looping through all training set image files\n",
    "for file in sorted(os.listdir('3dshapes_train'), key=lambda f: int(re.sub('\\D', '', f))): \n",
    "    \n",
    "    file_path = os.path.join('3dshapes_train', file)\n",
    "    \n",
    "    # Conversion to gray scale:\n",
    "    grayscale_img = Image.open(file_path).convert('L') \n",
    "    \n",
    "    # Conversion of gray scale image to flattened numpy array:\n",
    "    flattened_grayscale_img = np.array(grayscale_img.getdata(), dtype=np.uint8) \n",
    "        \n",
    "    # Adding the flattened gray scale image to the array of images initialized before the loop:\n",
    "    flattened_grayscale_train[int(file.split('.')[0])] = flattened_grayscale_img # 10000 x 4096 array\n",
    "\n",
    "scaler1 = preprocessing.StandardScaler() # Scaler which will be used for standardising the data for optimal performance\n",
    "scaler1.fit(flattened_grayscale_train) # Computing the mean and std for standardisations below\n",
    "X_train = scaler1.transform(flattened_grayscale_train)"
   ]
  },
  {
   "cell_type": "markdown",
   "id": "aa30dde1-ce9c-416b-a567-92a8c55f6e7a",
   "metadata": {},
   "source": [
    "Creating the test data:"
   ]
  },
  {
   "cell_type": "code",
   "execution_count": 5,
   "id": "d1600a0d-67b5-4fd5-b78a-7133c716c688",
   "metadata": {},
   "outputs": [],
   "source": [
    "# Labels of the test set images:\n",
    "orientations_test = np.load('orientations_test.npy')\n",
    "\n",
    "# Empty numpy array to store the flattened gray scale test set images:\n",
    "flattened_grayscale_test = np.zeros(shape=(1000, 4096))\n",
    "\n",
    "# Looping through all test set image files:\n",
    "for file in sorted(os.listdir('3dshapes_test'), key=lambda f: int(re.sub('\\D', '', f))):\n",
    "    file_path = os.path.join('3dshapes_test', file)\n",
    "    \n",
    "    # Conversion to gray scale:\n",
    "    grayscale_img = Image.open(file_path).convert('L')\n",
    "    \n",
    "    # Conversion of gray scale image to flattened numpy array:\n",
    "    flattened_grayscale_img = np.array(grayscale_img.getdata(), dtype=np.uint8)\n",
    "    \n",
    "    # Adding the flattened gray scale image to the array of images initialized before the loop:\n",
    "    flattened_grayscale_test[int(file.split('.')[0])] = flattened_grayscale_img # 1000 x 4096 array\n",
    "\n",
    "X_test = scaler1.transform(flattened_grayscale_test)"
   ]
  },
  {
   "cell_type": "markdown",
   "id": "f6ed05e3-fe36-4f98-8b35-80d7e472b159",
   "metadata": {},
   "source": [
    "Now we have X_train which is a 10000x4096 ndarray, orientations_train which is a vector of length 10000, X_test which is a 1000x4096 ndarray and orientations_test which is a vector of length 1000."
   ]
  },
  {
   "cell_type": "markdown",
   "id": "6d769248-2882-4d56-8203-d4f9a757450f",
   "metadata": {},
   "source": [
    "Here is the all available labels in this dataset:"
   ]
  },
  {
   "cell_type": "code",
   "execution_count": 6,
   "id": "42012fa9-e403-492d-95f7-3eda0848770c",
   "metadata": {},
   "outputs": [
    {
     "data": {
      "text/plain": [
       "{-30.0,\n",
       " -25.714285714285715,\n",
       " -21.42857142857143,\n",
       " -17.142857142857142,\n",
       " -12.857142857142858,\n",
       " -8.571428571428573,\n",
       " -4.285714285714285,\n",
       " 0.0,\n",
       " 4.285714285714285,\n",
       " 8.57142857142857,\n",
       " 12.857142857142854,\n",
       " 17.14285714285714,\n",
       " 21.42857142857143,\n",
       " 25.714285714285715,\n",
       " 30.0}"
      ]
     },
     "execution_count": 6,
     "metadata": {},
     "output_type": "execute_result"
    }
   ],
   "source": [
    "set(orientations_train)"
   ]
  },
  {
   "cell_type": "markdown",
   "id": "d23901d3-832d-4e75-b0f3-a1bbb7d4e736",
   "metadata": {},
   "source": [
    "To construct a binary classification problem, we are going to consider only two classes in our dataset. So, we considered data points with class -30 and 30. We assumed class -30 as -1, class 30 as 1."
   ]
  },
  {
   "cell_type": "code",
   "execution_count": 7,
   "id": "0b7c3f08-f770-4635-ba79-0ab832894107",
   "metadata": {},
   "outputs": [],
   "source": [
    "bool_index = (orientations_train == -30) | (orientations_train == 30) # Boolean index indicating data labels -30 and 30\n",
    "X_1d = X_train[bool_index] # Data points with class label -30 or 30.\n",
    "y_1d = np.sign(orientations_train[bool_index]).reshape(-1,1) * 1. # Data labels: -1 for -30, 1 for 30."
   ]
  },
  {
   "cell_type": "code",
   "execution_count": 8,
   "id": "166df4bd-78d0-4b41-aca2-7ad92c29cf35",
   "metadata": {},
   "outputs": [],
   "source": [
    "alphas_1d, w_1d, b_1d = svm_cvxopt(X_1d, y_1d) # SVM classifier using cvxopt"
   ]
  },
  {
   "cell_type": "code",
   "execution_count": 9,
   "id": "d4b6424f-35a9-4456-a8fd-96433d21b2de",
   "metadata": {},
   "outputs": [
    {
     "data": {
      "text/plain": [
       "array([ 0.        ,  0.        ,  0.        , ..., -0.00038057,\n",
       "       -0.00045076, -0.00052748])"
      ]
     },
     "execution_count": 9,
     "metadata": {},
     "output_type": "execute_result"
    }
   ],
   "source": [
    "# Our weight vector:\n",
    "w_1d"
   ]
  },
  {
   "cell_type": "code",
   "execution_count": 10,
   "id": "1e9d3dd4-a488-49c3-af3e-70e6fd29f7b6",
   "metadata": {},
   "outputs": [
    {
     "data": {
      "text/plain": [
       "(4096,)"
      ]
     },
     "execution_count": 10,
     "metadata": {},
     "output_type": "execute_result"
    }
   ],
   "source": [
    "# Shape of the weight vector:\n",
    "w_1d.shape"
   ]
  },
  {
   "cell_type": "code",
   "execution_count": 11,
   "id": "15dd3903-bd0e-4cae-aa2e-5759d903ae28",
   "metadata": {},
   "outputs": [
    {
     "data": {
      "text/plain": [
       "array([-0.01297866])"
      ]
     },
     "execution_count": 11,
     "metadata": {},
     "output_type": "execute_result"
    }
   ],
   "source": [
    "# Our bias:\n",
    "b_1d"
   ]
  },
  {
   "cell_type": "code",
   "execution_count": 12,
   "id": "f2638396-05e9-40df-aa66-63c95d592c0b",
   "metadata": {},
   "outputs": [],
   "source": [
    "# To test this model, we are going to use test data. The same procedure we \n",
    "# applied to the training data is applied also to the test data:\n",
    "bool_index_test = (orientations_test == -30) | (orientations_test == 30)\n",
    "X_1d_test = X_test[bool_index_test]\n",
    "y_1d_test = np.sign(orientations_test[bool_index_test]).reshape(-1,1) * 1."
   ]
  },
  {
   "cell_type": "code",
   "execution_count": 13,
   "id": "0f16418f-a64f-4ded-a67f-4408684ddc9f",
   "metadata": {},
   "outputs": [
    {
     "name": "stdout",
     "output_type": "stream",
     "text": [
      "[[ 1.  1. -1.  1.  1.  1.  1. -1.  1. -1.  1. -1. -1.  1. -1.  1.  1. -1.\n",
      "  -1.  1.  1.  1.  1. -1. -1. -1. -1. -1. -1. -1.  1. -1. -1. -1.  1.  1.\n",
      "  -1. -1. -1.  1.  1.  1. -1.  1. -1. -1. -1.  1. -1. -1. -1.  1. -1.  1.\n",
      "  -1.  1. -1.  1. -1.  1. -1.  1.  1. -1.  1. -1.  1.  1.  1.  1.  1. -1.\n",
      "  -1. -1.  1. -1.  1.  1. -1. -1. -1.  1. -1. -1.  1. -1.  1.  1.  1. -1.\n",
      "  -1. -1.  1.  1.  1. -1.  1. -1.  1. -1. -1.  1. -1. -1. -1. -1. -1. -1.\n",
      "   1.  1. -1. -1.  1.  1.  1.  1. -1. -1. -1.  1.]]\n"
     ]
    }
   ],
   "source": [
    "# Sign function:\n",
    "prediction_1d = np.sign(np.dot(X_1d_test, w_1d) + b_1d).reshape(-1,1)\n",
    "print(prediction_1d.reshape(1,-1)) # Our prediction for the class labels"
   ]
  },
  {
   "cell_type": "code",
   "execution_count": 14,
   "id": "e53149b3-e756-4e48-b744-24f963cd80ad",
   "metadata": {},
   "outputs": [
    {
     "data": {
      "text/plain": [
       "array([[ 1.,  1., -1.,  1.,  1.,  1.,  1., -1.,  1., -1.,  1., -1., -1.,\n",
       "         1., -1.,  1.,  1., -1., -1.,  1.,  1.,  1.,  1., -1., -1., -1.,\n",
       "        -1., -1., -1., -1.,  1., -1., -1., -1.,  1.,  1., -1., -1., -1.,\n",
       "         1.,  1.,  1., -1.,  1., -1., -1., -1.,  1., -1., -1., -1.,  1.,\n",
       "        -1.,  1., -1.,  1., -1.,  1., -1.,  1., -1.,  1.,  1., -1.,  1.,\n",
       "        -1.,  1.,  1.,  1.,  1.,  1., -1., -1., -1.,  1., -1.,  1.,  1.,\n",
       "        -1., -1., -1.,  1., -1., -1.,  1., -1.,  1.,  1.,  1., -1., -1.,\n",
       "        -1.,  1.,  1.,  1., -1.,  1., -1.,  1., -1., -1.,  1., -1., -1.,\n",
       "        -1., -1., -1., -1.,  1.,  1., -1., -1.,  1.,  1.,  1.,  1., -1.,\n",
       "        -1., -1.,  1.]])"
      ]
     },
     "execution_count": 14,
     "metadata": {},
     "output_type": "execute_result"
    }
   ],
   "source": [
    "y_1d_test.reshape(1,-1) # Here is the actual class labels"
   ]
  },
  {
   "cell_type": "code",
   "execution_count": 15,
   "id": "46b50740-19b8-4629-b35c-cad7d55ce17c",
   "metadata": {},
   "outputs": [],
   "source": [
    "# Function to get accuracy:\n",
    "def getAccuracy(prediction, actual):\n",
    "    nofCorrectPredictions = 0\n",
    "    for i in range(len(prediction)):\n",
    "        if prediction[i] == actual[i]:\n",
    "            nofCorrectPredictions += 1\n",
    "    accuracy = (nofCorrectPredictions / len(prediction))\n",
    "    return accuracy"
   ]
  },
  {
   "cell_type": "code",
   "execution_count": 16,
   "id": "c4db8ce6-f4bd-4e47-b0d1-ebb858b60778",
   "metadata": {},
   "outputs": [
    {
     "name": "stdout",
     "output_type": "stream",
     "text": [
      "Prediction accuracy: 100.00%\n"
     ]
    }
   ],
   "source": [
    "#Here is the model accuracy for these classes:\n",
    "print(\"Prediction accuracy: {:.2%}\".format(getAccuracy(prediction_1d,y_1d_test)))"
   ]
  },
  {
   "cell_type": "markdown",
   "id": "6b99ad64-2337-4898-bbd7-94dc64abfa9b",
   "metadata": {},
   "source": [
    "This classifier perfectly classified every point in the test data set.\n",
    "\n",
    "### Challanges met while using CVXOPT\n",
    "While using cvxopt, determining the values of the solver parameters was a bit confusing. We could not fully understand the meaning of these parameters. Other than that, we did not encounter a challange."
   ]
  },
  {
   "cell_type": "markdown",
   "id": "71aca42a-d489-4095-b2e3-2c575dc2b98b",
   "metadata": {},
   "source": [
    "### Part 1.e)"
   ]
  },
  {
   "cell_type": "code",
   "execution_count": 17,
   "id": "49005243-e58a-41ab-b190-a36775a2dd21",
   "metadata": {},
   "outputs": [
    {
     "data": {
      "text/plain": [
       "SVC()"
      ]
     },
     "execution_count": 17,
     "metadata": {},
     "output_type": "execute_result"
    }
   ],
   "source": [
    "from sklearn import svm\n",
    "model_1e = svm.SVC()\n",
    "model_1e.fit(X_1d,np.ravel(y_1d)) # Trained an SVM model by using training data"
   ]
  },
  {
   "cell_type": "code",
   "execution_count": 18,
   "id": "0c60b09a-b988-4cfe-9e2c-6539df4a8998",
   "metadata": {},
   "outputs": [
    {
     "name": "stdout",
     "output_type": "stream",
     "text": [
      "[ 1.  1. -1.  1.  1.  1.  1. -1.  1. -1.  1. -1. -1.  1. -1.  1.  1. -1.\n",
      " -1.  1.  1.  1.  1. -1. -1. -1. -1. -1. -1. -1.  1. -1. -1. -1.  1.  1.\n",
      " -1. -1. -1.  1.  1.  1. -1.  1. -1. -1. -1.  1. -1. -1. -1.  1. -1.  1.\n",
      " -1.  1. -1.  1. -1.  1. -1.  1.  1. -1.  1. -1.  1.  1.  1.  1.  1. -1.\n",
      " -1. -1.  1. -1.  1.  1. -1. -1. -1.  1. -1. -1.  1. -1.  1.  1.  1. -1.\n",
      " -1. -1.  1.  1.  1. -1.  1. -1.  1. -1. -1.  1. -1. -1. -1. -1. -1. -1.\n",
      "  1.  1. -1. -1.  1.  1.  1.  1. -1. -1. -1.  1.]\n"
     ]
    }
   ],
   "source": [
    "prediction_1e = model_1e.predict(X_1d_test) # Get predictions for the labels of the test data.\n",
    "print(prediction_1e) # Here is the predicted lables:"
   ]
  },
  {
   "cell_type": "code",
   "execution_count": 19,
   "id": "d1de4a5f-9b13-410b-b721-7dedb3ba8fc0",
   "metadata": {},
   "outputs": [
    {
     "name": "stdout",
     "output_type": "stream",
     "text": [
      "Prediction accuracy: 100.00%\n"
     ]
    }
   ],
   "source": [
    "print(\"Prediction accuracy: {:.2%}\".format(getAccuracy(prediction_1e,y_1d_test)))"
   ]
  },
  {
   "cell_type": "markdown",
   "id": "ae55d47c-d846-4da0-a40f-79ae52fea85c",
   "metadata": {},
   "source": [
    "The model again correctly classified every data point in the test data.\n",
    "\n",
    "#### SVM Implementation of scikit-learn\n",
    "Scikit learn has three classes, __SVC__, __NuSVC__ and __LinearSVC__, for performing binary and multi class classification using SVM. SVC and NuSVC are similar but have slightly different sets of parameters. LinearSVC is used for training only Linear SVM models and it has no other kernel option. In this implementation, we used __SVC__ class.\n",
    "\n",
    "While training a model, we need to use __fit()__ function. This function of SVC takes as input two arrays: X of shape (n_samples, n_features) holding the training samples, and an array y of class labels (strings or integers), of shape (n_samples). We can also give kernel as an input parameter. Kernel can be one of the following: 'linear', 'poly', 'rbf', 'sigmoid'. By default it is set to 'rbf'.\n",
    "\n",
    "For multi-class classification, SVC and NuSVC uses one-vs-one approach.  In total, n_classes * (n_classes - 1) / 2 classifiers are constructed and each one trains data from two classes. On the other hand, LinearSVC uses one-vs-rest approach. Thus, it trains n_classes models. "
   ]
  },
  {
   "cell_type": "markdown",
   "id": "f77f8465-881a-4ff1-894c-4b964475a73f",
   "metadata": {},
   "source": [
    "### Part 1.f)"
   ]
  },
  {
   "cell_type": "code",
   "execution_count": 20,
   "id": "e186ff14-6a5c-4139-ba09-34643582464c",
   "metadata": {},
   "outputs": [
    {
     "data": {
      "text/plain": [
       "SVC()"
      ]
     },
     "execution_count": 20,
     "metadata": {},
     "output_type": "execute_result"
    }
   ],
   "source": [
    "# Since sklearn does not accept floating point class labels, we encoded them:\n",
    "lab_enc = preprocessing.LabelEncoder()\n",
    "encoded_train = lab_enc.fit_transform(orientations_train)\n",
    "\n",
    "# Here is the training: (It takes some time since our train data have 4096 features.)\n",
    "model_1f = svm.SVC()\n",
    "model_1f.fit(X_train,encoded_train) # Here is the SVM model for this part"
   ]
  },
  {
   "cell_type": "markdown",
   "id": "4d43adb3-b46c-4798-a241-8539b46b90e7",
   "metadata": {},
   "source": [
    "Here is the test results:"
   ]
  },
  {
   "cell_type": "code",
   "execution_count": 21,
   "id": "7072356d-5004-438e-a89b-607ca2f0e1f3",
   "metadata": {},
   "outputs": [
    {
     "name": "stdout",
     "output_type": "stream",
     "text": [
      "Prediction accuracy: 98.70%\n"
     ]
    }
   ],
   "source": [
    "prediction_1f = model_1f.predict(X_test)\n",
    "encoded_test = lab_enc.fit_transform(orientations_test)\n",
    "print(\"Prediction accuracy: {:.2%}\".format(getAccuracy(prediction_1f,encoded_test)))"
   ]
  },
  {
   "cell_type": "markdown",
   "id": "ba3a33e9-0560-4295-b62f-19afd76199c2",
   "metadata": {},
   "source": [
    "Scikit learn uses RBF kernel by default while training an SVM model.\n",
    "\n",
    "If we use a linear kernel instead:"
   ]
  },
  {
   "cell_type": "code",
   "execution_count": 22,
   "id": "6afa39bf-5d8a-44e1-809a-80519d7df57e",
   "metadata": {},
   "outputs": [
    {
     "name": "stdout",
     "output_type": "stream",
     "text": [
      "Prediction accuracy: 100.00%\n"
     ]
    }
   ],
   "source": [
    "# SVM with Linear Kernel\n",
    "model_1f_linear_kernel = svm.SVC(kernel='linear')\n",
    "model_1f_linear_kernel.fit(X_train, encoded_train)\n",
    "\n",
    "prediction_1f_linear_kernel = model_1f_linear_kernel.predict(X_test)\n",
    "print(\"Prediction accuracy: {:.2%}\".format(getAccuracy(prediction_1f_linear_kernel,encoded_test)))"
   ]
  },
  {
   "cell_type": "markdown",
   "id": "e6cf2190-8a75-40a7-a545-404a192a057c",
   "metadata": {},
   "source": [
    "Prediction accuracy of the test data is increased."
   ]
  },
  {
   "cell_type": "markdown",
   "id": "89447c3e-5da8-4b94-87c4-84bae0a263d1",
   "metadata": {},
   "source": [
    "The training of the model took a long time in that case since there are 4096 features and SVC class uses one-vs-one approach for multiclass classification."
   ]
  },
  {
   "cell_type": "markdown",
   "id": "0603c9fe-784a-44e1-84a5-814e02546028",
   "metadata": {},
   "source": [
    "### Part 1.g)\n",
    "Now let us apply PCA to get most significant features to preserve 95% of the variance:"
   ]
  },
  {
   "cell_type": "code",
   "execution_count": 23,
   "id": "e2f01d34-9895-40e8-995c-9a17a1ef9f8a",
   "metadata": {},
   "outputs": [
    {
     "name": "stdout",
     "output_type": "stream",
     "text": [
      "Number of features required to preserve at least 95% of the variations is 66\n"
     ]
    }
   ],
   "source": [
    "from sklearn.decomposition import PCA\n",
    "\n",
    "# Applying PCA so that we preserve at least 95% of the variance of all 4096 features. \n",
    "pca = PCA(.95)\n",
    "pca.fit(X_train) # Fitting our PCA model to the training set\n",
    "\n",
    "print('Number of features required to preserve at least 95% of the variations is', pca.n_components_)\n",
    "\n",
    "# Applying the transformation to the training set using the PCA model we created:\n",
    "X_train_pca = pca.transform(X_train)\n",
    "\n",
    "# Applying the transformation to the test set using the PCA model we created:\n",
    "X_test_pca = pca.transform(X_test)"
   ]
  },
  {
   "cell_type": "markdown",
   "id": "f2b57dc8-5f51-483e-a7e7-bddce0eef55e",
   "metadata": {},
   "source": [
    "Now train an SVM classifier:"
   ]
  },
  {
   "cell_type": "code",
   "execution_count": 24,
   "id": "baf9f884-d807-42ee-81a2-31837d8e2ceb",
   "metadata": {},
   "outputs": [
    {
     "data": {
      "text/plain": [
       "SVC()"
      ]
     },
     "execution_count": 24,
     "metadata": {},
     "output_type": "execute_result"
    }
   ],
   "source": [
    "model_1g = svm.SVC()\n",
    "model_1g.fit(X_train_pca,encoded_train) # Here is the SVM model for this part"
   ]
  },
  {
   "cell_type": "code",
   "execution_count": 25,
   "id": "6e087e3e-af11-4dcb-a18a-bfc2253a4c0b",
   "metadata": {},
   "outputs": [
    {
     "name": "stdout",
     "output_type": "stream",
     "text": [
      "Prediction accuracy: 95.70%\n"
     ]
    }
   ],
   "source": [
    "prediction_1g = model_1g.predict(X_test_pca)\n",
    "print(\"Prediction accuracy: {:.2%}\".format(getAccuracy(prediction_1g,encoded_test)))"
   ]
  },
  {
   "cell_type": "markdown",
   "id": "d0474af0-8361-4178-a517-9d4aafb5b30e",
   "metadata": {},
   "source": [
    "We lost about 7% accuracy when we used RBF kernel."
   ]
  },
  {
   "cell_type": "markdown",
   "id": "3f681852-d63d-40c2-8402-1bf4e713d0c6",
   "metadata": {},
   "source": [
    "If we use a linear kernel:"
   ]
  },
  {
   "cell_type": "code",
   "execution_count": 26,
   "id": "9488bea2-4330-4c42-acb7-433681646b90",
   "metadata": {},
   "outputs": [
    {
     "name": "stdout",
     "output_type": "stream",
     "text": [
      "Prediction accuracy: 99.90%\n"
     ]
    }
   ],
   "source": [
    "# SVM with Linear Kernel\n",
    "model_1g_linear_kernel = svm.SVC(kernel='linear')\n",
    "model_1g_linear_kernel.fit(X_train_pca, encoded_train)\n",
    "\n",
    "prediction_1g_linear_kernel = model_1g_linear_kernel.predict(X_test_pca)\n",
    "print(\"Prediction accuracy: {:.2%}\".format(getAccuracy(prediction_1g_linear_kernel,encoded_test)))"
   ]
  },
  {
   "cell_type": "markdown",
   "id": "7747ffdf-3a7d-4cd3-949e-19f3f8be6c64",
   "metadata": {},
   "source": [
    "We still can get a high accuracy and also training the model takes much less time. We experienced a huge improvement in performance."
   ]
  },
  {
   "cell_type": "markdown",
   "id": "56790770-40ed-4ee8-86e9-df025666ccf4",
   "metadata": {},
   "source": [
    "### Part 1.h)"
   ]
  },
  {
   "cell_type": "markdown",
   "id": "22b02f19",
   "metadata": {},
   "source": [
    "Here are the results of the 4 classifier for test data: \\\n",
    "Test classification accuracy of Linear Regression is 95.10% (Without dimension reduction and after accepting the predictions within 0.01 distance to the actual values) \\\n",
    "Test classification accuracy of Naive Bayes is 77.60% \\\n",
    "Test classification accuracy of Logistic Regression is 92.90% \\\n",
    "Test classification accuracy of SVM is 100.00%\n",
    "\n",
    "We had other variations of above classifiers too, but these results are for the ones which gave the best performance. We can see that the Linear Regression classifier was very successful, giving a better performance than Logistic Regression. It is not a surprise that Naive Bayes performed worse than others since the parameters were not conditionally independent. As for the best one, SVM was flawlessly the best performing classifier in accordance with our theoretical knowledge."
   ]
  },
  {
   "cell_type": "markdown",
   "id": "0e0d4608-abd9-4e03-a93b-573ef970d192",
   "metadata": {},
   "source": [
    "## Question 2: _k-Means Clustering and Gaussian Mixture Models_\n",
    "\n",
    "### Part 2.a)"
   ]
  },
  {
   "cell_type": "code",
   "execution_count": 27,
   "id": "6ed0e7b5-b7fb-4a7f-b806-72b7661c8118",
   "metadata": {},
   "outputs": [],
   "source": [
    "import numpy as np\n",
    "import matplotlib.pyplot as plt\n",
    "import copy"
   ]
  },
  {
   "cell_type": "code",
   "execution_count": 28,
   "id": "c05e0a95-c018-4fa1-8710-1de6c69d0101",
   "metadata": {},
   "outputs": [],
   "source": [
    "mean_values = [np.array([0, 1]), np.array([1, 0]), np.array([-1, 0]), np.array([0, -1])] # Means of the Gaussians\n",
    "covariance_values = [np.array([[1, 0], [0, 1]]), np.array([[1, 0], [0, 1]]), np.array([[1, 0], [0, 1]]), np.array([[1, 0], [0, 1]])] # Covariances of the Gaussians\n",
    "pi_values = np.array([0.25, 0.25, 0.25, 0.25]) # Probability coefficients of the Gaussians"
   ]
  },
  {
   "cell_type": "code",
   "execution_count": 29,
   "id": "69c8b9f6-75d1-49de-bd99-4b15f1953025",
   "metadata": {},
   "outputs": [],
   "source": [
    "samples_500_clustered = dict() # Dictionary of clusters based on Gaussians so that we can compare the plot with the plot of the result of K-means algorithm\n",
    "samples_500 = [] # List of all points which will be used for K-means clustering\n",
    "for i in range(4):\n",
    "    samples_500_clustered[i] = [] # Initialize list of clusters\n",
    "for i in range(500):\n",
    "    r = np.random.uniform(0, 1) # Sample a uniform random variable between 0 and 1\n",
    "    index = int(r // 0.25) # Select a Gaussian based on the sampled random variable\n",
    "    lambda_, gamma_ = np.linalg.eig(covariance_values[index]) # Find eigenvector decomposition for diagonalization\n",
    "    random_uniform = np.random.uniform(0, 1, size=(2, 50)) # Choose 50 samples to normalize x so that we reduce the std\n",
    "    random_normal = np.mean(np.log(random_uniform/(1-random_uniform)), axis=1).reshape((-1, 2)) # Normalizing the samples and reshaping to give 2D points\n",
    "    random_multi = ((random_normal*lambda_) @ gamma_ + mean_values[index])[0] # Finally getting multivariate normal distribution samples using diagonalization\n",
    "    samples_500_clustered[index].append(random_multi)\n",
    "    samples_500.append(random_multi)"
   ]
  },
  {
   "cell_type": "code",
   "execution_count": 30,
   "id": "131af73b-a9b4-4b7e-9d5b-04bd5c4436da",
   "metadata": {},
   "outputs": [],
   "source": [
    "# Helper function to plot the clusters so that points in different clusters have different color\n",
    "def print_plot(data):\n",
    "    colors = {0:'red', 1:'green', 2:'blue', 3:'orange', 4:'black', 5:'violet', 6:'yellow', 7:'grey'}\n",
    "    for c in range(len(data)):\n",
    "        for i in data[c]:\n",
    "            plt.scatter(*i, s=10, c=colors[c], alpha=0.5)\n",
    "    plt.show()"
   ]
  },
  {
   "cell_type": "code",
   "execution_count": 31,
   "id": "12899c2c-7df6-4a78-9767-5327e0d39508",
   "metadata": {},
   "outputs": [
    {
     "data": {
      "image/png": "[encoded data removed]",
      "text/plain": [
       "<Figure size 432x288 with 1 Axes>"
      ]
     },
     "metadata": {
      "needs_background": "light"
     },
     "output_type": "display_data"
    }
   ],
   "source": [
    "print_plot(samples_500_clustered)"
   ]
  },
  {
   "cell_type": "markdown",
   "id": "a369de90-6d71-4e9a-a870-cb6092bc5c20",
   "metadata": {},
   "source": [
    "We can observe 4 clusters from the plot above."
   ]
  },
  {
   "cell_type": "markdown",
   "id": "4d6d3395-d694-4e0e-abad-f9e781375955",
   "metadata": {},
   "source": [
    "### Part 2.b)"
   ]
  },
  {
   "cell_type": "code",
   "execution_count": 32,
   "id": "c5b29007-a241-41ed-a9b9-05e8a408b923",
   "metadata": {},
   "outputs": [],
   "source": [
    "# Helper function to initialize the centroids randomly within the enclosing rectangle whose vertices are given\n",
    "def randomly_initilize_centroids(num_clusters, x_min, y_min, x_max, y_max):\n",
    "    centroids = dict()\n",
    "    for i in range(num_clusters):\n",
    "        x = np.random.uniform(x_min, x_max) # Random x value\n",
    "        y = np.random.uniform(y_min, y_max) # Random y value\n",
    "        centroids[i] = [x,y]\n",
    "    return centroids\n",
    "\n",
    "# Helper function to find the sum of Euclidean distances of each point in data to the given centroid\n",
    "def intra_cluster_distance(data, centroid):\n",
    "    sum = 0\n",
    "    for s in data:\n",
    "        sum += np.sqrt((centroid[0] - s[0])**2 + (centroid[1] - s[1])**2) # Euclidean distance\n",
    "    return sum\n",
    "\n",
    "# Helper function to calculate the Euclidean distance that the centroid has been shifted for\n",
    "def shift_amount(new_centroid, old_centroid, num_clusters):\n",
    "    sum = 0\n",
    "    for i in range(num_clusters):\n",
    "        sum += np.sqrt((new_centroid[i][0] - old_centroid[i][0])**2 + (new_centroid[i][1] - old_centroid[i][1])**2) # Euclidean distance\n",
    "    return sum\n",
    "\n",
    "# Helper function to find the clusters based on the given centroids and set of points (data)\n",
    "def iteration(centroids, data, num_clusters):\n",
    "    centroids_clusters = dict()\n",
    "    for i in range(num_clusters):\n",
    "        centroids_clusters[i] = [] # Initialize empty cluster lists\n",
    "    for s in data:\n",
    "        min_dist = 1000000 # Initilize as a large number so that first iteration will change its value\n",
    "        cluster_index = -1 # Index of the cluster in which the point s will be included\n",
    "        for i in range(num_clusters):\n",
    "            current_dist = np.sqrt((centroids[i][0] - s[0])**2 + (centroids[i][1] - s[1])**2) # Euclidean distance\n",
    "            if current_dist < min_dist: # Update the minimum distance and index of corresponding cluster if needed\n",
    "                min_dist = current_dist\n",
    "                cluster_index = i\n",
    "        centroids_clusters[cluster_index].append(s) # Append the point to the cluster corresponding to its closest centroid\n",
    "    return centroids_clusters\n",
    "\n",
    "# Helper function to find the index of the cluster with maximum sum of intra-cluster distances, \n",
    "# i.e. maximum overall dissimilarity\n",
    "def get_max_intra_cluster_distance_index(data_multiple):\n",
    "    max_dist = -1 # Initilize as a negative number so that first iteration will change its value\n",
    "    max_index = -1 # Index of the cluster which has the maximum sum of intra-cluster distance\n",
    "    for i in range(len(data_multiple)):\n",
    "        current_dist = intra_cluster_distance(data_multiple[i][0], data_multiple[i][1])\n",
    "        if current_dist > max_dist: # Update the maximum distance and index of corresponding cluster if needed\n",
    "            max_dist = current_dist\n",
    "            max_index = i\n",
    "    return max_index\n",
    "\n",
    "# Helper function to vertices of the smallest rectangle containing all points \n",
    "# in the cluster, so that we can randomly select the centroid within the rectangle\n",
    "def get_min_max_in_cluster(cluster):\n",
    "    x_min, y_min = np.min(cluster, axis=0)\n",
    "    x_max, y_max = np.max(cluster, axis=0)\n",
    "    return x_min, y_min, x_max, y_max"
   ]
  },
  {
   "cell_type": "code",
   "execution_count": 33,
   "id": "4cc31bc6-f063-426c-8afd-ace66a570248",
   "metadata": {},
   "outputs": [],
   "source": [
    "# Algorithm of bisecting K-means (we tried plain K-means algorithm as well but its performance highly \n",
    "# depends on the initialization of centroids, which fails to create 4 clusters in some cases)\n",
    "def bisecting_k_means(K, data):\n",
    "    num_clusters = 1 # Counting the number of clusters at the moment\n",
    "    ITER_COUNT = 100 # This is the number of iterations we make for bisecting the selected cluster\n",
    "    current_clusters_and_centroids = dict() # Stores the clusters we have at the moment with their centroids\n",
    "    current_clusters_and_centroids[0] = [data, np.mean(data, axis=0)] # Initializes the cluster consisting of all data points as well as the centroid of the cluster\n",
    "    while num_clusters < K: # As long as there are less than K clusters, we keep bisecting\n",
    "        bisecting_index = get_max_intra_cluster_distance_index(current_clusters_and_centroids) # Get the index of the cluster with maximum sum of intra-cluster distances\n",
    "        bisecting_cluster = current_clusters_and_centroids[bisecting_index][0] # Select the cluster which will be bisected based on the index we found above\n",
    "        del current_clusters_and_centroids[bisecting_index] # Remove the cluster we are bisecting since it will be replaced by two new clusters\n",
    "        x_min, y_min, x_max, y_max = get_min_max_in_cluster(bisecting_cluster) # Get the enclosing points for random centroid generation\n",
    "        best_clusters_and_centroids = dict() # Keep the cluster pair with minimum total sum of intra-cluster distances\n",
    "        min_sum_of_distances = 1000000 # Initilize as a large number so that first iteration will change its value\n",
    "        for i in range(ITER_COUNT): # Bisecting is repeated ITER_COUNT times so that we will choose the best bisection with respect to the sum of intra-cluster distances\n",
    "            new_centroids = randomly_initilize_centroids(2, x_min, y_min, x_max, y_max) # Initialize the centroids randomly\n",
    "            has_empty_cluster = False # Check whether any resulting cluster is empty\n",
    "            last_shift = 1000000 # Calculate the sum of Euclidean distances between the centroids of both clusters\n",
    "            while last_shift > 0.001: # Continue until the centroids are almost not shifting\n",
    "                centroids = copy.deepcopy(new_centroids) # Copy the last value of new_centroids so that it can be compared with the updated value\n",
    "                centroids_clusters = iteration(centroids, bisecting_cluster, 2) # Detect the clusters given the centroids and the data points\n",
    "                if len(centroids_clusters[0]) == 0 or len(centroids_clusters[1]) == 0:\n",
    "                    has_empty_cluster = True # There is an empty cluster\n",
    "                    break\n",
    "                for i in range(2):\n",
    "                    new_centroids[i] = np.mean(centroids_clusters[i], axis=0) # Determine the new centroids of the new clusters\n",
    "                last_shift = shift_amount(new_centroids, centroids, 2)\n",
    "            if has_empty_cluster: # Skip this bisection since it contains an empty cluster\n",
    "                continue\n",
    "            converged_centroids_clusters = iteration(new_centroids, bisecting_cluster, 2) # Update the clusters using the updated centroids\n",
    "            current_sum_of_distances = 0\n",
    "            for i in range(2):\n",
    "                current_sum_of_distances += intra_cluster_distance(converged_centroids_clusters[i], new_centroids[i])\n",
    "            if current_sum_of_distances < min_sum_of_distances: # Compare the sum of intra-cluster distances of this bisection to the minimum of the previous ones and update if needed\n",
    "                min_sum_of_distances = current_sum_of_distances\n",
    "            for i in range(2):\n",
    "                best_clusters_and_centroids[i] = [converged_centroids_clusters[i], new_centroids[i]]\n",
    "        unadded_clusters = 2 # Number of new clusters that are not added to current clusters dictionary yet\n",
    "        index = 0 # Detect the first empty index in the dictionary\n",
    "        while unadded_clusters > 0: # Add both new clusters to current clusters dictionary\n",
    "            if index not in current_clusters_and_centroids:\n",
    "                current_clusters_and_centroids[index] = best_clusters_and_centroids[2 - unadded_clusters]\n",
    "                unadded_clusters -= 1\n",
    "            index += 1\n",
    "        num_clusters += 1 # Update the current number of clusters\n",
    "    list_of_final_clusters = [current_clusters_and_centroids[cluster][0] for cluster in current_clusters_and_centroids]\n",
    "    print_plot(list_of_final_clusters)"
   ]
  },
  {
   "cell_type": "code",
   "execution_count": 34,
   "id": "18a9bb63-5e94-4f75-9faf-08b979f5c4f7",
   "metadata": {},
   "outputs": [
    {
     "data": {
      "image/png": "[encoded data removed]",
      "text/plain": [
       "<Figure size 432x288 with 1 Axes>"
      ]
     },
     "metadata": {
      "needs_background": "light"
     },
     "output_type": "display_data"
    }
   ],
   "source": [
    "for i in range(1):\n",
    "    bisecting_k_means(4, samples_500) # Run the algorithm with K=4 and data=samples_500"
   ]
  },
  {
   "cell_type": "markdown",
   "id": "14df9246-a16b-4529-83ae-10d57ffbf372",
   "metadata": {},
   "source": [
    "Comparing this plot to the plot we printed after sampling, we can say that the algorithm is pretty successful in clustering different components correctly. Due to the nature of sampling there are some samples from each cluster which are closer to the centroid of another cluster than to its own cluster. In such cases these irregular points are incorrectly clustered, but other than that the algorithm successfully determines the centroid and the focus of density within the clusters."
   ]
  },
  {
   "cell_type": "markdown",
   "id": "d13c984c-35f7-45b4-b846-f0e3c72f6bbc",
   "metadata": {},
   "source": [
    "## References\n",
    "1. [Support Vector Machine: Python implementation using CVXOPT](https://xavierbourretsicotte.github.io/SVM_implementation.html)\n",
    "2. [Scikit-learn SVM](https://scikit-learn.org/stable/modules/svm.html)\n",
    "3. [Generate Samples from Mixture](https://stats.stackexchange.com/a/70861)\n",
    "4. [Sampling from Gaussian Mixture Model](https://medium.com/analytics-vidhya/sampling-from-gaussian-mixture-models-f1ab9cac2721)"
   ]
  }
 ],
 "metadata": {
  "interpreter": {
   "hash": "b0fa6594d8f4cbf19f97940f81e996739fb7646882a419484c72d19e05852a7e"
  },
  "kernelspec": {
   "display_name": "Python 3 (ipykernel)",
   "language": "python",
   "name": "python3"
  },
  "language_info": {
   "codemirror_mode": {
    "name": "ipython",
    "version": 3
   },
   "file_extension": ".py",
   "mimetype": "text/x-python",
   "name": "python",
   "nbconvert_exporter": "python",
   "pygments_lexer": "ipython3",
   "version": "3.9.5"
  }
 },
 "nbformat": 4,
 "nbformat_minor": 5
}
